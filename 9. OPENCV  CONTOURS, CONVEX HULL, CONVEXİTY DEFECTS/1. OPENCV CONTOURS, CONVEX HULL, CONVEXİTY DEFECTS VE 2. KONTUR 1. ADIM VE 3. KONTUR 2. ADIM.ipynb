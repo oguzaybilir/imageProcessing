{
 "cells": [
  {
   "cell_type": "markdown",
   "id": "385bdf88",
   "metadata": {},
   "source": [
    "# 1. OPENCV CONTOURS, CONVEX HULL, CONVEXİTY DEFECTS VE 2. KONTUR 1. ADIM VE 3. KONTUR 2. ADIM"
   ]
  },
  {
   "cell_type": "markdown",
   "id": "256e74d0",
   "metadata": {},
   "source": [
    "cv2.cvtColor() = elimdeki görüntüyü siyah beyaz yani 0 1 matrisine geçirmek için kullanacağım\n",
    "\n",
    "cv2.threshold() = Kaynak olarak alınan görüntü üzerindeki piksel,\n",
    "esikDegeri olarak verilen değerden büyükse maksDeger olarak verilen parametre değerine atanır.  \n",
    "\n",
    "threshold resimleri 0 ve 1 düzenine çekmek ve resmin istediğimiz parçalarını ön plana çıkartmak için kullanılır\n",
    "\n",
    "cv2.findContours = resmin kontürünü çıkarıyorum\n",
    "\n",
    "cv2.drawContours() = resmin kontürlerini çiziyorum\n",
    "\n",
    "\n",
    "convex = dış bükey\n",
    "\n",
    "hull = örtü\n",
    "\n",
    "convexity defects = dış bükey kusur\n",
    "\n",
    "\n",
    "\n"
   ]
  },
  {
   "cell_type": "code",
   "execution_count": 1,
   "id": "a18a9248",
   "metadata": {},
   "outputs": [],
   "source": [
    "import cv2\n",
    "\n",
    "img = cv2.imread(\"C:/Users/oguza/Desktop/opencvresimler/contour1.png\")\n",
    "\n",
    "gray = cv2.cvtColor(img, cv2.COLOR_BGR2GRAY)\n",
    "\n",
    "ret,thresh = cv2.threshold(gray,127,255,cv2.THRESH_BINARY)\n",
    "\n",
    "contours,ret = cv2.findContours(thresh,cv2.RETR_TREE,cv2.CHAIN_APPROX_SIMPLE)\n",
    "\n",
    "cv2.drawContours(img, contours,1, (0,0,255), thickness = 3)\n",
    "cv2.imshow(\"img\", img)\n",
    "cv2.waitKey(0)\n",
    "cv2.destroyAllWindows()"
   ]
  },
  {
   "cell_type": "markdown",
   "id": "c5394d74",
   "metadata": {},
   "source": [
    "cv2.RETR_TREE ve cv2.CHAIN_APPROX_SIMPLE argümanları default olarak girilen değerlerdir ve kontur bulma işleminin daha doğru olmasını sağlar"
   ]
  },
  {
   "cell_type": "code",
   "execution_count": 2,
   "id": "1061d06c",
   "metadata": {},
   "outputs": [
    {
     "ename": "error",
     "evalue": "OpenCV(4.5.4-dev) d:\\a\\opencv-python\\opencv-python\\opencv\\modules\\imgproc\\src\\color.simd_helpers.hpp:92: error: (-2:Unspecified error) in function '__cdecl cv::impl::`anonymous-namespace'::CvtHelper<struct cv::impl::`anonymous namespace'::Set<3,4,-1>,struct cv::impl::A0xd7e857bc::Set<3,-1,-1>,struct cv::impl::A0xd7e857bc::Set<0,5,-1>,2>::CvtHelper(const class cv::_InputArray &,const class cv::_OutputArray &,int)'\n> Invalid number of channels in input image:\n>     'VScn::contains(scn)'\n> where\n>     'scn' is 1\n",
     "output_type": "error",
     "traceback": [
      "\u001b[1;31m---------------------------------------------------------------------------\u001b[0m",
      "\u001b[1;31merror\u001b[0m                                     Traceback (most recent call last)",
      "\u001b[1;32m<ipython-input-2-9f67761d7f30>\u001b[0m in \u001b[0;36m<module>\u001b[1;34m\u001b[0m\n\u001b[0;32m     26\u001b[0m         \u001b[1;32mbreak\u001b[0m\u001b[1;33m\u001b[0m\u001b[1;33m\u001b[0m\u001b[0m\n\u001b[0;32m     27\u001b[0m     \u001b[1;31m#gray = cv2.cvtColor(frame,cv2.COLOR_BGR2GRAY)\u001b[0m\u001b[1;33m\u001b[0m\u001b[1;33m\u001b[0m\u001b[1;33m\u001b[0m\u001b[0m\n\u001b[1;32m---> 28\u001b[1;33m     \u001b[0mhsv\u001b[0m \u001b[1;33m=\u001b[0m \u001b[0mcv2\u001b[0m\u001b[1;33m.\u001b[0m\u001b[0mcvtColor\u001b[0m\u001b[1;33m(\u001b[0m\u001b[0mgray\u001b[0m\u001b[1;33m,\u001b[0m\u001b[0mcv2\u001b[0m\u001b[1;33m.\u001b[0m\u001b[0mCOLOR_BGR2HSV\u001b[0m\u001b[1;33m)\u001b[0m\u001b[1;33m\u001b[0m\u001b[1;33m\u001b[0m\u001b[0m\n\u001b[0m\u001b[0;32m     29\u001b[0m \u001b[1;31m# yeşil renk için renk değerleri\u001b[0m\u001b[1;33m\u001b[0m\u001b[1;33m\u001b[0m\u001b[1;33m\u001b[0m\u001b[0m\n\u001b[0;32m     30\u001b[0m     \u001b[0mlower_color\u001b[0m \u001b[1;33m=\u001b[0m \u001b[0mnp\u001b[0m\u001b[1;33m.\u001b[0m\u001b[0marray\u001b[0m\u001b[1;33m(\u001b[0m\u001b[1;33m[\u001b[0m\u001b[1;36m0\u001b[0m\u001b[1;33m,\u001b[0m\u001b[1;36m163\u001b[0m\u001b[1;33m,\u001b[0m\u001b[1;36m161\u001b[0m\u001b[1;33m]\u001b[0m\u001b[1;33m)\u001b[0m\u001b[1;33m\u001b[0m\u001b[1;33m\u001b[0m\u001b[0m\n",
      "\u001b[1;31merror\u001b[0m: OpenCV(4.5.4-dev) d:\\a\\opencv-python\\opencv-python\\opencv\\modules\\imgproc\\src\\color.simd_helpers.hpp:92: error: (-2:Unspecified error) in function '__cdecl cv::impl::`anonymous-namespace'::CvtHelper<struct cv::impl::`anonymous namespace'::Set<3,4,-1>,struct cv::impl::A0xd7e857bc::Set<3,-1,-1>,struct cv::impl::A0xd7e857bc::Set<0,5,-1>,2>::CvtHelper(const class cv::_InputArray &,const class cv::_OutputArray &,int)'\n> Invalid number of channels in input image:\n>     'VScn::contains(scn)'\n> where\n>     'scn' is 1\n"
     ]
    }
   ],
   "source": [
    "import cv2\n",
    "import numpy as np\n",
    "\n",
    "\n",
    "def findMaxContours(contours):\n",
    "    max_i = 0\n",
    "    max_area = 0\n",
    "\n",
    "    for i in range(len(contours)):\n",
    "        area_object = cv2.contourArea(contours[i])\n",
    "        if max_area < max_object:\n",
    "            max_area = max_object\n",
    "            max_i = i \n",
    "        try:\n",
    "            c = contours[max_i]\n",
    "        except:\n",
    "            contours = [0]\n",
    "            c = contours[0]\n",
    "        return c\n",
    "\n",
    "cap = cv2.VideoCapture(0,cv2.CAP_DSHOW)\n",
    "\n",
    "while True:\n",
    "    ret,frame = cap.read()\n",
    "    if ret is False:\n",
    "        break\n",
    "    #gray = cv2.cvtColor(frame,cv2.COLOR_BGR2GRAY)\n",
    "    hsv = cv2.cvtColor(gray,cv2.COLOR_BGR2HSV)\n",
    "# yeşil renk için renk değerleri\n",
    "    lower_color = np.array([0,163,161])\n",
    "    upper_color = np.array([92,255,255])\n",
    "\n",
    "    contours,ret = cv2.findContours(hsv,cv2.RETR_TREE,cv2.CHAIN_APPROX_SIMPLE)\n",
    "\n",
    "    rows,cols,_ = roi.shape\n",
    "\n",
    "\n",
    "    #for cnt in contours:\n",
    "     #   (x,y,w,h) = cv2.boundingRect(cnt)\n",
    "      #  cv2.rectangle(frame,(x,y),(x+w,y+h),(0,0,255),thickness=2)\n",
    "       # break\n",
    "\n",
    "    #if len(contours) == 0:\n",
    "     #   print(\"kontur yok\")\n",
    "\n",
    "\n",
    "    mask = cv2.inRange(hsv,lower_color,upper_color)\n",
    "    bitwise = cv2.bitwise_and(frame,frame,mask = mask)\n",
    "\n",
    "    if len(contours) > 0:\n",
    "        c = findMaxContours(contours)\n",
    "\n",
    "        (x,y,w,h) = cv2.boundingRect(cnt)\n",
    "        cv2.rectangle(roi,(x,y),(x+w,y+h),(255,0,0),thickness=2)\n",
    "        cv2.line(roi,(x+int(w/2),0),(x+int(w/2),rows),(0,255,0),2)\n",
    "        cv2.line(roi,(0,y+int(h/2)),(cols,y+int(h/2)),(0,255,0),2)\n",
    "        break\n",
    "\n",
    "    cv2.imshow(\"frame\",frame)\n",
    "    #cv2.imshow(\"mask\",mask)\n",
    "    #cv2.imshow(\"bitwise\",bitwise)\n",
    "\n",
    "    if cv2.waitKey(20) == ord('q'):\n",
    "        break\n",
    "\n",
    "cap.release()\n",
    "cv2.destroyAllWindows()"
   ]
  },
  {
   "cell_type": "code",
   "execution_count": null,
   "id": "5d1541d4",
   "metadata": {},
   "outputs": [],
   "source": []
  }
 ],
 "metadata": {
  "kernelspec": {
   "display_name": "Python 3",
   "language": "python",
   "name": "python3"
  },
  "language_info": {
   "codemirror_mode": {
    "name": "ipython",
    "version": 3
   },
   "file_extension": ".py",
   "mimetype": "text/x-python",
   "name": "python",
   "nbconvert_exporter": "python",
   "pygments_lexer": "ipython3",
   "version": "3.8.8"
  }
 },
 "nbformat": 4,
 "nbformat_minor": 5
}
