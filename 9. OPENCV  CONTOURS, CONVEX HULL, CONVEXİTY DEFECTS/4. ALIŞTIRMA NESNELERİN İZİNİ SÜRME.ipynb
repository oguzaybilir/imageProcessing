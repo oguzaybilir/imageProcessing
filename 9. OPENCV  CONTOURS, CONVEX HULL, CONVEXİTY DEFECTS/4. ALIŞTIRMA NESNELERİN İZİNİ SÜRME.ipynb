{
 "cells": [
  {
   "cell_type": "markdown",
   "id": "60834599",
   "metadata": {},
   "source": [
    "# 4. ALIŞTIRMA NESNELERİN İZİNİ SÜRME"
   ]
  },
  {
   "cell_type": "code",
   "execution_count": 3,
   "id": "a340ca37",
   "metadata": {},
   "outputs": [],
   "source": [
    "import cv2\n",
    "import numpy as np\n",
    "\n",
    "cap = cv2.VideoCapture(\"C:/Users/oguza/Desktop/opencvresimler/dog.mp4\")\n",
    "\n",
    "while True:\n",
    "    ret,frame = cap.read(1)\n",
    "    \n",
    "    hsv = cv2.cvtColor(frame, cv2.COLOR_BGR2HSV)\n",
    "    \n",
    "    sensivity = 15\n",
    "    \n",
    "    lower_white = np.array([0,0,255-sensivity])\n",
    "    upper_white = np.array([255,sensivity,255])\n",
    "    \n",
    "    mask = cv2.inRange(hsv,lower_white,upper_white)\n",
    "    \n",
    "    res = cv2.bitwise_and(frame,frame,mask = mask)\n",
    "    \n",
    "    cv2.imshow(\"frame\", frame)\n",
    "    cv2.imshow(\"mask\", mask)\n",
    "    cv2.imshow(\"result\", res)\n",
    "    \n",
    "    key = cv2.waitKey(0)\n",
    "    if key == 27:\n",
    "        break\n",
    "\n",
    "cap.release()        \n",
    "cv2.destroyAllWindows()\n",
    "    \n",
    "    "
   ]
  },
  {
   "cell_type": "code",
   "execution_count": null,
   "id": "888c9267",
   "metadata": {},
   "outputs": [],
   "source": []
  }
 ],
 "metadata": {
  "kernelspec": {
   "display_name": "Python 3",
   "language": "python",
   "name": "python3"
  },
  "language_info": {
   "codemirror_mode": {
    "name": "ipython",
    "version": 3
   },
   "file_extension": ".py",
   "mimetype": "text/x-python",
   "name": "python",
   "nbconvert_exporter": "python",
   "pygments_lexer": "ipython3",
   "version": "3.8.8"
  }
 },
 "nbformat": 4,
 "nbformat_minor": 5
}
