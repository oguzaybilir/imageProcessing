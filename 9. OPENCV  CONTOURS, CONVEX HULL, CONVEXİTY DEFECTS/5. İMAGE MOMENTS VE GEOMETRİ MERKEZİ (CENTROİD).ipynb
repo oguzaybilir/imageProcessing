{
 "cells": [
  {
   "cell_type": "markdown",
   "id": "f8f41851",
   "metadata": {},
   "source": [
    "# 5. İMAGE MOMENTS VE GEOMETRİ MERKEZİ (CENTROİD)"
   ]
  },
  {
   "cell_type": "code",
   "execution_count": 1,
   "id": "c2c9b668",
   "metadata": {},
   "outputs": [
    {
     "name": "stdout",
     "output_type": "stream",
     "text": [
      "{'m00': 15946170.0, 'm10': 2512158510.0, 'm01': 2140943280.0, 'm20': 568586636580.0, 'm11': 337099003380.0, 'm02': 422375441400.0, 'm30': 144203744893170.0, 'm21': 76698286353210.0, 'm12': 66530197502520.0, 'm03': 95616562341210.0, 'mu20': 172821360067.49454, 'mu11': -185051680.20017385, 'mu02': 134930987454.18369, 'mu30': 176115778254.94254, 'mu21': 417776338746.10736, 'mu12': 38890234024.70071, 'mu03': 2676311195639.5464, 'nu20': 0.0006796489325593326, 'nu11': -7.277467141054799e-07, 'nu02': 0.0005306386985763649, 'nu30': 1.7344320571703827e-07, 'nu21': 4.1143654579295836e-07, 'nu12': 3.8300071277915876e-08, 'nu03': 2.635697936139322e-06}\n"
     ]
    }
   ],
   "source": [
    "import cv2\n",
    "\n",
    "img = cv2.imread(\"C:/Users/oguza/Desktop/opencvresimler/contour.png\")\n",
    "\n",
    "gray = cv2.cvtColor(img, cv2.COLOR_BGR2GRAY)\n",
    "\n",
    "ret,thresh = cv2.threshold(gray,127,255,cv2.THRESH_BINARY)\n",
    "\n",
    "M = cv2.moments(thresh)\n",
    "\n",
    "X = int(M[\"m10\"]/M[\"m00\"]) \n",
    "Y = int(M[\"m01\"]/M[\"m00\"])\n",
    "\n",
    "cv2.circle(img,(X,Y),5,(0,0,0),-1)\n",
    "\n",
    "cv2.imshow(\"img\", img)\n",
    "print(M)\n",
    "\n",
    "cv2.waitKey(0)\n",
    "cv2.destroyAllWindows()"
   ]
  },
  {
   "cell_type": "markdown",
   "id": "1f3ed03f",
   "metadata": {},
   "source": [
    "üçgenin ağırlık merkezi bulunurken X değeri m10/m00 dır\n",
    "\n",
    "üçgenin ağırlık merkezi bulunurken Y değeri m01/m00 dır"
   ]
  },
  {
   "cell_type": "markdown",
   "id": "5e238e0f",
   "metadata": {},
   "source": [
    "threshold kullanarak resmi eşeledik\n",
    "\n",
    "sonra cv2.circle ile ağırlık merkezinin olduğu yere bir daire çizmesini istedik"
   ]
  },
  {
   "cell_type": "code",
   "execution_count": null,
   "id": "a7e2772b",
   "metadata": {},
   "outputs": [],
   "source": []
  }
 ],
 "metadata": {
  "kernelspec": {
   "display_name": "Python 3",
   "language": "python",
   "name": "python3"
  },
  "language_info": {
   "codemirror_mode": {
    "name": "ipython",
    "version": 3
   },
   "file_extension": ".py",
   "mimetype": "text/x-python",
   "name": "python",
   "nbconvert_exporter": "python",
   "pygments_lexer": "ipython3",
   "version": "3.8.8"
  }
 },
 "nbformat": 4,
 "nbformat_minor": 5
}
