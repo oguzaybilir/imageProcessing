{
 "cells": [
  {
   "cell_type": "markdown",
   "id": "4035f6a3",
   "metadata": {},
   "source": [
    "# 2. ÇİZİM EKRANI OLUŞTURMA"
   ]
  },
  {
   "cell_type": "code",
   "execution_count": 4,
   "id": "e703310e",
   "metadata": {},
   "outputs": [
    {
     "name": "stdout",
     "output_type": "stream",
     "text": [
      "[[[200 200 200]\n",
      "  [200 200 200]\n",
      "  [200 200 200]\n",
      "  ...\n",
      "  [200 200 200]\n",
      "  [200 200 200]\n",
      "  [200 200 200]]\n",
      "\n",
      " [[200 200 200]\n",
      "  [200 200 200]\n",
      "  [200 200 200]\n",
      "  ...\n",
      "  [200 200 200]\n",
      "  [200 200 200]\n",
      "  [200 200 200]]\n",
      "\n",
      " [[200 200 200]\n",
      "  [200 200 200]\n",
      "  [200 200 200]\n",
      "  ...\n",
      "  [200 200 200]\n",
      "  [200 200 200]\n",
      "  [200 200 200]]\n",
      "\n",
      " ...\n",
      "\n",
      " [[200 200 200]\n",
      "  [200 200 200]\n",
      "  [200 200 200]\n",
      "  ...\n",
      "  [200 200 200]\n",
      "  [200 200 200]\n",
      "  [200 200 200]]\n",
      "\n",
      " [[200 200 200]\n",
      "  [200 200 200]\n",
      "  [200 200 200]\n",
      "  ...\n",
      "  [200 200 200]\n",
      "  [200 200 200]\n",
      "  [200 200 200]]\n",
      "\n",
      " [[200 200 200]\n",
      "  [200 200 200]\n",
      "  [200 200 200]\n",
      "  ...\n",
      "  [200 200 200]\n",
      "  [200 200 200]\n",
      "  [200 200 200]]]\n"
     ]
    }
   ],
   "source": [
    "import cv2\n",
    "import numpy as np\n",
    "\n",
    "canvas = np.zeros((512,512,3),dtype = np.uint8) +200\n",
    "print(canvas)\n",
    "cv2.imshow(\"canvas\", canvas)\n",
    "cv2.waitKey(0)\n",
    "cv2.destroyAllWindows()"
   ]
  },
  {
   "cell_type": "markdown",
   "id": "46665cd4",
   "metadata": {},
   "source": [
    "canvas = np.zeros()   komutu ekranda siyah bir tuval oluşturur\n",
    "\n",
    "dtype = np.uint8 uint8 çizim yapmak için lazım olan dtype dır"
   ]
  },
  {
   "cell_type": "code",
   "execution_count": null,
   "id": "bc390319",
   "metadata": {},
   "outputs": [],
   "source": []
  },
  {
   "cell_type": "code",
   "execution_count": null,
   "id": "f7c81cd0",
   "metadata": {},
   "outputs": [],
   "source": []
  }
 ],
 "metadata": {
  "kernelspec": {
   "display_name": "Python 3",
   "language": "python",
   "name": "python3"
  },
  "language_info": {
   "codemirror_mode": {
    "name": "ipython",
    "version": 3
   },
   "file_extension": ".py",
   "mimetype": "text/x-python",
   "name": "python",
   "nbconvert_exporter": "python",
   "pygments_lexer": "ipython3",
   "version": "3.8.8"
  }
 },
 "nbformat": 4,
 "nbformat_minor": 5
}
