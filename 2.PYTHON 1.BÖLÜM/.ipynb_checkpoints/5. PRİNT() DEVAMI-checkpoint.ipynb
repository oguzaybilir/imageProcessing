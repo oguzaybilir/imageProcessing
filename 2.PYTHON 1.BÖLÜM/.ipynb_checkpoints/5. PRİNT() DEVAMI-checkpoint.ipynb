{
 "cells": [
  {
   "cell_type": "markdown",
   "id": "be89795e",
   "metadata": {},
   "source": [
    "# PRİNT()"
   ]
  },
  {
   "cell_type": "code",
   "execution_count": 1,
   "id": "18bed275",
   "metadata": {},
   "outputs": [
    {
     "name": "stdout",
     "output_type": "stream",
     "text": [
      "matematik notum:-->25-->fizik notum:-->80\n"
     ]
    }
   ],
   "source": [
    "print(\"matematik notum:\", \"25\", \"fizik notum:\" ,\"80\", sep=\"-->\")"
   ]
  },
  {
   "cell_type": "markdown",
   "id": "6c3f7f39",
   "metadata": {},
   "source": [
    "sep=\"\" komutu tırnak işaretleri arasına yazdığımız ifadeyi print() içindeki 2 virgül arasına yerleştirir"
   ]
  },
  {
   "cell_type": "code",
   "execution_count": 2,
   "id": "7a421e2b",
   "metadata": {
    "scrolled": true
   },
   "outputs": [
    {
     "name": "stdout",
     "output_type": "stream",
     "text": [
      "python cok eglenceli bir dil....:)\n"
     ]
    }
   ],
   "source": [
    "print(\"python cok eglenceli bir dil....:)\")"
   ]
  },
  {
   "cell_type": "code",
   "execution_count": null,
   "id": "f7a831c0",
   "metadata": {},
   "outputs": [],
   "source": [
    "x1=98"
   ]
  },
  {
   "cell_type": "markdown",
   "id": "f1c4d744",
   "metadata": {},
   "source": [
    "x1 değişkeni 98 değerini tutuyor"
   ]
  },
  {
   "cell_type": "code",
   "execution_count": 4,
   "id": "461d8d17",
   "metadata": {
    "scrolled": false
   },
   "outputs": [
    {
     "name": "stdout",
     "output_type": "stream",
     "text": [
      "x1 degiskeninin degeri: 98\n"
     ]
    }
   ],
   "source": [
    "print(\"x1 degiskeninin degeri:\", x1)"
   ]
  },
  {
   "cell_type": "markdown",
   "id": "5572bdf5",
   "metadata": {},
   "source": [
    "print(\"\") şeklindeki ifadede tırnak içindeki x1 string, tırnak işaretini dışındakli x1 ise integerdır."
   ]
  },
  {
   "cell_type": "code",
   "execution_count": 5,
   "id": "0174c5e9",
   "metadata": {},
   "outputs": [],
   "source": [
    "y1 = x1"
   ]
  },
  {
   "cell_type": "code",
   "execution_count": 6,
   "id": "b99859ec",
   "metadata": {},
   "outputs": [
    {
     "name": "stdout",
     "output_type": "stream",
     "text": [
      "x1'in degeri : 98 y1'in degeri 98\n"
     ]
    }
   ],
   "source": [
    "print(\"x1'in degeri :\",x1, \"y1'in degeri\", y1)"
   ]
  },
  {
   "cell_type": "code",
   "execution_count": 7,
   "id": "334ecb0b",
   "metadata": {},
   "outputs": [],
   "source": [
    "a = 50"
   ]
  },
  {
   "cell_type": "code",
   "execution_count": 8,
   "id": "39a87516",
   "metadata": {},
   "outputs": [
    {
     "data": {
      "text/plain": [
       "50"
      ]
     },
     "execution_count": 8,
     "metadata": {},
     "output_type": "execute_result"
    }
   ],
   "source": [
    "a"
   ]
  },
  {
   "cell_type": "code",
   "execution_count": 9,
   "id": "4ab8f072",
   "metadata": {},
   "outputs": [
    {
     "name": "stdout",
     "output_type": "stream",
     "text": [
      "a = 0000.50\n"
     ]
    }
   ],
   "source": [
    "print(\"a = \", a,sep=\"0000.\")"
   ]
  },
  {
   "cell_type": "markdown",
   "id": "d03dcc35",
   "metadata": {},
   "source": [
    "burada sep komutu işini yaptı ve 2 virgül arasına sep=\"\" tırnak arasındaki ifadeyi yazdırdı"
   ]
  },
  {
   "cell_type": "code",
   "execution_count": 10,
   "id": "3e4b160d",
   "metadata": {
    "scrolled": true
   },
   "outputs": [
    {
     "name": "stdout",
     "output_type": "stream",
     "text": [
      "a = 0000.50"
     ]
    }
   ],
   "source": [
    "print(\"a = \", a, sep=\"0000.\",end=\"\")"
   ]
  },
  {
   "cell_type": "markdown",
   "id": "950ee566",
   "metadata": {},
   "source": [
    "end=\"\" ifadesi sep=\"\" ifadesine benzer şekilde çalışır ama adından anlaşılabileceği gibi satırın sonunda görev yapar"
   ]
  },
  {
   "cell_type": "code",
   "execution_count": 11,
   "id": "9703dde4",
   "metadata": {},
   "outputs": [
    {
     "name": "stdout",
     "output_type": "stream",
     "text": [
      "a =0000.50\n",
      "\n",
      "\n"
     ]
    }
   ],
   "source": [
    "print(\"a =\",a,sep=\"0000.\",end=\"\\n\\n\\n\")"
   ]
  },
  {
   "cell_type": "markdown",
   "id": "20ca5f91",
   "metadata": {},
   "source": [
    "end=\"\" ifadesi kod satırımız çalıştıktan sonra yazdığımız n sayısı kadar alt satıra geçti"
   ]
  },
  {
   "cell_type": "code",
   "execution_count": 12,
   "id": "426137d2",
   "metadata": {},
   "outputs": [
    {
     "name": "stdout",
     "output_type": "stream",
     "text": [
      "a = 0000.50-->"
     ]
    }
   ],
   "source": [
    "print(\"a = \",a,sep=\"0000.\",end=\"-->\")"
   ]
  },
  {
   "cell_type": "code",
   "execution_count": 13,
   "id": "3576a630",
   "metadata": {},
   "outputs": [
    {
     "ename": "SyntaxError",
     "evalue": "EOL while scanning string literal (<ipython-input-13-ee5fa20ef87a>, line 1)",
     "output_type": "error",
     "traceback": [
      "\u001b[1;36m  File \u001b[1;32m\"<ipython-input-13-ee5fa20ef87a>\"\u001b[1;36m, line \u001b[1;32m1\u001b[0m\n\u001b[1;33m    print(\"a = \",a,sep=\"0000.\",end=\"\\t\\t\\\")\u001b[0m\n\u001b[1;37m                                           ^\u001b[0m\n\u001b[1;31mSyntaxError\u001b[0m\u001b[1;31m:\u001b[0m EOL while scanning string literal\n"
     ]
    }
   ],
   "source": [
    "print(\"a = \",a,sep=\"0000.\",end=\"\\t\\t\\\")"
   ]
  },
  {
   "cell_type": "code",
   "execution_count": 14,
   "id": "d3856716",
   "metadata": {},
   "outputs": [
    {
     "name": "stdout",
     "output_type": "stream",
     "text": [
      "a = 0000.50\t\t"
     ]
    }
   ],
   "source": [
    "print(\"a = \", a, sep=\"0000.\", end=\"\\t\\t\")"
   ]
  },
  {
   "cell_type": "code",
   "execution_count": null,
   "id": "28b73504",
   "metadata": {},
   "outputs": [],
   "source": []
  }
 ],
 "metadata": {
  "kernelspec": {
   "display_name": "Python 3",
   "language": "python",
   "name": "python3"
  },
  "language_info": {
   "codemirror_mode": {
    "name": "ipython",
    "version": 3
   },
   "file_extension": ".py",
   "mimetype": "text/x-python",
   "name": "python",
   "nbconvert_exporter": "python",
   "pygments_lexer": "ipython3",
   "version": "3.8.8"
  }
 },
 "nbformat": 4,
 "nbformat_minor": 5
}
