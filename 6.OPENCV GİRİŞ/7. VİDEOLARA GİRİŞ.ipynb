{
 "cells": [
  {
   "cell_type": "markdown",
   "id": "177f5b3b",
   "metadata": {},
   "source": [
    "#  7. VİDEOLARA GİRİŞ"
   ]
  },
  {
   "cell_type": "code",
   "execution_count": null,
   "id": "644bf616",
   "metadata": {},
   "outputs": [],
   "source": [
    "VİDEOLARA GİRİŞ video dediğimiz şey binlerce ve daha fazla karenin ardarda gelmesidir\n",
    "\n"
   ]
  },
  {
   "cell_type": "code",
   "execution_count": null,
   "id": "6eb1ba22",
   "metadata": {},
   "outputs": [],
   "source": [
    "import cv2\n",
    "\n",
    "cap = cv2.VideoCapture(0)\n",
    "\n",
    "while True:\n",
    "    ret,frame = cap.read()\n",
    "    if ret is False:\n",
    "        break\n",
    "        \n",
    "    frame = cv2.resize(frame,(640,480))\n",
    "    \n",
    "    cv2.imshow(\"frame\", frame)\n",
    "    \n",
    "    if cv2.waitKey(20) == ord('q'):\n",
    "        break\n",
    "    \n",
    "cap.release()\n",
    "cv2.destroyAllWindows()"
   ]
  },
  {
   "cell_type": "code",
   "execution_count": null,
   "id": "90b36561",
   "metadata": {},
   "outputs": [],
   "source": []
  }
 ],
 "metadata": {
  "kernelspec": {
   "display_name": "Python 3",
   "language": "python",
   "name": "python3"
  },
  "language_info": {
   "codemirror_mode": {
    "name": "ipython",
    "version": 3
   },
   "file_extension": ".py",
   "mimetype": "text/x-python",
   "name": "python",
   "nbconvert_exporter": "python",
   "pygments_lexer": "ipython3",
   "version": "3.8.8"
  }
 },
 "nbformat": 4,
 "nbformat_minor": 5
}
