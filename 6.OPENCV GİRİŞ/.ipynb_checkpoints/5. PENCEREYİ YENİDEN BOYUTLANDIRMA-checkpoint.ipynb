{
 "cells": [
  {
   "cell_type": "markdown",
   "id": "69390c39",
   "metadata": {},
   "source": [
    "# 5.PENCEREYİ YENİDEN BOYUTLANDIRMA"
   ]
  },
  {
   "cell_type": "code",
   "execution_count": 4,
   "id": "c148286c",
   "metadata": {},
   "outputs": [],
   "source": [
    "import cv2\n",
    "\n",
    "\n",
    "img = cv2.imread(\"C:/Users/oguza/Desktop/sugar.jpg\")\n",
    "cv2.namedWindow('img', cv2.WINDOW_NORMAL)\n",
    "img = cv2.resize(img, (1080,720))\n",
    "\n",
    "cv2.imshow(\"img\", img)\n",
    "cv2.waitKey(0)\n",
    "cv2.destroyAllWindows()"
   ]
  },
  {
   "cell_type": "markdown",
   "id": "7999938d",
   "metadata": {},
   "source": [
    "elimizdeki resmi düzgün bir şekilde belirli bir çözünürlükte görüntülemek için \n",
    "\n",
    "img   = cv2.resize(img, (800,600))  komutu kullanılır"
   ]
  },
  {
   "cell_type": "markdown",
   "id": "54dc1929",
   "metadata": {},
   "source": [
    "kalan kısım  ve img = cv2.resize(img, (800,600)) den öncesi normal şekilde yazılıyor herhangi bir fark yok"
   ]
  },
  {
   "cell_type": "code",
   "execution_count": null,
   "id": "5107d3fe",
   "metadata": {},
   "outputs": [],
   "source": []
  }
 ],
 "metadata": {
  "kernelspec": {
   "display_name": "Python 3",
   "language": "python",
   "name": "python3"
  },
  "language_info": {
   "codemirror_mode": {
    "name": "ipython",
    "version": 3
   },
   "file_extension": ".py",
   "mimetype": "text/x-python",
   "name": "python",
   "nbconvert_exporter": "python",
   "pygments_lexer": "ipython3",
   "version": "3.8.8"
  }
 },
 "nbformat": 4,
 "nbformat_minor": 5
}
