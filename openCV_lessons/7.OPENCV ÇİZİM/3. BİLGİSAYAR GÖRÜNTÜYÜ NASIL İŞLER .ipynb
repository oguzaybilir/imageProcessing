{
 "cells": [
  {
   "cell_type": "markdown",
   "id": "c3b5295d",
   "metadata": {},
   "source": [
    "# BİLGİSAYAR GÖRÜNTÜYÜ NASIL İŞLER "
   ]
  },
  {
   "cell_type": "code",
   "execution_count": 5,
   "id": "20e052f8",
   "metadata": {},
   "outputs": [],
   "source": [
    "import cv2\n",
    "import numpy as np\n",
    "\n",
    "img = np.zeros((10,10,3), np.uint8)\n",
    "\n",
    "img[0,0] = (255,255,255)\n",
    "img[0,1] = (255,255,200)\n",
    "img[0,2] = (255,255,150)\n",
    "img[0,3] = (255,255,100)\n",
    "img[0,4] = (255,255,50)\n",
    "\n",
    "img = cv2.resize(img, (1000,1000), interpolation = cv2.INTER_AREA)\n",
    "\n",
    "cv2.imshow(\"canvas\", img)\n",
    "cv2.waitKey(0)\n",
    "cv2.destroyAllWindows()"
   ]
  },
  {
   "cell_type": "code",
   "execution_count": null,
   "id": "53d8d32d",
   "metadata": {},
   "outputs": [],
   "source": [
    "img[0,0] = (255,255,255) ve diğer komutlar her bir pikselin rengini ayarlar\n"
   ]
  }
 ],
 "metadata": {
  "kernelspec": {
   "display_name": "Python 3",
   "language": "python",
   "name": "python3"
  },
  "language_info": {
   "codemirror_mode": {
    "name": "ipython",
    "version": 3
   },
   "file_extension": ".py",
   "mimetype": "text/x-python",
   "name": "python",
   "nbconvert_exporter": "python",
   "pygments_lexer": "ipython3",
   "version": "3.8.8"
  }
 },
 "nbformat": 4,
 "nbformat_minor": 5
}
