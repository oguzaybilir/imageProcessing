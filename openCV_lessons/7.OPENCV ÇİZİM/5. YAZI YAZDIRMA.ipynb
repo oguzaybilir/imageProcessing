{
 "cells": [
  {
   "cell_type": "markdown",
   "id": "e257175a",
   "metadata": {},
   "source": [
    "# 5. YAZI YAZDIRMA"
   ]
  },
  {
   "cell_type": "code",
   "execution_count": 10,
   "id": "b3aebea6",
   "metadata": {},
   "outputs": [],
   "source": [
    "import cv2\n",
    "import numpy as np\n",
    "\n",
    "canvas = np.zeros((512,512,3), dtype= np.uint8) + 255\n",
    "\n",
    "font1 = cv2.FONT_HERSHEY_SIMPLEX\n",
    "font2 = cv2.FONT_HERSHEY_COMPLEX\n",
    "font3 = cv2.FONT_HERSHEY_SCRIPT_COMPLEX\n",
    "\n",
    "cv2.putText(canvas, \"OpenCv\", (75,50), font1, 2, (0,0,0), cv2.LINE_AA)\n",
    "\n",
    "cv2.imshow(\"canvas\", canvas)\n",
    "cv2.waitKey(0)\n",
    "cv2.destroyAllWindows()\n",
    "\n"
   ]
  },
  {
   "cell_type": "markdown",
   "id": "79b7018a",
   "metadata": {},
   "source": [
    "(75,50) yazının ekrandaki yeridir, font1 fonttur, 2 fontun büyüklüğüdür, cv2.LINE_AA varsayılan yazı tipidir"
   ]
  },
  {
   "cell_type": "code",
   "execution_count": null,
   "id": "b83386c8",
   "metadata": {},
   "outputs": [],
   "source": []
  }
 ],
 "metadata": {
  "kernelspec": {
   "display_name": "Python 3",
   "language": "python",
   "name": "python3"
  },
  "language_info": {
   "codemirror_mode": {
    "name": "ipython",
    "version": 3
   },
   "file_extension": ".py",
   "mimetype": "text/x-python",
   "name": "python",
   "nbconvert_exporter": "python",
   "pygments_lexer": "ipython3",
   "version": "3.8.8"
  }
 },
 "nbformat": 4,
 "nbformat_minor": 5
}
