{
 "cells": [
  {
   "cell_type": "markdown",
   "id": "2a65e840",
   "metadata": {},
   "source": [
    "# 4. ÇİZİM FONKSİYONLARI"
   ]
  },
  {
   "cell_type": "code",
   "execution_count": 5,
   "id": "354b03d4",
   "metadata": {},
   "outputs": [],
   "source": [
    "import cv2\n",
    "import numpy as np\n",
    "\n",
    "canvas = np.zeros((512,512,3), dtype=np.uint8) +255\n",
    "#print(canvas) bunu koda ekleyince çıktı olarak 0 lar veriyor\n",
    "cv2.line(canvas, (200,250),(512,512),(0,0,255), thickness = 5)\n",
    "cv2.line(canvas, (50,50), (512,512), (255,0,0), thickness = 7)\n",
    "cv2.rectangle(canvas, (20,20), (50,50), (0,255,0), thickness = -1)\n",
    "cv2.circle(canvas, (250,250),100,(0,0,255), thickness = -1)\n",
    "\n",
    "p1 = (100,200)\n",
    "p2 = (50,50)\n",
    "p3 = (300,100)\n",
    "\n",
    "#Üçgen oluşturmak için\n",
    "cv2.line(canvas, p1,p2, (0,0,0), 4)\n",
    "cv2.line(canvas, p2,p3, (0,0,0), 4)\n",
    "cv2.line(canvas, p1,p3, (0,0,0), 4)\n",
    "-\n",
    "#düzgün olmayan şekiller için\n",
    "points = np.array([[[110,200],[330,200],[290,220],[100,100]]], np.int32)\n",
    "cv2.polylines(canvas, [points], True, (0,0,100), thickness = 5)\n",
    "\n",
    "\n",
    "\n",
    "cv2.ellipse(canvas, (300,300), (80,20), 10, 90,360, (0,255,0), thickness = -1)\n",
    "\n",
    "cv2.imshow(\"canvas\", canvas)\n",
    "cv2.waitKey(0)\n",
    "cv2.destroyAllWindows()"
   ]
  },
  {
   "cell_type": "markdown",
   "id": "38049113",
   "metadata": {},
   "source": [
    "thickness = -1 olursa çizdirdiğimiz şeklin içi dolu olur\n",
    "\n",
    "cv2.rectangle = dikdörtgen veya kare oluşturuyor\n",
    "\n",
    "cv2.circle = daire veya çember oluşturur\n",
    "\n",
    "cv2.polylines(canvas, [points], True, (0,0,255), thickness = 5)  \n",
    "komutu çoklu çizgiler çekmemizi sağlar, points array i ile çizgilerin koordinatlarını girmemiz, eğer şekil kapalı olsun istiyorsak True, istemiyorsak false yazmamız, renk ve çizgi kalınlığı belirlemememiz gereklidir\n",
    "\n",
    "cv2.ellipse(canvas, (300,300), (80,20), 10, 90,360, (0,255,0), thickness = -1) komutundaki 10 elipsin yaptığı açı, (0,255,0) ise rengi belirler\n"
   ]
  },
  {
   "cell_type": "code",
   "execution_count": null,
   "id": "0a40f33d",
   "metadata": {},
   "outputs": [],
   "source": []
  }
 ],
 "metadata": {
  "kernelspec": {
   "display_name": "Python 3",
   "language": "python",
   "name": "python3"
  },
  "language_info": {
   "codemirror_mode": {
    "name": "ipython",
    "version": 3
   },
   "file_extension": ".py",
   "mimetype": "text/x-python",
   "name": "python",
   "nbconvert_exporter": "python",
   "pygments_lexer": "ipython3",
   "version": "3.8.8"
  }
 },
 "nbformat": 4,
 "nbformat_minor": 5
}
