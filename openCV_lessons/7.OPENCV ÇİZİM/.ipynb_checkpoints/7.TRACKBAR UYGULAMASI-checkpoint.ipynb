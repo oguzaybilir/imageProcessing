{
 "cells": [
  {
   "cell_type": "markdown",
   "id": "3a3e20b9",
   "metadata": {},
   "source": [
    "# 7.TRACKBAR UYGULAMASI"
   ]
  },
  {
   "cell_type": "code",
   "execution_count": null,
   "id": "425009ff",
   "metadata": {},
   "outputs": [],
   "source": [
    "import cv2\n",
    "import numpy as np\n",
    "\n",
    "def nothing(x):\n",
    "    pass\n",
    "\n",
    "img = np.zeros((512,512,3), np.uint8)\n",
    "cv2.namedWindow(\"image\")\n",
    "\n",
    "cv2.createTrackbar(\"R\", \"image\", 0, 255,nothing)\n",
    "cv2.createTrackbar(\"G\", \"image\", 0, 255,nothing)\n",
    "cv2.createTrackbar(\"B\", \"image\", 0, 255,nothing)\n",
    "\n",
    "switch = \"0: OFF, 1: ON\"\n",
    "cv2.createTrackbar(switch, \"image\", 0, 1, nothing)\n",
    "\n",
    "\n",
    "while True:\n",
    "    cv2.imshow(\"image\", img)\n",
    "    if cv2.waitKey(1) & 0xFF == ord(\"q\"):\n",
    "        break\n",
    "    \n",
    "    r = cv2.getTrackbarPos(\"R\", \"image\")\n",
    "    g = cv2.getTrackbarPos(\"G\", \"image\")\n",
    "    b = cv2.getTrackbarPos(\"B\", \"image\")\n",
    "    s = cv2.getTrackbarPos(switch, \"image\")\n",
    "    img[:] = [b, g, r]\n",
    "    \n",
    "    if s == 0:\n",
    "        img[:] == [0,0,0]\n",
    "    if s == 1:\n",
    "        img[:] = [b, g, r]\n",
    "cv2.waitKey(0)\n",
    "cv2.destroyAllWindows()\n",
    "\n",
    "\n"
   ]
  },
  {
   "cell_type": "markdown",
   "id": "f017ba76",
   "metadata": {},
   "source": [
    "cv2.getTrackbarPos(\"R\", \"image\")    komutu trackbarımızdaki R G B değerlerinin değişmesi için"
   ]
  },
  {
   "cell_type": "code",
   "execution_count": null,
   "id": "8b5537b6",
   "metadata": {},
   "outputs": [],
   "source": []
  }
 ],
 "metadata": {
  "kernelspec": {
   "display_name": "Python 3",
   "language": "python",
   "name": "python3"
  },
  "language_info": {
   "codemirror_mode": {
    "name": "ipython",
    "version": 3
   },
   "file_extension": ".py",
   "mimetype": "text/x-python",
   "name": "python",
   "nbconvert_exporter": "python",
   "pygments_lexer": "ipython3",
   "version": "3.8.8"
  }
 },
 "nbformat": 4,
 "nbformat_minor": 5
}
