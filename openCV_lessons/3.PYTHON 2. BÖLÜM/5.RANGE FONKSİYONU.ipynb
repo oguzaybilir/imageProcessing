{
 "cells": [
  {
   "cell_type": "markdown",
   "id": "74666e4c",
   "metadata": {},
   "source": [
    "# 5.RANGE FONKSİYONU"
   ]
  },
  {
   "cell_type": "code",
   "execution_count": 7,
   "id": "aeeb3f66",
   "metadata": {},
   "outputs": [
    {
     "data": {
      "text/plain": [
       "range(2, 8)"
      ]
     },
     "execution_count": 7,
     "metadata": {},
     "output_type": "execute_result"
    }
   ],
   "source": [
    "range(2, 8)"
   ]
  },
  {
   "cell_type": "markdown",
   "id": "86078c58",
   "metadata": {},
   "source": [
    "range(başlangıç değeri, bitiş değeri(bitiş değeri ekrana yazdırılmayacaktır.), artış miktarı)"
   ]
  },
  {
   "cell_type": "code",
   "execution_count": 10,
   "id": "dbb574e4",
   "metadata": {},
   "outputs": [
    {
     "name": "stdout",
     "output_type": "stream",
     "text": [
      "0\n",
      "1\n",
      "2\n",
      "3\n",
      "4\n"
     ]
    }
   ],
   "source": [
    "for x in range(5):\n",
    "    print(x)"
   ]
  },
  {
   "cell_type": "code",
   "execution_count": 17,
   "id": "699cf127",
   "metadata": {},
   "outputs": [
    {
     "name": "stdout",
     "output_type": "stream",
     "text": [
      "2\n",
      "13\n",
      "24\n",
      "35\n",
      "46\n",
      "57\n",
      "68\n"
     ]
    }
   ],
   "source": [
    "for x in range(2,72,11):\n",
    "    print(x)"
   ]
  },
  {
   "cell_type": "code",
   "execution_count": null,
   "id": "7d0a6165",
   "metadata": {},
   "outputs": [],
   "source": []
  }
 ],
 "metadata": {
  "kernelspec": {
   "display_name": "Python 3",
   "language": "python",
   "name": "python3"
  },
  "language_info": {
   "codemirror_mode": {
    "name": "ipython",
    "version": 3
   },
   "file_extension": ".py",
   "mimetype": "text/x-python",
   "name": "python",
   "nbconvert_exporter": "python",
   "pygments_lexer": "ipython3",
   "version": "3.8.8"
  }
 },
 "nbformat": 4,
 "nbformat_minor": 5
}
