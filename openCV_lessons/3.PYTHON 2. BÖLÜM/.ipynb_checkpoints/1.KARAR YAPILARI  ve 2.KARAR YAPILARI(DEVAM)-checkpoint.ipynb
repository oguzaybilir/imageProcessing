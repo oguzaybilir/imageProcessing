{
 "cells": [
  {
   "cell_type": "markdown",
   "id": "72319137",
   "metadata": {},
   "source": [
    "# 1. KARAR YAPILARI VE 2.KARAR YAPILARI(DEVAM)"
   ]
  },
  {
   "cell_type": "markdown",
   "id": "2948fbba",
   "metadata": {},
   "source": [
    "BAŞLANGIÇ OLARAK İF YAPISINI KULLANACAĞIZ"
   ]
  },
  {
   "cell_type": "code",
   "execution_count": 1,
   "id": "cf79f725",
   "metadata": {},
   "outputs": [
    {
     "name": "stdout",
     "output_type": "stream",
     "text": [
      "lütfen bir tamsayı giriniz78\n"
     ]
    }
   ],
   "source": [
    "a = int(input(\"lütfen bir tamsayı giriniz\"))"
   ]
  },
  {
   "cell_type": "code",
   "execution_count": 2,
   "id": "753dcefd",
   "metadata": {},
   "outputs": [
    {
     "data": {
      "text/plain": [
       "78"
      ]
     },
     "execution_count": 2,
     "metadata": {},
     "output_type": "execute_result"
    }
   ],
   "source": [
    "a"
   ]
  },
  {
   "cell_type": "code",
   "execution_count": 3,
   "id": "a8991181",
   "metadata": {},
   "outputs": [
    {
     "name": "stdout",
     "output_type": "stream",
     "text": [
      "lütfen bir tamsayı giriniz-13\n"
     ]
    }
   ],
   "source": [
    "b = int(input(\"lütfen bir tamsayı giriniz\"))"
   ]
  },
  {
   "cell_type": "code",
   "execution_count": 5,
   "id": "5327c282",
   "metadata": {},
   "outputs": [
    {
     "data": {
      "text/plain": [
       "-13"
      ]
     },
     "execution_count": 5,
     "metadata": {},
     "output_type": "execute_result"
    }
   ],
   "source": [
    "b"
   ]
  },
  {
   "cell_type": "code",
   "execution_count": 10,
   "id": "cf8fea0b",
   "metadata": {},
   "outputs": [
    {
     "name": "stdout",
     "output_type": "stream",
     "text": [
      "a, b'den büyüktür.\n"
     ]
    }
   ],
   "source": [
    "if a>b:\n",
    "    print(\"a, b'den büyüktür.\")\n",
    "elif b>a:\n",
    "    print(\"b, a'dan büyüktür.\")\n",
    "else:\n",
    "    print(\"a, b'ye eşittir\")"
   ]
  },
  {
   "cell_type": "markdown",
   "id": "4730c251",
   "metadata": {},
   "source": [
    "elif eğer buysa demektir"
   ]
  },
  {
   "cell_type": "code",
   "execution_count": 11,
   "id": "8f5509f2",
   "metadata": {},
   "outputs": [
    {
     "name": "stdout",
     "output_type": "stream",
     "text": [
      "bir sayı giriniz:0\n"
     ]
    }
   ],
   "source": [
    "x = int(input(\"bir sayı giriniz:\"))"
   ]
  },
  {
   "cell_type": "code",
   "execution_count": 12,
   "id": "40e9c9cc",
   "metadata": {},
   "outputs": [
    {
     "name": "stdout",
     "output_type": "stream",
     "text": [
      "bir sayı daha giriniz:9\n"
     ]
    }
   ],
   "source": [
    "y = int(input(\"bir sayı daha giriniz:\"))"
   ]
  },
  {
   "cell_type": "code",
   "execution_count": 14,
   "id": "f8401795",
   "metadata": {
    "scrolled": true
   },
   "outputs": [
    {
     "name": "stdout",
     "output_type": "stream",
     "text": [
      "iki sayı birbirine eşit değildir\n"
     ]
    }
   ],
   "source": [
    "if x==y:\n",
    "    print(\"iki sayı birbirine eşittir\")\n",
    "elif x != y:\n",
    "    print(\"iki sayı birbirine eşit değildir\")\n",
    "    "
   ]
  }
 ],
 "metadata": {
  "kernelspec": {
   "display_name": "Python 3",
   "language": "python",
   "name": "python3"
  },
  "language_info": {
   "codemirror_mode": {
    "name": "ipython",
    "version": 3
   },
   "file_extension": ".py",
   "mimetype": "text/x-python",
   "name": "python",
   "nbconvert_exporter": "python",
   "pygments_lexer": "ipython3",
   "version": "3.8.8"
  }
 },
 "nbformat": 4,
 "nbformat_minor": 5
}
