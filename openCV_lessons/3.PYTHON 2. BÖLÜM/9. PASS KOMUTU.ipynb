{
 "cells": [
  {
   "cell_type": "markdown",
   "id": "c9e8cdd6",
   "metadata": {},
   "source": [
    "# 9. PASS KOMUTU"
   ]
  },
  {
   "cell_type": "markdown",
   "id": "e2a81d57",
   "metadata": {},
   "source": [
    "pass geç, devam et demektir"
   ]
  },
  {
   "cell_type": "code",
   "execution_count": 2,
   "id": "f40a5e05",
   "metadata": {},
   "outputs": [
    {
     "name": "stdout",
     "output_type": "stream",
     "text": [
      "güncel harf: p\n",
      "güncel harf: y\n",
      "güncel harf: t\n",
      "güncel harf: h\n",
      "pass blogu...\n",
      "güncel harf: o\n",
      "güncel harf: n\n"
     ]
    }
   ],
   "source": [
    "for harf in 'python':\n",
    "    if harf == 'o':\n",
    "        print(\"pass blogu...\")\n",
    "        pass\n",
    "    print(\"güncel harf:\", harf)"
   ]
  },
  {
   "cell_type": "code",
   "execution_count": null,
   "id": "7ea4e536",
   "metadata": {},
   "outputs": [],
   "source": []
  }
 ],
 "metadata": {
  "kernelspec": {
   "display_name": "Python 3",
   "language": "python",
   "name": "python3"
  },
  "language_info": {
   "codemirror_mode": {
    "name": "ipython",
    "version": 3
   },
   "file_extension": ".py",
   "mimetype": "text/x-python",
   "name": "python",
   "nbconvert_exporter": "python",
   "pygments_lexer": "ipython3",
   "version": "3.8.8"
  }
 },
 "nbformat": 4,
 "nbformat_minor": 5
}
