{
 "cells": [
  {
   "cell_type": "code",
   "execution_count": 14,
   "id": "bbe03896",
   "metadata": {},
   "outputs": [],
   "source": [
    "import cv2\n",
    "import numpy as np\n",
    "\n",
    "font = cv2.FONT_HERSHEY_SIMPLEX # BU BİR FONTTUR \n",
    "font1 = cv2.FONT_HERSHEY_SIMPLEX # BU DA BAŞKA BİR FONTTUR\n",
    "\n",
    "img = cv2.imread(\"C:/Users/oguza/Desktop/opencvresimler/polygons.png.png\")\n",
    "\n",
    "gray = cv2.cvtColor(img, cv2.COLOR_BGR2GRAY)\n",
    "ret, threshold = cv2.threshold(gray,240,255,cv2.THRESH_BINARY) # cv2.threshold 4 parametre ile çalışır bunlardan birincisi resmin griye dönmüş hali, diğeri threshold min değeri threshold maks değeri ve default olan cv2.THRESH_BINARY DEĞERİ\n",
    "\n",
    "contours, ret = cv2.findContours(threshold, cv2.RETR_TREE, cv2.CHAIN_APPROX_SIMPLE) # cv2.findContours içinde 3 parametre gerekir birincisi threshold, diğerleri default olan değerler moruk\n",
    "\n",
    "for cnt in contours:\n",
    "    epsilon = 0.01*cv2.arcLength(cnt,True) #içine iki değer alır ve kontürlerin daha iyi bulunması için kullanılır\n",
    "    approx = cv2.approxPolyDP(cnt, epsilon,True)\n",
    "    \n",
    "    cv2.drawContours(img,[approx],0,(0),5) #\n",
    "    \n",
    "    x = approx.ravel()[0] # ravel tüm sütunları sıralara döker bizde bunu approx a uyguluyoruz ve bunun 0. indisindeki değer x, 1. indisindekşi değer y değerini verecektir\n",
    "    y = approx.ravel()[1]\n",
    "    \n",
    "\n",
    "    if len(approx) == 3:\n",
    "        cv2.putText(img,\"triangle\",(x,y),font1,1,(0))\n",
    "\n",
    "    if len(approx) == 4:\n",
    "        cv2.putText(img,\"rectangle\",(x,y),font1,1,(0))\n",
    "    \n",
    "    if len(approx) == 5:\n",
    "        cv2.putText(img,\"pentagon\",(x,y),font1,1,(0))\n",
    "        \n",
    "    if len(approx) == 6:\n",
    "        cv2.putText(img,\"hexagon\",(x,y),font1,1,(0))\n",
    "         \n",
    "    else:\n",
    "        cv2.putText(img,\"ellipse\",(x,y),font1,1,(0))\n",
    "        \n",
    "        \n",
    "cv2.imshow(\"img\", img)\n",
    "cv2.waitKey(0)\n",
    "cv2.destroyAllWindows()\n",
    "                "
   ]
  },
  {
   "cell_type": "code",
   "execution_count": null,
   "id": "5e2a776c",
   "metadata": {},
   "outputs": [],
   "source": []
  }
 ],
 "metadata": {
  "kernelspec": {
   "display_name": "Python 3",
   "language": "python",
   "name": "python3"
  },
  "language_info": {
   "codemirror_mode": {
    "name": "ipython",
    "version": 3
   },
   "file_extension": ".py",
   "mimetype": "text/x-python",
   "name": "python",
   "nbconvert_exporter": "python",
   "pygments_lexer": "ipython3",
   "version": "3.8.8"
  }
 },
 "nbformat": 4,
 "nbformat_minor": 5
}
