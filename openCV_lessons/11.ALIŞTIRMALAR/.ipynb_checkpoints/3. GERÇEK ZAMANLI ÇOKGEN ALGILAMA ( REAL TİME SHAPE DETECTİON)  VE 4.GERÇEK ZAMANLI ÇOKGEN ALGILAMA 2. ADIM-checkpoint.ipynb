{
 "cells": [
  {
   "cell_type": "markdown",
   "id": "ac127931",
   "metadata": {},
   "source": [
    "# 3. GERÇEK ZAMANLI ÇOKGEN ALGILAMA ( REAL TİME SHAPE DETECTİON) "
   ]
  },
  {
   "cell_type": "code",
   "execution_count": 3,
   "id": "54321049",
   "metadata": {
    "scrolled": true
   },
   "outputs": [],
   "source": [
    "import cv2\n",
    "import numpy as np\n",
    "\n",
    "def nothing(x): #trackbar içine 4 tane değer alır, trackabar oluştururken createTrackbar ın çalışma mantığından dolayı boş bir fonksiyon yazmamız gerekiyor\n",
    "    pass\n",
    "\n",
    "cap = cv2.VideoCapture(0) #webcami açar\n",
    "cv2.namedWindow(\"Settings\") #bir pencere oluşturur\n",
    "\n",
    "cv2.createTrackbar(\"Lower-Hue\",\"Settings\",0,180,nothing) #trackbar kızağı oluşturur\n",
    "cv2.createTrackbar(\"Lower-Saturation\",\"Settings\",0,255,nothing)\n",
    "cv2.createTrackbar(\"Lower-Value\",\"Settings\",0,255,nothing)\n",
    "cv2.createTrackbar(\"Upper-Hue\",\"Settings\",0,180,nothing)\n",
    "cv2.createTrackbar(\"Upper-Saturation\",\"Settings\",0,255,nothing)\n",
    "cv2.createTrackbar(\"Upper-Value\",\"Settings\",0,255,nothing)\n",
    "\n",
    "font = cv2.FONT_HERSHEY_SIMPLEX # yazı tipi oluşturur\n",
    "\n",
    "\n",
    "while 1: # video resimlerden oluşur bizde resimler sürekli dönsün diye döngü oluşturuyoruz\n",
    "    ret,frame = cap.read() # frameleri okutuyoruz\n",
    "    frame = cv2.flip(frame,1) # videoyu x eksenine simetri alır yani ben sağ elimi kaldırdığımda ekranda da sağ taraf kalkacak\n",
    "    hsv = cv2.cvtColor(frame,cv2.COLOR_BGR2HSV) # görüntüyü hsv ye dönüştürür\n",
    "\n",
    "    lh = cv2.getTrackbarPos(\"Lower-Hue\",\"Settings\") # trackbar pozisyonunu ayarlıyoruz\n",
    "    ls = cv2.getTrackbarPos(\"Lower-Saturation\",\"Settings\")\n",
    "    lv = cv2.getTrackbarPos(\"Lower-Value\",\"Settings\")\n",
    "    uh = cv2.getTrackbarPos(\"Upper-Hue\",\"Settings\")\n",
    "    us = cv2.getTrackbarPos(\"Upper-Saturation\",\"Settings\")\n",
    "    uv = cv2.getTrackbarPos(\"Upper-Value\",\"Settings\")\n",
    "\n",
    "    lower_color = np.array([lh,ls,lv]) # trackbar içine girdiğimiz değerler sürekli dönüyorlar çünkü biz lower hue değerini değiştirdiğimizde eğer bu değerler dönmezse trackbar bir işe yaramaz \n",
    "    upper_color = np.array([uh,us,uv]) \n",
    "\n",
    "    mask = cv2.inRange(hsv,lower_color,upper_color) # maske hsv renk uzayına dönüştürülür ve lower_color upper_color değerlerinib değişiminden etkilenir\n",
    "    kernel = np.ones((5,5),np.uint8) # \n",
    "    mask = cv2.erode(mask,kernel) # \n",
    "    \n",
    "    contours,_ = cv2.findContours(mask,cv2.RETR_TREE,cv2.CHAIN_APPROX_SIMPLE)\n",
    "    \n",
    "    for cnt in contours:\n",
    "        area = cv2.contourArea(cnt)\n",
    "        \n",
    "        epsilon = 0.02*cv2.arcLength(cnt,True)\n",
    "        approx = cv2.approxPolyDP(cnt,epsilon,True)\n",
    "        \n",
    "        x = approx.ravel()[0] # approx değerlerini bir ip gibi sıraya dizeriz ve 0. indisindeki değeri alıp x değerimize eşitleriz\n",
    "        y = approx.ravel()[1] # approx değerlerini bir ip gibi sıraya dizeriz ve 1. indisindeki değeri alıp y değerimize eşitleriz\n",
    "        \n",
    "        if area > 400: #eğer alan 400 den büyükse aşağıdaki işlemleri yap diyoruz\n",
    "            cv2.drawContours(frame,[approx],0,(0,0,0),5) # drawContours içine 5 tane değer alır bu değerlerden ilki konturu çizilecek resmin adı, 2.cisi ravelladığımız değerin adı, 3.cüsü ne şuan haturlamıyorum, 4. cüsü renk, 5.cisi kalınlık\n",
    "        \n",
    "            \n",
    "            if len(approx) == 3: # eğer approx içindeki değer 3 eşitse yani 3 tane köşe bulunursa bulduğu köşelerin konturunu çizer ve üstünde triangle yazar\n",
    "                cv2.putText(frame,\"Triangle\",(x,y),font,1,(0,0,0))\n",
    "                \n",
    "            if len(approx) == 4:\n",
    "                cv2.putText(frame,\"Rectangle\",(x,y),font,1,(0,0,0))\n",
    "                \n",
    "            elif len(approx) == 5:\n",
    "                cv2.putText(frame,\"Pentagon\",(x,y),font,1,(0,0,0))\n",
    "                \n",
    "            elif len(approx) > 6:\n",
    "                cv2.putText(frame,\"Circle\",(x,y),font,1,(0,0,0))\n",
    "                    \n",
    "    \n",
    "    cv2.imshow(\"frame\",frame)\n",
    "    cv2.imshow(\"mask\",mask)\n",
    "\n",
    "    if cv2.waitKey(3) & 0xFF == ord('q'): # q ya basınca işlemi kapatır \n",
    "        break\n",
    "\n",
    "cap.release()\n",
    "cv2.destroyAllWindows()"
   ]
  },
  {
   "cell_type": "code",
   "execution_count": null,
   "id": "b956b5a0",
   "metadata": {},
   "outputs": [],
   "source": []
  }
 ],
 "metadata": {
  "kernelspec": {
   "display_name": "Python 3",
   "language": "python",
   "name": "python3"
  },
  "language_info": {
   "codemirror_mode": {
    "name": "ipython",
    "version": 3
   },
   "file_extension": ".py",
   "mimetype": "text/x-python",
   "name": "python",
   "nbconvert_exporter": "python",
   "pygments_lexer": "ipython3",
   "version": "3.8.8"
  }
 },
 "nbformat": 4,
 "nbformat_minor": 5
}
