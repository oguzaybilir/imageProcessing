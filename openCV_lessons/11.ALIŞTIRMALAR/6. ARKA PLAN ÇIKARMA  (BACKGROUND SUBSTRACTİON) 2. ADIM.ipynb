{
 "cells": [
  {
   "cell_type": "markdown",
   "id": "0ccade2a",
   "metadata": {},
   "source": [
    "# 6. ARKA PLAN ÇIKARMA  (BACKGROUND SUBSTRACTİON) 2. ADIM"
   ]
  },
  {
   "cell_type": "code",
   "execution_count": 5,
   "id": "99fefede",
   "metadata": {},
   "outputs": [],
   "source": [
    "import cv2\n",
    "import numpy as np\n",
    "\n",
    "cap = cv2.VideoCapture(\"C:/Users/oguza/Desktop/opencvresimler/car.mp4.mp4\") #görüntümüzü alıyoruz\n",
    "#cap = cv2.VideoCapture(0)\n",
    "subtractor = cv2.createBackgroundSubtractorMOG2(history=100,varThreshold=75,detectShadows=True ) #içine üç değer alır birincisi hisatory  = frame sayısı, 2. cisi threshold değeri, 3.cüsü detectshadows değeri = True False olarak girilir\n",
    "\n",
    "while True:\n",
    "    \n",
    "    ret,frame = cap.read() # görüntümüzü döngüye alıyoruz\n",
    "    \n",
    "\n",
    "    \n",
    "    if ret is False: #eğer frameler biterse ret değişkeninimizin döndüreceği değer kalmayacağı için framelerle iş yapan diğer fonksiynlarımız \n",
    "        break\n",
    "    \n",
    "        \n",
    "    frame = cv2.resize(frame,(640,480)) # pencere boyutu çok büyük olduğu için küçültüyoruz\n",
    "    \n",
    "        \n",
    "    mask = subtractor.apply(frame) # görüntümüzü subtractor fonksiyonuyla  maskeliyoruz\n",
    "    \n",
    "    cv2.imshow(\"frame\", frame) # görüntümüzü ekrana veriyoruz\n",
    "    cv2.imshow(\"mask\",mask) # maskelenmi görüntümüzü ekran veriyoruz\n",
    "    \n",
    "\n",
    "    if cv2.waitKey(1) == ord('q'): # q tuşuna bastığımızda işlemin tamamlanmasını sağlıyoruz\n",
    "        break\n",
    "        \n",
    "    \n",
    "        \n",
    "cap.release() # görüntüleri serbest bırakıyoruz\n",
    "cv2.destroyAllWindows() # pencerelerin sorunsuzca kapanmasını sağlıyoruz"
   ]
  },
  {
   "cell_type": "code",
   "execution_count": null,
   "id": "82947097",
   "metadata": {},
   "outputs": [],
   "source": []
  }
 ],
 "metadata": {
  "kernelspec": {
   "display_name": "Python 3",
   "language": "python",
   "name": "python3"
  },
  "language_info": {
   "codemirror_mode": {
    "name": "ipython",
    "version": 3
   },
   "file_extension": ".py",
   "mimetype": "text/x-python",
   "name": "python",
   "nbconvert_exporter": "python",
   "pygments_lexer": "ipython3",
   "version": "3.8.8"
  }
 },
 "nbformat": 4,
 "nbformat_minor": 5
}
