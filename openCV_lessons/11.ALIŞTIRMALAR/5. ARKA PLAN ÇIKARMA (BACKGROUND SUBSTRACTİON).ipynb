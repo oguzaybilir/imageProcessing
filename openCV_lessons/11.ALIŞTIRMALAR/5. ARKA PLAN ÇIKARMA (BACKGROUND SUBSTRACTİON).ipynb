{
 "cells": [
  {
   "cell_type": "markdown",
   "id": "6afa6972",
   "metadata": {},
   "source": [
    "# 5. ARKA PLAN ÇIKARMA (BACKGROUND SUBSTRACTİON)"
   ]
  },
  {
   "cell_type": "code",
   "execution_count": 4,
   "id": "09ff564b",
   "metadata": {},
   "outputs": [],
   "source": [
    "import cv2\n",
    "import numpy as np\n",
    "\n",
    "cap = cv2.VideoCapture(\"C:/Users/oguza/Desktop/opencvresimler/car.mp4.mp4\")  # videomuzu aldık\n",
    "first_frame = cv2.resize(first_frame,(640,480)) # videoyu yeniden boyutlandırdık çünkü videonun orijinal ekran boyutu çok büyüktü\n",
    "first_gray = cv2.cvtColor(first_frame,cv2.COLOR_BGR2GRAY) # videoyu gri renge dönüştürk ki videodaki işimize yaramayan renkler videodaa görünmesin\n",
    "first_gray = cv2.GaussianBlur(first_gray,(5,5),0) #videodaki gürültüleri temizlemek için blurladık\n",
    "\n",
    "while True: # sürekli olarak frame alabilmek için bir döngü oluşturduk\n",
    "    ret,frame = cap.read()  # video framelerin birleşmesiyle oluşur ve Qu komutla frameleri birleştirerek bir video oluşturduk\n",
    "    if ret is False:  # bu kısm video ile iş yapılan her yere yazman lazım çünkü eğer video bitersea frameler gelmeyi durdurur ve frame ile iş yapan kodlar aahata verir\n",
    "        break\n",
    "    \n",
    "    frame = cv2.resize(frame,(640,480)) # videoyu yeniden boyutlandırdık çünkü videonun orijinal ekran boyutu çok büyüktü\n",
    "    gray = cv2.cvtColor(frame,cv2.COLOR_BGR2GRAY)  # videoyu gri renge dönüştürk ki videodaki işimize yaramayan renkler videodaa görünmesin\n",
    "    gray = cv2.GaussianBlur(gray,(5,5),0)\n",
    "    diff = cv2.absdiff(first_gray,gray) #  Absdiff metodu verilen iki matris arasında çıkarma işlemi yapar bu çıkarma işlemi sonucunda değişen kısımlar yani hareketli kısımlar gösterilir\n",
    "    _,diff = cv2.threshold(diff,25,255,cv2.THRESH_BINARY)\n",
    "    \n",
    "    \n",
    "    cv2.imshow(\"frame\",frame) #frame ekrana bastırılır\n",
    "    cv2.imshow(\"first\",first_frame) # first ekrana bastırılır\n",
    "    cv2.imshow(\"diff\",diff)  # diff ekrana bastırılır\n",
    "    if cv2.waitKey(20) == ord('q'):  #  q harfine basılınca video kapanır\n",
    "        break\n",
    "        \n",
    "cap.release()  # video serbest bırakılır\n",
    "cv2.destroyAllWindows() #pencerenin kapatılmasını sağlar\n",
    "    "
   ]
  },
  {
   "cell_type": "code",
   "execution_count": null,
   "id": "808fdf7b",
   "metadata": {},
   "outputs": [],
   "source": []
  }
 ],
 "metadata": {
  "kernelspec": {
   "display_name": "Python 3",
   "language": "python",
   "name": "python3"
  },
  "language_info": {
   "codemirror_mode": {
    "name": "ipython",
    "version": 3
   },
   "file_extension": ".py",
   "mimetype": "text/x-python",
   "name": "python",
   "nbconvert_exporter": "python",
   "pygments_lexer": "ipython3",
   "version": "3.8.8"
  }
 },
 "nbformat": 4,
 "nbformat_minor": 5
}
