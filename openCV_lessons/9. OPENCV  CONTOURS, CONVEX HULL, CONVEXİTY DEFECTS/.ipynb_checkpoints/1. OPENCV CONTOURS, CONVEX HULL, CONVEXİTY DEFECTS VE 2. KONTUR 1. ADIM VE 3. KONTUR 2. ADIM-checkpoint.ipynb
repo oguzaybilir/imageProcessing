{
 "cells": [
  {
   "cell_type": "markdown",
   "id": "385bdf88",
   "metadata": {},
   "source": [
    "# 1. OPENCV CONTOURS, CONVEX HULL, CONVEXİTY DEFECTS VE 2. KONTUR 1. ADIM VE 3. KONTUR 2. ADIM"
   ]
  },
  {
   "cell_type": "markdown",
   "id": "256e74d0",
   "metadata": {},
   "source": [
    "cv2.cvtColor() = elimdeki görüntüyü siyah beyaz yani 0 1 matrisine geçirmek için kullanacağım\n",
    "\n",
    "cv2.threshold() = Kaynak olarak alınan görüntü üzerindeki piksel,\n",
    "esikDegeri olarak verilen değerden büyükse maksDeger olarak verilen parametre değerine atanır.  \n",
    "\n",
    "threshold resimleri 0 ve 1 düzenine çekmek ve resmin istediğimiz parçalarını ön plana çıkartmak için kullanılır\n",
    "\n",
    "cv2.findContours = resmin kontürünü çıkarıyorum\n",
    "\n",
    "cv2.drawContours() = resmin kontürlerini çiziyorum\n",
    "\n",
    "\n",
    "convex = dış bükey\n",
    "\n",
    "hull = örtü\n",
    "\n",
    "convexity defects = dış bükey kusur\n",
    "\n",
    "\n",
    "\n"
   ]
  },
  {
   "cell_type": "code",
   "execution_count": 3,
   "id": "a18a9248",
   "metadata": {},
   "outputs": [],
   "source": [
    "import cv2\n",
    "\n",
    "img = cv2.imread(\"C:/Users/oguza/Desktop/opencvresimler/contour1.png\")\n",
    "\n",
    "gray = cv2.cvtColor(img, cv2.COLOR_BGR2GRAY)\n",
    "\n",
    "ret,thresh = cv2.threshold(gray,127,255,cv2.THRESH_BINARY)\n",
    "\n",
    "contours,ret = cv2.findContours(thresh,cv2.RETR_TREE,cv2.CHAIN_APPROX_SIMPLE)\n",
    "\n",
    "cv2.drawContours(img, contours,1, (0,0,255), thickness = 3)\n",
    "cv2.imshow(\"img\", img)\n",
    "cv2.waitKey(0)\n",
    "cv2.destroyAllWindows()"
   ]
  },
  {
   "cell_type": "markdown",
   "id": "c5394d74",
   "metadata": {},
   "source": [
    "cv2.RETR_TREE ve cv2.CHAIN_APPROX_SIMPLE argümanları default olarak girilen değerlerdir ve kontur bulma işleminin daha doğru olmasını sağlar"
   ]
  },
  {
   "cell_type": "code",
   "execution_count": null,
   "id": "1061d06c",
   "metadata": {},
   "outputs": [],
   "source": []
  }
 ],
 "metadata": {
  "kernelspec": {
   "display_name": "Python 3",
   "language": "python",
   "name": "python3"
  },
  "language_info": {
   "codemirror_mode": {
    "name": "ipython",
    "version": 3
   },
   "file_extension": ".py",
   "mimetype": "text/x-python",
   "name": "python",
   "nbconvert_exporter": "python",
   "pygments_lexer": "ipython3",
   "version": "3.8.8"
  }
 },
 "nbformat": 4,
 "nbformat_minor": 5
}
