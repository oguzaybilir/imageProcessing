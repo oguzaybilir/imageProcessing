{
 "cells": [
  {
   "cell_type": "markdown",
   "id": "d341b624",
   "metadata": {},
   "source": [
    "# 6. KONTUR ALANI VE ÇEVRESİ 1. ADIM VE 7. KONTUR ALANI VE ÇEVRESİ 2. ADIM "
   ]
  },
  {
   "cell_type": "markdown",
   "id": "92faa46f",
   "metadata": {},
   "source": [
    "KONTUR KULLANARAK BULABİLDİĞİMİZ BİR SÜRÜ ŞEY SÖZ KONUSU KİRVE"
   ]
  },
  {
   "cell_type": "code",
   "execution_count": 26,
   "id": "b1fc6918",
   "metadata": {},
   "outputs": [
    {
     "name": "stdout",
     "output_type": "stream",
     "text": [
      "89744.0\n",
      "{'m00': 89744.0, 'm10': 14179552.0, 'm01': 12743648.0, 'm20': 2987158954.6666665, 'm11': 2013496384.0, 'm02': 2412797354.6666665, 'm30': 707956672256.0, 'm21': 424176571562.6667, 'm12': 381221982037.3333, 'm03': 513925836544.0, 'mu20': 746789738.6666665, 'mu11': 0.0, 'mu02': 603199338.6666665, 'mu30': 0.0, 'mu21': 4.57763671875e-05, 'mu12': 0.0, 'mu03': 6.103515625e-05, 'nu20': 0.09272300469483569, 'nu11': 0.0, 'nu02': 0.07489451476793249, 'nu30': 0.0, 'nu21': 1.897264005428975e-17, 'nu12': 0.0, 'nu03': 2.5296853405719665e-17}\n",
      "1200.0\n"
     ]
    }
   ],
   "source": [
    "import cv2\n",
    "\n",
    "img = cv2.imread(\"C:/Users/oguza/Desktop/opencvresimler/contour.png\")\n",
    "\n",
    "gray = cv2.cvtColor(img, cv2.COLOR_BGR2GRAY)\n",
    "\n",
    "ret,thresh = cv2.threshold(gray,127,255,cv2.THRESH_BINARY)\n",
    "\n",
    "contours,ret = cv2.findContours(thresh,cv2.RETR_TREE, cv2.CHAIN_APPROX_SIMPLE)\n",
    "\n",
    "cnt = contours[0]\n",
    "area = cv2.contourArea(cnt)\n",
    "print(area)\n",
    "M = cv2.moments(cnt)\n",
    "print(M)\n",
    "\n",
    "perimeter = cv2.arcLength(cnt,True)\n",
    "print(perimeter)\n",
    "\n",
    "cv2.imshow(\"img\", img)\n",
    "cv2.imshow(\"gray\", gray)\n",
    "cv2.imshow(\"thresh\", thresh)\n",
    "\n",
    "cv2.waitKey()\n",
    "cv2.destroyAllWindows()\n",
    "\n"
   ]
  },
  {
   "cell_type": "code",
   "execution_count": null,
   "id": "dd3b2cc5",
   "metadata": {},
   "outputs": [],
   "source": []
  },
  {
   "cell_type": "code",
   "execution_count": null,
   "id": "50368056",
   "metadata": {},
   "outputs": [],
   "source": []
  }
 ],
 "metadata": {
  "kernelspec": {
   "display_name": "Python 3",
   "language": "python",
   "name": "python3"
  },
  "language_info": {
   "codemirror_mode": {
    "name": "ipython",
    "version": 3
   },
   "file_extension": ".py",
   "mimetype": "text/x-python",
   "name": "python",
   "nbconvert_exporter": "python",
   "pygments_lexer": "ipython3",
   "version": "3.8.8"
  }
 },
 "nbformat": 4,
 "nbformat_minor": 5
}
