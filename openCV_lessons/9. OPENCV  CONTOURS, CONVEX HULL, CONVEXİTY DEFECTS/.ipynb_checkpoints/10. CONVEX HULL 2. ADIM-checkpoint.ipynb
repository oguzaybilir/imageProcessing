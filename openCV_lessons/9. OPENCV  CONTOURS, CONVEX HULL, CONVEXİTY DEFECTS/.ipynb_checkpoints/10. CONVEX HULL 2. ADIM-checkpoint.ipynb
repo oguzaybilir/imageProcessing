{
 "cells": [
  {
   "cell_type": "markdown",
   "id": "0f5912ce",
   "metadata": {},
   "source": [
    "# CONVEX HULL 2. ADIM"
   ]
  },
  {
   "cell_type": "code",
   "execution_count": 3,
   "id": "1a570ac7",
   "metadata": {},
   "outputs": [
    {
     "ename": "error",
     "evalue": "OpenCV(4.5.4-dev) :-1: error: (-5:Bad argument) in function 'threshold'\n> Overload resolution failed:\n>  - threshold() missing required argument 'src' (pos 1)\n>  - threshold() missing required argument 'src' (pos 1)\n",
     "output_type": "error",
     "traceback": [
      "\u001b[1;31m---------------------------------------------------------------------------\u001b[0m",
      "\u001b[1;31merror\u001b[0m                                     Traceback (most recent call last)",
      "\u001b[1;32m<ipython-input-3-b227fff78196>\u001b[0m in \u001b[0;36m<module>\u001b[1;34m\u001b[0m\n\u001b[0;32m     26\u001b[0m \u001b[0mcv2\u001b[0m\u001b[1;33m.\u001b[0m\u001b[0mwaitKey\u001b[0m\u001b[1;33m(\u001b[0m\u001b[1;36m0\u001b[0m\u001b[1;33m)\u001b[0m\u001b[1;33m\u001b[0m\u001b[1;33m\u001b[0m\u001b[0m\n\u001b[0;32m     27\u001b[0m \u001b[0mcv2\u001b[0m\u001b[1;33m.\u001b[0m\u001b[0mdestroyAllWindows\u001b[0m\u001b[1;33m(\u001b[0m\u001b[1;33m)\u001b[0m\u001b[1;33m\u001b[0m\u001b[1;33m\u001b[0m\u001b[0m\n\u001b[1;32m---> 28\u001b[1;33m \u001b[0mret\u001b[0m\u001b[1;33m,\u001b[0m\u001b[0mthresh\u001b[0m \u001b[1;33m=\u001b[0m \u001b[0mcv2\u001b[0m\u001b[1;33m.\u001b[0m\u001b[0mthreshold\u001b[0m\u001b[1;33m(\u001b[0m\u001b[1;33m)\u001b[0m\u001b[1;33m\u001b[0m\u001b[1;33m\u001b[0m\u001b[0m\n\u001b[0m",
      "\u001b[1;31merror\u001b[0m: OpenCV(4.5.4-dev) :-1: error: (-5:Bad argument) in function 'threshold'\n> Overload resolution failed:\n>  - threshold() missing required argument 'src' (pos 1)\n>  - threshold() missing required argument 'src' (pos 1)\n"
     ]
    }
   ],
   "source": [
    "import cv2\n",
    "import numpy as np\n",
    "\n",
    "img = cv2.imread(\"C:/Users/oguza/Desktop/opencvresimler/map.jpg\")\n",
    "\n",
    "gray = cv2.cvtColor(img,cv2.COLOR_BGR2GRAY)\n",
    "blur = cv2.blur(gray,(3,3))\n",
    "ret,thresh = cv2.threshold(blur,40,255,cv2.THRESH_BINARY)\n",
    "\n",
    "\n",
    "contours,hierarchy = cv2.findContours(thresh, cv2.RETR_TREE,cv2.CHAIN_APPROX_SIMPLE)\n",
    "\n",
    "hull = []\n",
    "\n",
    "for i in range(len(contours)):\n",
    "    hull.append(cv2.convexHull(contours[i],False))\n",
    "    \n",
    "bg = np.zeros((thresh.shape[0],thresh.shape[1],3),np.uint8)\n",
    "\n",
    "for i in range(len(contours)):\n",
    "    cv2.drawContours(bg,contours,i,(255,0,0),3,8,hierarchy)\n",
    "    cv2.drawContours(bg,hull,i,(0,255,0),1,8)\n",
    "    \n",
    "    \n",
    "cv2.imshow(\"image\", bg)\n",
    "cv2.waitKey(0)\n",
    "cv2.destroyAllWindows()\n",
    "ret,thresh = cv2.threshold()"
   ]
  },
  {
   "cell_type": "markdown",
   "id": "b96d3601",
   "metadata": {},
   "source": [
    "len fonksiyonu countours içindeki değerlerin toplam uzunluğunu döndürecek\n",
    "\n",
    "range ise 0 dan oraya kadar olan değerleri döndürecek\n",
    "\n",
    "hull.append in görevi bulduğumuz değerleri alıp hull tuple ında ekler"
   ]
  },
  {
   "cell_type": "markdown",
   "id": "b8cec67e",
   "metadata": {},
   "source": [
    "cv2.drawContours(bg,contours,i,(255,0,0),3,8) sondaki 8 kesintisiz çizgi demektir"
   ]
  },
  {
   "cell_type": "code",
   "execution_count": null,
   "id": "887e9ff6",
   "metadata": {},
   "outputs": [],
   "source": []
  }
 ],
 "metadata": {
  "kernelspec": {
   "display_name": "Python 3",
   "language": "python",
   "name": "python3"
  },
  "language_info": {
   "codemirror_mode": {
    "name": "ipython",
    "version": 3
   },
   "file_extension": ".py",
   "mimetype": "text/x-python",
   "name": "python",
   "nbconvert_exporter": "python",
   "pygments_lexer": "ipython3",
   "version": "3.8.8"
  }
 },
 "nbformat": 4,
 "nbformat_minor": 5
}
