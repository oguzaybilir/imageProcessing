{
 "cells": [
  {
   "cell_type": "markdown",
   "id": "b8e495fb",
   "metadata": {},
   "source": [
    "# 8. CONVEX HULL 1. ADIM ve 9. CONVEX HULL CONVEXİTY DEFECTS"
   ]
  },
  {
   "cell_type": "code",
   "execution_count": 34,
   "id": "60402a5f",
   "metadata": {},
   "outputs": [],
   "source": [
    "import cv2\n",
    "import numpy as np\n",
    "\n",
    "img =cv2.imread(\"C:/Users/oguza/Desktop/opencvresimler/star.png\")\n",
    "\n",
    "gray = cv2.cvtColor(img,cv2.COLOR_BGR2GRAY)\n",
    "ret,thresh = cv2.threshold(gray,127,255,0)\n",
    "\n",
    "contours,ret = cv2.findContours(thresh,2,1)\n",
    "cnt = contours[0]\n",
    "\n",
    "hull =cv2.convexHull(cnt, returnPoints = False)\n",
    "defects = cv2.convexityDefects(cnt,hull)\n",
    "\n",
    "for i in range(defects.shape[0]):\n",
    "    s, e, f, d = defects[i,0]\n",
    "    start = tuple(cnt[s][0])\n",
    "    end = tuple(cnt[e][0])\n",
    "    far = tuple(cnt[f][0])\n",
    "    cv2.line(img,start,end,[0,255,0],2)\n",
    "    cv2.circle(img,far,5,[0,255,0],-1)\n",
    "\n",
    "cv2.imshow(\"img\",img)\n",
    "cv2.waitKey(0)\n",
    "cv2.destroyAllWindows()"
   ]
  },
  {
   "cell_type": "markdown",
   "id": "cb76fe9d",
   "metadata": {},
   "source": [
    "s = startpoint\n",
    "e = end point\n",
    "f = farhest point\n",
    "d = distance\n",
    "\n",
    "\n",
    "\n",
    "s,e,f,d değerleri defects tuple ında i indexinden 0. indexe kadar dönecek\n",
    "\n",
    "ve start = tuple(cnt[s][0]) demek s değişkeninin 0 a kadar dönmesi demektir"
   ]
  },
  {
   "cell_type": "code",
   "execution_count": null,
   "id": "54e6d428",
   "metadata": {},
   "outputs": [],
   "source": []
  }
 ],
 "metadata": {
  "kernelspec": {
   "display_name": "Python 3",
   "language": "python",
   "name": "python3"
  },
  "language_info": {
   "codemirror_mode": {
    "name": "ipython",
    "version": 3
   },
   "file_extension": ".py",
   "mimetype": "text/x-python",
   "name": "python",
   "nbconvert_exporter": "python",
   "pygments_lexer": "ipython3",
   "version": "3.8.8"
  }
 },
 "nbformat": 4,
 "nbformat_minor": 5
}
