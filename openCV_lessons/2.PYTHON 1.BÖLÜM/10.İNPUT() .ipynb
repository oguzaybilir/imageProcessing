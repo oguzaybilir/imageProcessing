{
 "cells": [
  {
   "cell_type": "markdown",
   "id": "98709c8a",
   "metadata": {},
   "source": [
    "# 10. İNPUT\n",
    "\n"
   ]
  },
  {
   "cell_type": "code",
   "execution_count": 1,
   "id": "1e8a56bd",
   "metadata": {},
   "outputs": [
    {
     "name": "stdout",
     "output_type": "stream",
     "text": [
      "isminizi giriniz:oguzay\n"
     ]
    },
    {
     "data": {
      "text/plain": [
       "'oguzay'"
      ]
     },
     "execution_count": 1,
     "metadata": {},
     "output_type": "execute_result"
    }
   ],
   "source": [
    "input(\"isminizi giriniz:\")"
   ]
  },
  {
   "cell_type": "code",
   "execution_count": 2,
   "id": "f425ced1",
   "metadata": {},
   "outputs": [
    {
     "name": "stdout",
     "output_type": "stream",
     "text": [
      "ajodfnjdnvj\n"
     ]
    },
    {
     "data": {
      "text/plain": [
       "'ajodfnjdnvj'"
      ]
     },
     "execution_count": 2,
     "metadata": {},
     "output_type": "execute_result"
    }
   ],
   "source": [
    "input()"
   ]
  },
  {
   "cell_type": "code",
   "execution_count": 3,
   "id": "8bd1ce3f",
   "metadata": {
    "scrolled": true
   },
   "outputs": [
    {
     "name": "stdout",
     "output_type": "stream",
     "text": [
      "lütfen bir sayı giriniz:8\n"
     ]
    },
    {
     "data": {
      "text/plain": [
       "'8'"
      ]
     },
     "execution_count": 3,
     "metadata": {},
     "output_type": "execute_result"
    }
   ],
   "source": [
    "input(\"lütfen bir sayı giriniz:\")"
   ]
  },
  {
   "cell_type": "markdown",
   "id": "82f5529a",
   "metadata": {},
   "source": [
    "tek tırnak içindeki sayılar string demektir, bu sayı ile işlem yapmamız olanaksızdır, aşağıdaki satırda bu sorunun nasıl çözüleceğini yazdım"
   ]
  },
  {
   "cell_type": "code",
   "execution_count": 4,
   "id": "3867e66b",
   "metadata": {},
   "outputs": [
    {
     "name": "stdout",
     "output_type": "stream",
     "text": [
      "lütfen bir tamsayı giriniz8\n"
     ]
    },
    {
     "data": {
      "text/plain": [
       "8"
      ]
     },
     "execution_count": 4,
     "metadata": {},
     "output_type": "execute_result"
    }
   ],
   "source": [
    "int(input(\"lütfen bir tamsayı giriniz\"))"
   ]
  },
  {
   "cell_type": "markdown",
   "id": "fac63d71",
   "metadata": {},
   "source": [
    "artık bu sayı ile aritmetik işlemler yapabiliriz"
   ]
  }
 ],
 "metadata": {
  "kernelspec": {
   "display_name": "Python 3",
   "language": "python",
   "name": "python3"
  },
  "language_info": {
   "codemirror_mode": {
    "name": "ipython",
    "version": 3
   },
   "file_extension": ".py",
   "mimetype": "text/x-python",
   "name": "python",
   "nbconvert_exporter": "python",
   "pygments_lexer": "ipython3",
   "version": "3.8.8"
  }
 },
 "nbformat": 4,
 "nbformat_minor": 5
}
