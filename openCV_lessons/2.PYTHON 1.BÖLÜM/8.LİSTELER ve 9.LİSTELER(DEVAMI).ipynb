{
 "cells": [
  {
   "cell_type": "markdown",
   "id": "6d5b00ff",
   "metadata": {},
   "source": [
    "# 8. LİSTELER "
   ]
  },
  {
   "cell_type": "code",
   "execution_count": 1,
   "id": "02074eff",
   "metadata": {},
   "outputs": [],
   "source": [
    "ad = [\"OGUZ\", \"ASYA\", \"VELİ\", \"BERFİN\"]"
   ]
  },
  {
   "cell_type": "code",
   "execution_count": 2,
   "id": "94d790bc",
   "metadata": {},
   "outputs": [
    {
     "data": {
      "text/plain": [
       "['OGUZ', 'ASYA', 'VELİ', 'BERFİN']"
      ]
     },
     "execution_count": 2,
     "metadata": {},
     "output_type": "execute_result"
    }
   ],
   "source": [
    "ad"
   ]
  },
  {
   "cell_type": "code",
   "execution_count": 3,
   "id": "9775f8f1",
   "metadata": {},
   "outputs": [],
   "source": [
    "yaş = [20,19,32,5,17]"
   ]
  },
  {
   "cell_type": "markdown",
   "id": "737d1fd0",
   "metadata": {},
   "source": [
    "yaş listesindeki değerleri çift tırnak içine alırsak bu sayılar artık stringe dönüşür ve matematiksel işlem yapılamaz"
   ]
  },
  {
   "cell_type": "code",
   "execution_count": 4,
   "id": "82c5be4b",
   "metadata": {},
   "outputs": [
    {
     "data": {
      "text/plain": [
       "[20, 19, 32, 5, 17]"
      ]
     },
     "execution_count": 4,
     "metadata": {},
     "output_type": "execute_result"
    }
   ],
   "source": [
    "yaş"
   ]
  },
  {
   "cell_type": "code",
   "execution_count": 5,
   "id": "b32208b6",
   "metadata": {},
   "outputs": [],
   "source": [
    "şehir = ['antalya', 'rize', 'malatya', 'ağrı']"
   ]
  },
  {
   "cell_type": "code",
   "execution_count": 6,
   "id": "d4201f5a",
   "metadata": {},
   "outputs": [
    {
     "data": {
      "text/plain": [
       "['antalya', 'rize', 'malatya', 'ağrı']"
      ]
     },
     "execution_count": 6,
     "metadata": {},
     "output_type": "execute_result"
    }
   ],
   "source": [
    "şehir"
   ]
  },
  {
   "cell_type": "code",
   "execution_count": 7,
   "id": "353a6a38",
   "metadata": {},
   "outputs": [],
   "source": [
    "abc = [\"oğuz\", 20, \"berfin\", 17]"
   ]
  },
  {
   "cell_type": "code",
   "execution_count": 8,
   "id": "86ab248c",
   "metadata": {},
   "outputs": [
    {
     "data": {
      "text/plain": [
       "['oğuz', 20, 'berfin', 17]"
      ]
     },
     "execution_count": 8,
     "metadata": {},
     "output_type": "execute_result"
    }
   ],
   "source": [
    "abc"
   ]
  },
  {
   "cell_type": "code",
   "execution_count": 9,
   "id": "1400c49f",
   "metadata": {},
   "outputs": [
    {
     "data": {
      "text/plain": [
       "4"
      ]
     },
     "execution_count": 9,
     "metadata": {},
     "output_type": "execute_result"
    }
   ],
   "source": [
    "len(ad)"
   ]
  },
  {
   "cell_type": "code",
   "execution_count": 10,
   "id": "62519928",
   "metadata": {},
   "outputs": [
    {
     "data": {
      "text/plain": [
       "5"
      ]
     },
     "execution_count": 10,
     "metadata": {},
     "output_type": "execute_result"
    }
   ],
   "source": [
    "len(yaş)"
   ]
  },
  {
   "cell_type": "code",
   "execution_count": 13,
   "id": "612c2987",
   "metadata": {},
   "outputs": [
    {
     "data": {
      "text/plain": [
       "19"
      ]
     },
     "execution_count": 13,
     "metadata": {},
     "output_type": "execute_result"
    }
   ],
   "source": [
    "yaş[1]"
   ]
  },
  {
   "cell_type": "code",
   "execution_count": 14,
   "id": "05c8ba69",
   "metadata": {},
   "outputs": [
    {
     "data": {
      "text/plain": [
       "24"
      ]
     },
     "execution_count": 14,
     "metadata": {},
     "output_type": "execute_result"
    }
   ],
   "source": [
    "yaş[1]+5"
   ]
  },
  {
   "cell_type": "code",
   "execution_count": 16,
   "id": "6b339666",
   "metadata": {},
   "outputs": [],
   "source": [
    "yaş=[\"23\", \"3\"]"
   ]
  },
  {
   "cell_type": "code",
   "execution_count": 17,
   "id": "bf3d4374",
   "metadata": {},
   "outputs": [
    {
     "ename": "TypeError",
     "evalue": "can only concatenate str (not \"int\") to str",
     "output_type": "error",
     "traceback": [
      "\u001b[1;31m---------------------------------------------------------------------------\u001b[0m",
      "\u001b[1;31mTypeError\u001b[0m                                 Traceback (most recent call last)",
      "\u001b[1;32m<ipython-input-17-1a7570639bef>\u001b[0m in \u001b[0;36m<module>\u001b[1;34m\u001b[0m\n\u001b[1;32m----> 1\u001b[1;33m \u001b[0myaş\u001b[0m\u001b[1;33m[\u001b[0m\u001b[1;36m1\u001b[0m\u001b[1;33m]\u001b[0m\u001b[1;33m+\u001b[0m\u001b[1;36m5\u001b[0m\u001b[1;33m\u001b[0m\u001b[1;33m\u001b[0m\u001b[0m\n\u001b[0m",
      "\u001b[1;31mTypeError\u001b[0m: can only concatenate str (not \"int\") to str"
     ]
    }
   ],
   "source": [
    "yaş[1]+5"
   ]
  },
  {
   "cell_type": "markdown",
   "id": "5825d90f",
   "metadata": {},
   "source": [
    "çift tırnak içindeki ifade stringdir ve stringlerle işlem yapılamaz"
   ]
  },
  {
   "cell_type": "code",
   "execution_count": 18,
   "id": "f8b49095",
   "metadata": {},
   "outputs": [
    {
     "data": {
      "text/plain": [
       "['OGUZ', 'ASYA', 'VELİ', 'BERFİN']"
      ]
     },
     "execution_count": 18,
     "metadata": {},
     "output_type": "execute_result"
    }
   ],
   "source": [
    "ad"
   ]
  },
  {
   "cell_type": "code",
   "execution_count": 19,
   "id": "b8182da1",
   "metadata": {},
   "outputs": [
    {
     "data": {
      "text/plain": [
       "['ASYA', 'VELİ', 'BERFİN']"
      ]
     },
     "execution_count": 19,
     "metadata": {},
     "output_type": "execute_result"
    }
   ],
   "source": [
    "ad[1:]"
   ]
  },
  {
   "cell_type": "code",
   "execution_count": 20,
   "id": "7ae13f56",
   "metadata": {},
   "outputs": [
    {
     "data": {
      "text/plain": [
       "['OGUZ', 'ASYA', 'VELİ', 'BERFİN']"
      ]
     },
     "execution_count": 20,
     "metadata": {},
     "output_type": "execute_result"
    }
   ],
   "source": [
    "ad[:]"
   ]
  },
  {
   "cell_type": "code",
   "execution_count": 21,
   "id": "c551778a",
   "metadata": {},
   "outputs": [
    {
     "data": {
      "text/plain": [
       "['OGUZ', 'ASYA']"
      ]
     },
     "execution_count": 21,
     "metadata": {},
     "output_type": "execute_result"
    }
   ],
   "source": [
    "ad[:2]"
   ]
  }
 ],
 "metadata": {
  "kernelspec": {
   "display_name": "Python 3",
   "language": "python",
   "name": "python3"
  },
  "language_info": {
   "codemirror_mode": {
    "name": "ipython",
    "version": 3
   },
   "file_extension": ".py",
   "mimetype": "text/x-python",
   "name": "python",
   "nbconvert_exporter": "python",
   "pygments_lexer": "ipython3",
   "version": "3.8.8"
  }
 },
 "nbformat": 4,
 "nbformat_minor": 5
}
