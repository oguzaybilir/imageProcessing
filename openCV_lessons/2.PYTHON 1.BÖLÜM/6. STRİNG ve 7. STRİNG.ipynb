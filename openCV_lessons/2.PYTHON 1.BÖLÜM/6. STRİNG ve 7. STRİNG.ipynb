{
 "cells": [
  {
   "cell_type": "markdown",
   "id": "ebefe5cc",
   "metadata": {},
   "source": [
    "# 6.STRING\n"
   ]
  },
  {
   "cell_type": "code",
   "execution_count": 2,
   "id": "b37d7392",
   "metadata": {},
   "outputs": [
    {
     "data": {
      "text/plain": [
       "'okofgwsfsfgsf'"
      ]
     },
     "execution_count": 2,
     "metadata": {},
     "output_type": "execute_result"
    }
   ],
   "source": [
    "\"okofg\" 'wsfsfgsf'"
   ]
  },
  {
   "cell_type": "code",
   "execution_count": 3,
   "id": "4a545a96",
   "metadata": {
    "scrolled": true
   },
   "outputs": [
    {
     "data": {
      "text/plain": [
       "'Beyaz Zambaklar Ülkesinde'"
      ]
     },
     "execution_count": 3,
     "metadata": {},
     "output_type": "execute_result"
    }
   ],
   "source": [
    "'Beyaz Zambaklar Ülkesinde'"
   ]
  },
  {
   "cell_type": "code",
   "execution_count": 4,
   "id": "7b426495",
   "metadata": {
    "scrolled": false
   },
   "outputs": [
    {
     "ename": "SyntaxError",
     "evalue": "invalid syntax (<ipython-input-4-3ab530055629>, line 1)",
     "output_type": "error",
     "traceback": [
      "\u001b[1;36m  File \u001b[1;32m\"<ipython-input-4-3ab530055629>\"\u001b[1;36m, line \u001b[1;32m1\u001b[0m\n\u001b[1;33m    'Zambaklar grigory petrov'un kitabıdır...'\u001b[0m\n\u001b[1;37m                              ^\u001b[0m\n\u001b[1;31mSyntaxError\u001b[0m\u001b[1;31m:\u001b[0m invalid syntax\n"
     ]
    }
   ],
   "source": [
    "'Zambaklar grigory petrov'un kitabıdır...'"
   ]
  },
  {
   "cell_type": "markdown",
   "id": "859ed328",
   "metadata": {},
   "source": [
    "ifadeyi tek tırnağa alınca petrov'undur kısmındaki kesme işaretini kesme işareti olarak algılamadı, tek tırnak işreti olarak algıladı"
   ]
  },
  {
   "cell_type": "code",
   "execution_count": 5,
   "id": "6ea4975f",
   "metadata": {
    "scrolled": true
   },
   "outputs": [
    {
     "data": {
      "text/plain": [
       "\"zambaklar ülkesi gregory petrov'un kitabıdır\""
      ]
     },
     "execution_count": 5,
     "metadata": {},
     "output_type": "execute_result"
    }
   ],
   "source": [
    "'zambaklar ülkesi gregory petrov\\'un kitabıdır'"
   ]
  },
  {
   "cell_type": "markdown",
   "id": "fab0dbca",
   "metadata": {},
   "source": [
    "petrov\\'un ifadesindeki \\ kaçış karakteridir, yazdığımız şeyin görevini yok eder "
   ]
  },
  {
   "cell_type": "code",
   "execution_count": 6,
   "id": "01227ea6",
   "metadata": {},
   "outputs": [
    {
     "data": {
      "text/plain": [
       "\"zambaklar ülkesi kitabı gregory petrov'undur\""
      ]
     },
     "execution_count": 6,
     "metadata": {},
     "output_type": "execute_result"
    }
   ],
   "source": [
    "\"zambaklar ülkesi kitabı gregory petrov'undur\""
   ]
  },
  {
   "cell_type": "markdown",
   "id": "a378e0df",
   "metadata": {},
   "source": [
    "çift tırnak arasına ifademizi yazdığımız zaman rahatlıkla ' kullanabildik çünkü yazdığımız ifade  çift tırnaklar arasında"
   ]
  },
  {
   "cell_type": "code",
   "execution_count": 7,
   "id": "dc74c470",
   "metadata": {},
   "outputs": [
    {
     "data": {
      "text/plain": [
       "'\"eyvallah\", dedi ve gitti'"
      ]
     },
     "execution_count": 7,
     "metadata": {},
     "output_type": "execute_result"
    }
   ],
   "source": [
    "'\"eyvallah\", dedi ve gitti'"
   ]
  },
  {
   "cell_type": "markdown",
   "id": "1e75291d",
   "metadata": {},
   "source": [
    "yazdıracağımız ifadeyi tek tırnakla başlattığımız için \"eyvallah\" ifadesini tırnak içine alarak yazdırdı\n"
   ]
  },
  {
   "cell_type": "code",
   "execution_count": 8,
   "id": "942fd6e4",
   "metadata": {},
   "outputs": [
    {
     "data": {
      "text/plain": [
       "'\"eyvallah\", dedi ve gitti'"
      ]
     },
     "execution_count": 8,
     "metadata": {},
     "output_type": "execute_result"
    }
   ],
   "source": [
    "\"\\\"eyvallah\\\", dedi ve gitti\""
   ]
  },
  {
   "cell_type": "code",
   "execution_count": 9,
   "id": "32992e69",
   "metadata": {
    "scrolled": true
   },
   "outputs": [
    {
     "name": "stdout",
     "output_type": "stream",
     "text": [
      "merhaba python!!!\n"
     ]
    }
   ],
   "source": [
    "print(\"merhaba python!!!\")"
   ]
  },
  {
   "cell_type": "code",
   "execution_count": 11,
   "id": "d7fe7928",
   "metadata": {},
   "outputs": [],
   "source": [
    "a = 'ilk satır \\n ikinci satır' "
   ]
  },
  {
   "cell_type": "code",
   "execution_count": 16,
   "id": "12172906",
   "metadata": {},
   "outputs": [
    {
     "data": {
      "text/plain": [
       "'ilk satır \\\\ n ikinci satır'"
      ]
     },
     "execution_count": 16,
     "metadata": {},
     "output_type": "execute_result"
    }
   ],
   "source": [
    "a"
   ]
  },
  {
   "cell_type": "markdown",
   "id": "36db42b4",
   "metadata": {},
   "source": [
    "a ifadesini çağırınca \\n komutu bir işe yaramadı"
   ]
  },
  {
   "cell_type": "code",
   "execution_count": 13,
   "id": "4200c311",
   "metadata": {
    "scrolled": true
   },
   "outputs": [
    {
     "name": "stdout",
     "output_type": "stream",
     "text": [
      "ilk satır \n",
      " ikinci satır\n"
     ]
    }
   ],
   "source": [
    "print(\"ilk satır \\n ikinci satır\")"
   ]
  },
  {
   "cell_type": "markdown",
   "id": "4eea40cb",
   "metadata": {},
   "source": [
    "lakin print(\"ifade\") şeklinde yazdırınca \\n komutumuz çalıştı"
   ]
  },
  {
   "cell_type": "code",
   "execution_count": 18,
   "id": "a6b06153",
   "metadata": {
    "scrolled": true
   },
   "outputs": [
    {
     "data": {
      "text/plain": [
       "'anneanne'"
      ]
     },
     "execution_count": 18,
     "metadata": {},
     "output_type": "execute_result"
    }
   ],
   "source": [
    "'anne'*2"
   ]
  },
  {
   "cell_type": "markdown",
   "id": "98257689",
   "metadata": {},
   "source": [
    "normal şartlarda herhangi bir kelime ile işlem yapılamaz ancak pythonda işler biraz farklı işliyor, toplayabiliyoruz"
   ]
  },
  {
   "cell_type": "code",
   "execution_count": 19,
   "id": "c7192cf1",
   "metadata": {
    "scrolled": false
   },
   "outputs": [
    {
     "data": {
      "text/plain": [
       "'babaanne'"
      ]
     },
     "execution_count": 19,
     "metadata": {},
     "output_type": "execute_result"
    }
   ],
   "source": [
    "'baba'+'anne'"
   ]
  },
  {
   "cell_type": "markdown",
   "id": "59ad2a32",
   "metadata": {},
   "source": [
    "ve çarpabiliyoruz"
   ]
  },
  {
   "cell_type": "code",
   "execution_count": 21,
   "id": "d3db7f20",
   "metadata": {
    "scrolled": true
   },
   "outputs": [
    {
     "ename": "NameError",
     "evalue": "name 'ba' is not defined",
     "output_type": "error",
     "traceback": [
      "\u001b[1;31m---------------------------------------------------------------------------\u001b[0m",
      "\u001b[1;31mNameError\u001b[0m                                 Traceback (most recent call last)",
      "\u001b[1;32m<ipython-input-21-4ed16b9535ea>\u001b[0m in \u001b[0;36m<module>\u001b[1;34m\u001b[0m\n\u001b[1;32m----> 1\u001b[1;33m \u001b[0mba\u001b[0m\u001b[1;33m*\u001b[0m\u001b[1;36m2\u001b[0m\u001b[1;33m\u001b[0m\u001b[1;33m\u001b[0m\u001b[0m\n\u001b[0m",
      "\u001b[1;31mNameError\u001b[0m: name 'ba' is not defined"
     ]
    }
   ],
   "source": [
    "ba*2"
   ]
  },
  {
   "cell_type": "markdown",
   "id": "7aeee41c",
   "metadata": {},
   "source": [
    "'ifade' tarzında tanımlama yapmazsak python bunu algılayamaz ve hata verir"
   ]
  },
  {
   "cell_type": "code",
   "execution_count": 22,
   "id": "6bdcd22c",
   "metadata": {
    "scrolled": true
   },
   "outputs": [
    {
     "data": {
      "text/plain": [
       "'anneannemin babası hala yaşıyor'"
      ]
     },
     "execution_count": 22,
     "metadata": {},
     "output_type": "execute_result"
    }
   ],
   "source": [
    "('anne'*2) +'min babası hala yaşıyor'"
   ]
  },
  {
   "cell_type": "code",
   "execution_count": 23,
   "id": "1da7321f",
   "metadata": {},
   "outputs": [
    {
     "data": {
      "text/plain": [
       "\"antalya'da havabugün çook sıcak\""
      ]
     },
     "execution_count": 23,
     "metadata": {},
     "output_type": "execute_result"
    }
   ],
   "source": [
    "'antalya\\'da hava'+'bugün çook sıcak'"
   ]
  },
  {
   "cell_type": "code",
   "execution_count": 26,
   "id": "4e506797",
   "metadata": {},
   "outputs": [
    {
     "data": {
      "text/plain": [
       "\"antalya'da hava bugün çok sıcak\""
      ]
     },
     "execution_count": 26,
     "metadata": {},
     "output_type": "execute_result"
    }
   ],
   "source": [
    "'antalya\\'da hava'+' bugün çok sıcak'"
   ]
  },
  {
   "cell_type": "code",
   "execution_count": 27,
   "id": "9422109f",
   "metadata": {},
   "outputs": [
    {
     "data": {
      "text/plain": [
       "'python'"
      ]
     },
     "execution_count": 27,
     "metadata": {},
     "output_type": "execute_result"
    }
   ],
   "source": [
    "'py'+'thon'"
   ]
  },
  {
   "cell_type": "code",
   "execution_count": 28,
   "id": "21ff6091",
   "metadata": {},
   "outputs": [
    {
     "data": {
      "text/plain": [
       "'python'"
      ]
     },
     "execution_count": 28,
     "metadata": {},
     "output_type": "execute_result"
    }
   ],
   "source": [
    "'py' 'thon'"
   ]
  },
  {
   "cell_type": "code",
   "execution_count": 29,
   "id": "5423d217",
   "metadata": {},
   "outputs": [],
   "source": [
    "a = \"anne\""
   ]
  },
  {
   "cell_type": "code",
   "execution_count": 30,
   "id": "e36997c1",
   "metadata": {},
   "outputs": [
    {
     "data": {
      "text/plain": [
       "'anneanne'"
      ]
     },
     "execution_count": 30,
     "metadata": {},
     "output_type": "execute_result"
    }
   ],
   "source": [
    "a+\"anne\""
   ]
  },
  {
   "cell_type": "code",
   "execution_count": 31,
   "id": "e4f6bb99",
   "metadata": {},
   "outputs": [],
   "source": [
    "kelime = 'eyvallah'"
   ]
  },
  {
   "cell_type": "code",
   "execution_count": 32,
   "id": "b7128c41",
   "metadata": {},
   "outputs": [
    {
     "data": {
      "text/plain": [
       "'eyvallah'"
      ]
     },
     "execution_count": 32,
     "metadata": {},
     "output_type": "execute_result"
    }
   ],
   "source": [
    "kelime"
   ]
  },
  {
   "cell_type": "code",
   "execution_count": 44,
   "id": "09d1d960",
   "metadata": {},
   "outputs": [
    {
     "data": {
      "text/plain": [
       "'e'"
      ]
     },
     "execution_count": 44,
     "metadata": {},
     "output_type": "execute_result"
    }
   ],
   "source": [
    "kelime[0]"
   ]
  },
  {
   "cell_type": "code",
   "execution_count": 45,
   "id": "e5c975d8",
   "metadata": {},
   "outputs": [
    {
     "data": {
      "text/plain": [
       "8"
      ]
     },
     "execution_count": 45,
     "metadata": {},
     "output_type": "execute_result"
    }
   ],
   "source": [
    "len(kelime)"
   ]
  },
  {
   "cell_type": "markdown",
   "id": "32fdc87a",
   "metadata": {},
   "source": [
    "len() fonksiyonu parantez içine yazdığımız ifadenin harf sayısını bize gösterir"
   ]
  },
  {
   "cell_type": "code",
   "execution_count": 55,
   "id": "02919af1",
   "metadata": {},
   "outputs": [
    {
     "data": {
      "text/plain": [
       "'al'"
      ]
     },
     "execution_count": 55,
     "metadata": {},
     "output_type": "execute_result"
    }
   ],
   "source": [
    "kelime[3:5]"
   ]
  },
  {
   "cell_type": "markdown",
   "id": "1afe0ae7",
   "metadata": {},
   "source": [
    "kelime[a,b] ifadesi kelime hangi ifadeye denk geliyorsa o ifadenin a nıncı ve b ninci harfi arasındaki harfleri gösterir, a nıncı harf dahil değildir ama b ninci harf dahildir"
   ]
  },
  {
   "cell_type": "code",
   "execution_count": 54,
   "id": "2126d553",
   "metadata": {},
   "outputs": [
    {
     "data": {
      "text/plain": [
       "'h'"
      ]
     },
     "execution_count": 54,
     "metadata": {},
     "output_type": "execute_result"
    }
   ],
   "source": [
    "kelime[-1]"
   ]
  },
  {
   "cell_type": "code",
   "execution_count": 58,
   "id": "a6404816",
   "metadata": {},
   "outputs": [
    {
     "ename": "TypeError",
     "evalue": "string indices must be integers",
     "output_type": "error",
     "traceback": [
      "\u001b[1;31m---------------------------------------------------------------------------\u001b[0m",
      "\u001b[1;31mTypeError\u001b[0m                                 Traceback (most recent call last)",
      "\u001b[1;32m<ipython-input-58-db81b78d204e>\u001b[0m in \u001b[0;36m<module>\u001b[1;34m\u001b[0m\n\u001b[1;32m----> 1\u001b[1;33m \u001b[0mkelime\u001b[0m\u001b[1;33m[\u001b[0m\u001b[1;33m-\u001b[0m\u001b[1;36m2\u001b[0m\u001b[1;33m,\u001b[0m\u001b[1;33m-\u001b[0m\u001b[1;36m4\u001b[0m\u001b[1;33m]\u001b[0m\u001b[1;33m\u001b[0m\u001b[1;33m\u001b[0m\u001b[0m\n\u001b[0m",
      "\u001b[1;31mTypeError\u001b[0m: string indices must be integers"
     ]
    }
   ],
   "source": [
    "kelime[-2,-4]"
   ]
  },
  {
   "cell_type": "markdown",
   "id": "65c74f0b",
   "metadata": {},
   "source": [
    "hata verdi çünkü bu fonksiyon soldan sağa doğru ilerliyor terse doğru gitmiyor"
   ]
  }
 ],
 "metadata": {
  "kernelspec": {
   "display_name": "Python 3",
   "language": "python",
   "name": "python3"
  },
  "language_info": {
   "codemirror_mode": {
    "name": "ipython",
    "version": 3
   },
   "file_extension": ".py",
   "mimetype": "text/x-python",
   "name": "python",
   "nbconvert_exporter": "python",
   "pygments_lexer": "ipython3",
   "version": "3.8.8"
  }
 },
 "nbformat": 4,
 "nbformat_minor": 5
}
