{
 "cells": [
  {
   "cell_type": "markdown",
   "id": "03dd6ace",
   "metadata": {},
   "source": [
    "# 4. HOUGH LİNE TRANSFORM 2. ADIM"
   ]
  },
  {
   "cell_type": "code",
   "execution_count": 1,
   "id": "64d0007f",
   "metadata": {},
   "outputs": [],
   "source": [
    "import cv2\n",
    "import numpy as np\n",
    "\n",
    "vid = cv2.VideoCapture(\"C:/Users/oguza/Desktop/opencvresimler/h_linevideo.mp4.\")\n",
    "\n",
    "while True:\n",
    "    ret,frame = vid.read()\n",
    "    if ret == False:\n",
    "        break\n",
    "        \n",
    "    frame = cv2.resize(frame,(640,480))\n",
    "    hsv = cv2.cvtColor(frame,cv2.COLOR_BGR2HSV)\n",
    "    \n",
    "    lower_yellow = np.array([18,94,140],np.uint8)\n",
    "    upper_yellow = np.array([48,255,255],np.uint8)\n",
    "    \n",
    "    mask = cv2.inRange(hsv,lower_yellow,upper_yellow)\n",
    "    \n",
    "    edges = cv2.Canny(mask,75,250)\n",
    "    \n",
    "    lines = cv2.HoughLinesP(edges,1,np.pi/180,50,maxLineGap=75)\n",
    "    \n",
    "    if lines is None:\n",
    "            pass\n",
    "    else:\n",
    "        for line in lines:\n",
    "    \n",
    "            (x1,y1,x2,y2) = line[0]\n",
    "            cv2.line(frame,(x1,y1),(x2,y2),(0,255,0),5)\n",
    "        \n",
    "    cv2.imshow(\"sariontheway\", frame)\n",
    "    cv2.imshow(\"mask\", mask)\n",
    "    if cv2.waitKey(1) == ord('q'):\n",
    "        break\n",
    "    \n",
    "vid.release()\n",
    "cv2.destroyAllWindows()"
   ]
  },
  {
   "cell_type": "code",
   "execution_count": null,
   "id": "131cd45b",
   "metadata": {},
   "outputs": [],
   "source": [
    "sarı rengin takibini yaptık videoda"
   ]
  },
  {
   "cell_type": "code",
   "execution_count": null,
   "id": "01aa6230",
   "metadata": {},
   "outputs": [],
   "source": []
  }
 ],
 "metadata": {
  "kernelspec": {
   "display_name": "Python 3",
   "language": "python",
   "name": "python3"
  },
  "language_info": {
   "codemirror_mode": {
    "name": "ipython",
    "version": 3
   },
   "file_extension": ".py",
   "mimetype": "text/x-python",
   "name": "python",
   "nbconvert_exporter": "python",
   "pygments_lexer": "ipython3",
   "version": "3.8.8"
  }
 },
 "nbformat": 4,
 "nbformat_minor": 5
}
