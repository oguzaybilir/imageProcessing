{
 "cells": [
  {
   "cell_type": "markdown",
   "id": "fb2364d4",
   "metadata": {},
   "source": [
    "# 1. HOUGH YÖNTEMLERİNE GİRİŞ"
   ]
  },
  {
   "cell_type": "markdown",
   "id": "ecdbf528",
   "metadata": {},
   "source": [
    "# 1) HOUGH ÇİZGİ DÖNÜŞÜMÜ"
   ]
  },
  {
   "cell_type": "markdown",
   "id": "b6def0e1",
   "metadata": {},
   "source": [
    "canny edge ve hough yöntemini kullanacağız \n",
    "\n",
    "feature space diye bir uzay oluşturacağız \n",
    "\n",
    "özellik uzayında koordinat düzlemini x,y den b,a ' ya çeviriyoruz ve bu dönüşümle noktaları çizgilere dönüştürmüş oluyoruz\n",
    "\n",
    "aynı çizgi üzerinde seçitimiz tüm noktaları dönüştürdüğümüzde hepsi \n",
    "kesişir\n",
    "\n",
    "x.cos(alfa) + y.sin(alfa) = p"
   ]
  },
  {
   "cell_type": "markdown",
   "id": "6231cd1f",
   "metadata": {},
   "source": [
    "herhangi bir nokta resim üzerinde yavaş yavaş kayar ve bu kayma esnasında bu nokta bir köşeye gelince durur ve orayı taramaya başlar, bu tarama işlemi sonucununda belli veriler elde eder, eğer bu veriler orada bir doğru olduğunu işaret ediyorsa bunu daha sonra çizmek üzere aklında tutar\n",
    "\n"
   ]
  },
  {
   "cell_type": "markdown",
   "id": "c73a7837",
   "metadata": {},
   "source": [
    "# 2) HOUGH DAİRE DÖNÜŞÜMÜ"
   ]
  },
  {
   "cell_type": "markdown",
   "id": "20cc2b32",
   "metadata": {},
   "source": [
    "çember formülü: r = (x-a)**2 + (y-b)**2     (a,b) çemberin merkezi olmak üzere"
   ]
  },
  {
   "cell_type": "markdown",
   "id": "5be7e3a8",
   "metadata": {},
   "source": [
    "yine ekranda gezen bir nokta var bu nokta başka bir noktaya denk gelince yakaladığı noktadan çemberler çiziyor bu işlem tüm şekil taranana kadar devam ediyor \n",
    "ve daha önceden girmiş olduğumuz yarıçap değerine göre taradığı alanı parlatıyor\n"
   ]
  },
  {
   "cell_type": "code",
   "execution_count": null,
   "id": "8a876675",
   "metadata": {},
   "outputs": [],
   "source": []
  }
 ],
 "metadata": {
  "kernelspec": {
   "display_name": "Python 3",
   "language": "python",
   "name": "python3"
  },
  "language_info": {
   "codemirror_mode": {
    "name": "ipython",
    "version": 3
   },
   "file_extension": ".py",
   "mimetype": "text/x-python",
   "name": "python",
   "nbconvert_exporter": "python",
   "pygments_lexer": "ipython3",
   "version": "3.8.8"
  }
 },
 "nbformat": 4,
 "nbformat_minor": 5
}
