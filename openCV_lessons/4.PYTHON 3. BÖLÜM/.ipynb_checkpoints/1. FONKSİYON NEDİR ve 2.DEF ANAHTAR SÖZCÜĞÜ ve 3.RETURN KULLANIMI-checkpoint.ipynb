{
 "cells": [
  {
   "cell_type": "markdown",
   "id": "878a2660",
   "metadata": {},
   "source": [
    "# 1. FONKSİYON NEDİR"
   ]
  },
  {
   "cell_type": "markdown",
   "id": "9ae3b72e",
   "metadata": {},
   "source": [
    "fonksiyon = makine = işlev = davranış"
   ]
  },
  {
   "cell_type": "markdown",
   "id": "9c9f02e4",
   "metadata": {},
   "source": [
    "# DEF ANAHTAR SÖZCÜĞÜ"
   ]
  },
  {
   "cell_type": "code",
   "execution_count": 13,
   "id": "f1a55545",
   "metadata": {},
   "outputs": [],
   "source": [
    "def kare(x):\n",
    "    if x<5:\n",
    "        print(\"cok kucuk bir deger\")\n",
    "    else:\n",
    "        print(x**2)"
   ]
  },
  {
   "cell_type": "code",
   "execution_count": 17,
   "id": "cc0177bd",
   "metadata": {},
   "outputs": [
    {
     "name": "stdout",
     "output_type": "stream",
     "text": [
      "cok kucuk bir deger\n",
      "81\n"
     ]
    },
    {
     "data": {
      "text/plain": [
       "(None, None)"
      ]
     },
     "execution_count": 17,
     "metadata": {},
     "output_type": "execute_result"
    }
   ],
   "source": [
    "kare(3), kare(9)"
   ]
  },
  {
   "cell_type": "markdown",
   "id": "3be4885d",
   "metadata": {},
   "source": [
    "girinti bırakarak üstteki işlemin içinde olduğumu belirtmiş oluyorum"
   ]
  },
  {
   "cell_type": "markdown",
   "id": "d117cb82",
   "metadata": {},
   "source": [
    "# RETURN KULLANIMI"
   ]
  },
  {
   "cell_type": "code",
   "execution_count": 18,
   "id": "8494f173",
   "metadata": {},
   "outputs": [],
   "source": [
    "def f(x):\n",
    "    return x**2"
   ]
  },
  {
   "cell_type": "markdown",
   "id": "7d79c4c3",
   "metadata": {},
   "source": [
    "return komutunu bir nevi eşittir işareti olarak düşünebiliriz"
   ]
  },
  {
   "cell_type": "code",
   "execution_count": 19,
   "id": "6c447084",
   "metadata": {},
   "outputs": [
    {
     "data": {
      "text/plain": [
       "81"
      ]
     },
     "execution_count": 19,
     "metadata": {},
     "output_type": "execute_result"
    }
   ],
   "source": [
    "f(9)"
   ]
  },
  {
   "cell_type": "code",
   "execution_count": 20,
   "id": "1e031c47",
   "metadata": {},
   "outputs": [
    {
     "name": "stdout",
     "output_type": "stream",
     "text": [
      "81\n"
     ]
    }
   ],
   "source": [
    "print(f(9))"
   ]
  },
  {
   "cell_type": "markdown",
   "id": "50e42744",
   "metadata": {},
   "source": [
    "üstte f(9) ile print((f9)) arasındaki fark f(9) halindeyken sadece hafızada tutuyor, print(f(9)) şeklinde ise önce f(9) ile fonksiyona değer verdik, sonra bu değeri yazdırdık"
   ]
  },
  {
   "cell_type": "code",
   "execution_count": null,
   "id": "fbdaee8d",
   "metadata": {},
   "outputs": [],
   "source": []
  },
  {
   "cell_type": "code",
   "execution_count": null,
   "id": "b607741a",
   "metadata": {},
   "outputs": [],
   "source": []
  },
  {
   "cell_type": "code",
   "execution_count": null,
   "id": "8eb1b423",
   "metadata": {},
   "outputs": [],
   "source": []
  }
 ],
 "metadata": {
  "kernelspec": {
   "display_name": "Python 3",
   "language": "python",
   "name": "python3"
  },
  "language_info": {
   "codemirror_mode": {
    "name": "ipython",
    "version": 3
   },
   "file_extension": ".py",
   "mimetype": "text/x-python",
   "name": "python",
   "nbconvert_exporter": "python",
   "pygments_lexer": "ipython3",
   "version": "3.8.8"
  }
 },
 "nbformat": 4,
 "nbformat_minor": 5
}
