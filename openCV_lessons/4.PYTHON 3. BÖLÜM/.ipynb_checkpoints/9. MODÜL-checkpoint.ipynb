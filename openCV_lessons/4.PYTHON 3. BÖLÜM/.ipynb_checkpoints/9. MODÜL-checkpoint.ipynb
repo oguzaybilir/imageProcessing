{
 "cells": [
  {
   "cell_type": "markdown",
   "id": "356c1fdd",
   "metadata": {},
   "source": [
    "# 9. MODÜL"
   ]
  },
  {
   "cell_type": "markdown",
   "id": "f8dc6858",
   "metadata": {},
   "source": [
    "işlemez haldeki pythonu modüller ekleyerek işler hale getiriyorum"
   ]
  },
  {
   "cell_type": "code",
   "execution_count": 5,
   "id": "e7ce24f5",
   "metadata": {},
   "outputs": [],
   "source": [
    "def selam():\n",
    "    print(\"esenlikler\")"
   ]
  }
 ],
 "metadata": {
  "kernelspec": {
   "display_name": "Python 3",
   "language": "python",
   "name": "python3"
  },
  "language_info": {
   "codemirror_mode": {
    "name": "ipython",
    "version": 3
   },
   "file_extension": ".py",
   "mimetype": "text/x-python",
   "name": "python",
   "nbconvert_exporter": "python",
   "pygments_lexer": "ipython3",
   "version": "3.8.8"
  }
 },
 "nbformat": 4,
 "nbformat_minor": 5
}
