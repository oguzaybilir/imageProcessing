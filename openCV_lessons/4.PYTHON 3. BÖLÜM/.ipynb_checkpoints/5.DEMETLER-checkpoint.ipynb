{
 "cells": [
  {
   "cell_type": "markdown",
   "id": "ecb12f97",
   "metadata": {},
   "source": [
    "# 5.DEMETLER "
   ]
  },
  {
   "cell_type": "markdown",
   "id": "b95f3060",
   "metadata": {},
   "source": [
    "tuple = demet \n"
   ]
  },
  {
   "cell_type": "code",
   "execution_count": 3,
   "id": "caf52d24",
   "metadata": {},
   "outputs": [
    {
     "name": "stdout",
     "output_type": "stream",
     "text": [
      "(1, 2, 3, 4)\n"
     ]
    }
   ],
   "source": [
    "tup1 = (1,2,3,4)\n",
    "print(tup1)"
   ]
  },
  {
   "cell_type": "code",
   "execution_count": 4,
   "id": "2c6fb292",
   "metadata": {},
   "outputs": [],
   "source": [
    "demet = (1,2,3,4,\"oguz\",\"18\")"
   ]
  },
  {
   "cell_type": "code",
   "execution_count": 5,
   "id": "4882aa3d",
   "metadata": {},
   "outputs": [
    {
     "name": "stdout",
     "output_type": "stream",
     "text": [
      "(1, 2, 3, 4, 'oguz', '18')\n"
     ]
    }
   ],
   "source": [
    "print(demet)"
   ]
  },
  {
   "cell_type": "code",
   "execution_count": 6,
   "id": "352afe94",
   "metadata": {},
   "outputs": [],
   "source": [
    "demet = (\"betik\", \"oguz\", \"18\")"
   ]
  },
  {
   "cell_type": "code",
   "execution_count": 7,
   "id": "f5004fbd",
   "metadata": {
    "scrolled": true
   },
   "outputs": [
    {
     "name": "stdout",
     "output_type": "stream",
     "text": [
      "('betik', 'oguz', '18')\n"
     ]
    }
   ],
   "source": [
    "print(demet)"
   ]
  },
  {
   "cell_type": "markdown",
   "id": "e73f0106",
   "metadata": {},
   "source": [
    "tuple ların içindeki elemanlar değiştirilemez bunu derkenki kastım aşağıdadır"
   ]
  },
  {
   "cell_type": "code",
   "execution_count": 8,
   "id": "21217089",
   "metadata": {
    "scrolled": true
   },
   "outputs": [
    {
     "data": {
      "text/plain": [
       "'18'"
      ]
     },
     "execution_count": 8,
     "metadata": {},
     "output_type": "execute_result"
    }
   ],
   "source": [
    "demet[2]"
   ]
  },
  {
   "cell_type": "code",
   "execution_count": 9,
   "id": "b28b1f57",
   "metadata": {
    "scrolled": true
   },
   "outputs": [
    {
     "ename": "TypeError",
     "evalue": "'tuple' object does not support item assignment",
     "output_type": "error",
     "traceback": [
      "\u001b[1;31m---------------------------------------------------------------------------\u001b[0m",
      "\u001b[1;31mTypeError\u001b[0m                                 Traceback (most recent call last)",
      "\u001b[1;32m<ipython-input-9-985f1ec51dd5>\u001b[0m in \u001b[0;36m<module>\u001b[1;34m\u001b[0m\n\u001b[1;32m----> 1\u001b[1;33m \u001b[0mdemet\u001b[0m\u001b[1;33m[\u001b[0m\u001b[1;36m2\u001b[0m\u001b[1;33m]\u001b[0m \u001b[1;33m=\u001b[0m \u001b[1;34m'19'\u001b[0m\u001b[1;33m\u001b[0m\u001b[1;33m\u001b[0m\u001b[0m\n\u001b[0m",
      "\u001b[1;31mTypeError\u001b[0m: 'tuple' object does not support item assignment"
     ]
    }
   ],
   "source": [
    "demet[2] = '19'"
   ]
  },
  {
   "cell_type": "markdown",
   "id": "2922869f",
   "metadata": {},
   "source": [
    "eğer bu demet dediğimiz şey bir liste olsaydı listedeki 2. değeri 19'a eşitleyebilirdik lakin tuple larda böyle bir durum söz konusu değildir"
   ]
  },
  {
   "cell_type": "markdown",
   "id": "150739f9",
   "metadata": {},
   "source": [
    "tuple içindeki elemanlar değiştirilemez ama eklenebilir"
   ]
  },
  {
   "cell_type": "code",
   "execution_count": 10,
   "id": "f7f91915",
   "metadata": {},
   "outputs": [],
   "source": [
    "birdemet = (\"okul\", \"drone\", \"yazılım\")"
   ]
  },
  {
   "cell_type": "code",
   "execution_count": 11,
   "id": "091d2c53",
   "metadata": {},
   "outputs": [],
   "source": [
    "x = demet + birdemet"
   ]
  },
  {
   "cell_type": "code",
   "execution_count": 12,
   "id": "26004b16",
   "metadata": {},
   "outputs": [
    {
     "name": "stdout",
     "output_type": "stream",
     "text": [
      "('betik', 'oguz', '18', 'okul', 'drone', 'yazılım')\n"
     ]
    }
   ],
   "source": [
    "print(x)"
   ]
  },
  {
   "cell_type": "code",
   "execution_count": null,
   "id": "b43287cd",
   "metadata": {},
   "outputs": [],
   "source": []
  },
  {
   "cell_type": "code",
   "execution_count": null,
   "id": "25213075",
   "metadata": {},
   "outputs": [],
   "source": []
  }
 ],
 "metadata": {
  "kernelspec": {
   "display_name": "Python 3",
   "language": "python",
   "name": "python3"
  },
  "language_info": {
   "codemirror_mode": {
    "name": "ipython",
    "version": 3
   },
   "file_extension": ".py",
   "mimetype": "text/x-python",
   "name": "python",
   "nbconvert_exporter": "python",
   "pygments_lexer": "ipython3",
   "version": "3.8.8"
  }
 },
 "nbformat": 4,
 "nbformat_minor": 5
}
