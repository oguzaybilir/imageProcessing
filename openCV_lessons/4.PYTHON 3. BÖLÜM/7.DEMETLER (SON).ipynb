{
 "cells": [
  {
   "cell_type": "markdown",
   "id": "b39c188b",
   "metadata": {},
   "source": [
    "# 7.DEMETLER(SON)"
   ]
  },
  {
   "cell_type": "code",
   "execution_count": 1,
   "id": "57bd6658",
   "metadata": {},
   "outputs": [],
   "source": [
    "demet = (1,2,3,4,5)"
   ]
  },
  {
   "cell_type": "code",
   "execution_count": 2,
   "id": "b5f08552",
   "metadata": {},
   "outputs": [
    {
     "data": {
      "text/plain": [
       "(1, 2, 3, 4, 5)"
      ]
     },
     "execution_count": 2,
     "metadata": {},
     "output_type": "execute_result"
    }
   ],
   "source": [
    "demet"
   ]
  },
  {
   "cell_type": "code",
   "execution_count": 3,
   "id": "7fee4128",
   "metadata": {},
   "outputs": [
    {
     "name": "stdout",
     "output_type": "stream",
     "text": [
      "(1, 2, 3, 4, 5)\n"
     ]
    }
   ],
   "source": [
    "print(demet)"
   ]
  },
  {
   "cell_type": "code",
   "execution_count": 4,
   "id": "edd4e21c",
   "metadata": {},
   "outputs": [],
   "source": [
    "del demet"
   ]
  },
  {
   "cell_type": "code",
   "execution_count": 5,
   "id": "14171dfd",
   "metadata": {
    "scrolled": true
   },
   "outputs": [
    {
     "ename": "NameError",
     "evalue": "name 'demet' is not defined",
     "output_type": "error",
     "traceback": [
      "\u001b[1;31m---------------------------------------------------------------------------\u001b[0m",
      "\u001b[1;31mNameError\u001b[0m                                 Traceback (most recent call last)",
      "\u001b[1;32m<ipython-input-5-a689a3f82b92>\u001b[0m in \u001b[0;36m<module>\u001b[1;34m\u001b[0m\n\u001b[1;32m----> 1\u001b[1;33m \u001b[0mdemet\u001b[0m\u001b[1;33m\u001b[0m\u001b[1;33m\u001b[0m\u001b[0m\n\u001b[0m",
      "\u001b[1;31mNameError\u001b[0m: name 'demet' is not defined"
     ]
    }
   ],
   "source": [
    "demet"
   ]
  },
  {
   "cell_type": "markdown",
   "id": "94e56865",
   "metadata": {},
   "source": [
    "del x komutu x ne ise onu siler demet tuple ını sildik ve demeti çağırdığımızda sıkıntı oldu"
   ]
  },
  {
   "cell_type": "code",
   "execution_count": 6,
   "id": "0e8e69a9",
   "metadata": {},
   "outputs": [],
   "source": [
    "demet = (1,2,3,4,5)"
   ]
  },
  {
   "cell_type": "code",
   "execution_count": 7,
   "id": "f4adea19",
   "metadata": {},
   "outputs": [
    {
     "data": {
      "text/plain": [
       "3"
      ]
     },
     "execution_count": 7,
     "metadata": {},
     "output_type": "execute_result"
    }
   ],
   "source": [
    "len((1,2,3))"
   ]
  },
  {
   "cell_type": "code",
   "execution_count": 8,
   "id": "b76a50d7",
   "metadata": {},
   "outputs": [
    {
     "data": {
      "text/plain": [
       "5"
      ]
     },
     "execution_count": 8,
     "metadata": {},
     "output_type": "execute_result"
    }
   ],
   "source": [
    "len(demet)"
   ]
  },
  {
   "cell_type": "code",
   "execution_count": 12,
   "id": "9d224aee",
   "metadata": {},
   "outputs": [
    {
     "data": {
      "text/plain": [
       "'esenlikler esenlikler '"
      ]
     },
     "execution_count": 12,
     "metadata": {},
     "output_type": "execute_result"
    }
   ],
   "source": [
    "(\"esenlikler \")*2"
   ]
  },
  {
   "cell_type": "code",
   "execution_count": 13,
   "id": "8eb19042",
   "metadata": {},
   "outputs": [],
   "source": [
    "x = (\"a\", \"b\", \"c\", \"d\")"
   ]
  },
  {
   "cell_type": "code",
   "execution_count": 17,
   "id": "5d74bd48",
   "metadata": {},
   "outputs": [
    {
     "data": {
      "text/plain": [
       "False"
      ]
     },
     "execution_count": 17,
     "metadata": {},
     "output_type": "execute_result"
    }
   ],
   "source": [
    "\"ç\" in x"
   ]
  },
  {
   "cell_type": "markdown",
   "id": "5cb63b44",
   "metadata": {},
   "source": [
    "\"z\" in x ifadesi x tuple nda tırnak işaretleri içindeki değerin olup olmadığını bize söyler"
   ]
  },
  {
   "cell_type": "code",
   "execution_count": 23,
   "id": "6e2a420f",
   "metadata": {},
   "outputs": [
    {
     "name": "stdout",
     "output_type": "stream",
     "text": [
      "a\n",
      "b\n",
      "c\n",
      "d\n"
     ]
    }
   ],
   "source": [
    "for gezgin in x:\n",
    "    print(gezgin)"
   ]
  },
  {
   "cell_type": "markdown",
   "id": "3643a6ff",
   "metadata": {},
   "source": [
    "gezgin isimli değişken x tuple ındaki tüm değerleri tek tek gezdi"
   ]
  },
  {
   "cell_type": "markdown",
   "id": "2d43fb81",
   "metadata": {},
   "source": [
    "eğer for kısmını silersek iş true false yani \"gezgin x tuple ında var mı yok mu ?\" mevzusuna döner"
   ]
  },
  {
   "cell_type": "code",
   "execution_count": null,
   "id": "d32c25fe",
   "metadata": {},
   "outputs": [],
   "source": []
  }
 ],
 "metadata": {
  "kernelspec": {
   "display_name": "Python 3",
   "language": "python",
   "name": "python3"
  },
  "language_info": {
   "codemirror_mode": {
    "name": "ipython",
    "version": 3
   },
   "file_extension": ".py",
   "mimetype": "text/x-python",
   "name": "python",
   "nbconvert_exporter": "python",
   "pygments_lexer": "ipython3",
   "version": "3.8.8"
  }
 },
 "nbformat": 4,
 "nbformat_minor": 5
}
