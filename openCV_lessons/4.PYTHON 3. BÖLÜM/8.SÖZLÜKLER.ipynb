{
 "cells": [
  {
   "cell_type": "markdown",
   "id": "ca16e06d",
   "metadata": {},
   "source": [
    "# 8.SÖZLÜKLER"
   ]
  },
  {
   "cell_type": "markdown",
   "id": "1b944b32",
   "metadata": {},
   "source": [
    "key : value"
   ]
  },
  {
   "cell_type": "code",
   "execution_count": 2,
   "id": "2614f95e",
   "metadata": {},
   "outputs": [],
   "source": [
    "sozluk = {'ad': \"oguzay\", \"yas\":\"22\", \"okul\":\"universite seviyesi\"}"
   ]
  },
  {
   "cell_type": "code",
   "execution_count": 5,
   "id": "cb903a29",
   "metadata": {
    "scrolled": true
   },
   "outputs": [
    {
     "ename": "TypeError",
     "evalue": "unhashable type: 'slice'",
     "output_type": "error",
     "traceback": [
      "\u001b[1;31m---------------------------------------------------------------------------\u001b[0m",
      "\u001b[1;31mTypeError\u001b[0m                                 Traceback (most recent call last)",
      "\u001b[1;32m<ipython-input-5-c1e0975f15ae>\u001b[0m in \u001b[0;36m<module>\u001b[1;34m\u001b[0m\n\u001b[1;32m----> 1\u001b[1;33m \u001b[0msozluk\u001b[0m\u001b[1;33m[\u001b[0m\u001b[1;36m1\u001b[0m\u001b[1;33m:\u001b[0m\u001b[1;36m1\u001b[0m\u001b[1;33m]\u001b[0m\u001b[1;33m\u001b[0m\u001b[1;33m\u001b[0m\u001b[0m\n\u001b[0m",
      "\u001b[1;31mTypeError\u001b[0m: unhashable type: 'slice'"
     ]
    }
   ],
   "source": [
    "sozluk[0]"
   ]
  },
  {
   "cell_type": "markdown",
   "id": "4af84202",
   "metadata": {},
   "source": [
    "eğer bu bir tuple veya liste olsaydı üstteki komut işe yarardı ancak bu bir sözlük olduğu için işe yaramadı"
   ]
  },
  {
   "cell_type": "code",
   "execution_count": 8,
   "id": "92e1453c",
   "metadata": {},
   "outputs": [
    {
     "name": "stdout",
     "output_type": "stream",
     "text": [
      "oguzay\n",
      "22\n",
      "universite seviyesi\n"
     ]
    }
   ],
   "source": [
    "print (sozluk['ad'])\n",
    "print(sozluk[\"yas\"])\n",
    "print(sozluk[\"okul\"])"
   ]
  },
  {
   "cell_type": "code",
   "execution_count": 9,
   "id": "53bfaa6a",
   "metadata": {},
   "outputs": [
    {
     "name": "stdout",
     "output_type": "stream",
     "text": [
      "asya\n"
     ]
    }
   ],
   "source": [
    "sozluk['ad'] = \"asya\"\n",
    "\n",
    "print(sozluk['ad'])"
   ]
  },
  {
   "cell_type": "markdown",
   "id": "48c696b3",
   "metadata": {},
   "source": [
    "bu bir tuple olsaydı oguzay degeri değişmezdi"
   ]
  },
  {
   "cell_type": "code",
   "execution_count": 10,
   "id": "afc565af",
   "metadata": {},
   "outputs": [],
   "source": [
    "sozluk = {'ad': \"oguzay\", \"yas\":\"22\", \"okul\":\"universite seviyesi\"}"
   ]
  },
  {
   "cell_type": "code",
   "execution_count": 11,
   "id": "2aa502dd",
   "metadata": {},
   "outputs": [],
   "source": [
    "del sozluk['ad']"
   ]
  },
  {
   "cell_type": "code",
   "execution_count": 12,
   "id": "e345a122",
   "metadata": {},
   "outputs": [
    {
     "name": "stdout",
     "output_type": "stream",
     "text": [
      "{'yas': '22', 'okul': 'universite seviyesi'}\n"
     ]
    }
   ],
   "source": [
    "print(sozluk)"
   ]
  },
  {
   "cell_type": "markdown",
   "id": "79e1b9a4",
   "metadata": {},
   "source": [
    "del x komutunun ne işe yaradığını daha önce belirmiştim"
   ]
  },
  {
   "cell_type": "markdown",
   "id": "fe11a3c6",
   "metadata": {},
   "source": [
    "eğer sözlükteki herşeyi silmek istersek bunu yazacağız"
   ]
  },
  {
   "cell_type": "code",
   "execution_count": null,
   "id": "c91a55e3",
   "metadata": {},
   "outputs": [],
   "source": [
    "sozluk.clear()"
   ]
  },
  {
   "cell_type": "markdown",
   "id": "468227ac",
   "metadata": {},
   "source": [
    "bu komut sözlüğün içini temizledi, sözlüğün kendisi hala var"
   ]
  },
  {
   "cell_type": "code",
   "execution_count": 15,
   "id": "60f31939",
   "metadata": {},
   "outputs": [],
   "source": [
    "del sozluk"
   ]
  },
  {
   "cell_type": "markdown",
   "id": "d5af6907",
   "metadata": {},
   "source": [
    "şimdi ise sözlüğün kendisini de sildik"
   ]
  },
  {
   "cell_type": "code",
   "execution_count": 16,
   "id": "3828c2d0",
   "metadata": {},
   "outputs": [
    {
     "ename": "NameError",
     "evalue": "name 'sozluk' is not defined",
     "output_type": "error",
     "traceback": [
      "\u001b[1;31m---------------------------------------------------------------------------\u001b[0m",
      "\u001b[1;31mNameError\u001b[0m                                 Traceback (most recent call last)",
      "\u001b[1;32m<ipython-input-16-24f826696c73>\u001b[0m in \u001b[0;36m<module>\u001b[1;34m\u001b[0m\n\u001b[1;32m----> 1\u001b[1;33m \u001b[0mprint\u001b[0m\u001b[1;33m(\u001b[0m\u001b[0msozluk\u001b[0m\u001b[1;33m)\u001b[0m\u001b[1;33m\u001b[0m\u001b[1;33m\u001b[0m\u001b[0m\n\u001b[0m",
      "\u001b[1;31mNameError\u001b[0m: name 'sozluk' is not defined"
     ]
    }
   ],
   "source": [
    "print(sozluk)"
   ]
  },
  {
   "cell_type": "markdown",
   "id": "35fb6188",
   "metadata": {},
   "source": [
    "hata verdi çünkü del sozluk komutuyla sözlüğün kendisini de sildik"
   ]
  },
  {
   "cell_type": "code",
   "execution_count": null,
   "id": "91bfb917",
   "metadata": {},
   "outputs": [],
   "source": []
  }
 ],
 "metadata": {
  "kernelspec": {
   "display_name": "Python 3",
   "language": "python",
   "name": "python3"
  },
  "language_info": {
   "codemirror_mode": {
    "name": "ipython",
    "version": 3
   },
   "file_extension": ".py",
   "mimetype": "text/x-python",
   "name": "python",
   "nbconvert_exporter": "python",
   "pygments_lexer": "ipython3",
   "version": "3.8.8"
  }
 },
 "nbformat": 4,
 "nbformat_minor": 5
}
