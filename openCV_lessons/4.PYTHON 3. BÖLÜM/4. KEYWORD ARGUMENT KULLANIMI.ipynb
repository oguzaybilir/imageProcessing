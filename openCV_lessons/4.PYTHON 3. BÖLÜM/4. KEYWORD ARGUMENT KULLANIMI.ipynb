{
 "cells": [
  {
   "cell_type": "markdown",
   "id": "d0b522a9",
   "metadata": {},
   "source": [
    "# 4. KEYWORD ARGUMENT KULLANIMI"
   ]
  },
  {
   "cell_type": "code",
   "execution_count": 8,
   "id": "a4d87c42",
   "metadata": {},
   "outputs": [
    {
     "name": "stdout",
     "output_type": "stream",
     "text": [
      "tür: cingirakli yilan\n",
      "ortalama ağırlığı: 720\n",
      "beslenme türü: etçil\n"
     ]
    }
   ],
   "source": [
    "def yılan(tur = 'cingirakli yilan',ort_agirlik = 720, beslenme_türü = 'etçil'):\n",
    "    print('tür:' ,tur)\n",
    "    print('ortalama ağırlığı:', ort_agirlik)\n",
    "    print('beslenme türü:', beslenme_türü)\n",
    "yılan()"
   ]
  }
 ],
 "metadata": {
  "kernelspec": {
   "display_name": "Python 3",
   "language": "python",
   "name": "python3"
  },
  "language_info": {
   "codemirror_mode": {
    "name": "ipython",
    "version": 3
   },
   "file_extension": ".py",
   "mimetype": "text/x-python",
   "name": "python",
   "nbconvert_exporter": "python",
   "pygments_lexer": "ipython3",
   "version": "3.8.8"
  }
 },
 "nbformat": 4,
 "nbformat_minor": 5
}
