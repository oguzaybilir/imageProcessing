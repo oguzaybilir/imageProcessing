{
 "cells": [
  {
   "cell_type": "markdown",
   "id": "c1affab3",
   "metadata": {},
   "source": [
    "# renk takibi ekleme yapılacak\n"
   ]
  },
  {
   "cell_type": "code",
   "execution_count": 1,
   "id": "e9fb5ac3",
   "metadata": {},
   "outputs": [],
   "source": [
    "import cv2\n",
    "import numpy as np\n",
    "\n",
    "cap = cv2.VideoCapture(0)\n",
    "\n",
    "while True:\n",
    "    \n",
    "    ret,frame = cap.read()\n",
    "    \n",
    "    if ret is False:\n",
    "        break\n",
    "        \n",
    "    frame = cv2.resize(frame,(640,480))\n",
    "    hsv = cv2.cvtColor(frame, cv2.COLOR_BGR2HSV)\n",
    "    \n",
    "    lower_pink = np.array([128,63,133])\n",
    "    higher_pink = np.array([180,205,255])\n",
    "    \n",
    "    mask = cv2.inRange(hsv,lower_pink,higher_pink)\n",
    "    bitwise = cv2.bitwise_and(frame,frame,mask=mask)\n",
    "    \n",
    "    \n",
    "    cv2.imshow(\"mask\",mask)\n",
    "    cv2.imshow(\"frame\",frame)\n",
    "    cv2.imshow(\"bitwise\",bitwise)\n",
    "    \n",
    "    key = cv2.waitKey(10)\n",
    "    if key == ord('q'):\n",
    "        break\n",
    "        \n",
    "cap.release()\n",
    "cv2.destroyAllWindows()"
   ]
  },
  {
   "cell_type": "code",
   "execution_count": null,
   "id": "4766e1a8",
   "metadata": {},
   "outputs": [],
   "source": []
  }
 ],
 "metadata": {
  "kernelspec": {
   "display_name": "Python 3",
   "language": "python",
   "name": "python3"
  },
  "language_info": {
   "codemirror_mode": {
    "name": "ipython",
    "version": 3
   },
   "file_extension": ".py",
   "mimetype": "text/x-python",
   "name": "python",
   "nbconvert_exporter": "python",
   "pygments_lexer": "ipython3",
   "version": "3.8.8"
  }
 },
 "nbformat": 4,
 "nbformat_minor": 5
}
