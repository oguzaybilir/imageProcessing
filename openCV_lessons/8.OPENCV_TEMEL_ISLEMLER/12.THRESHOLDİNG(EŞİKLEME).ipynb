{
 "cells": [
  {
   "cell_type": "markdown",
   "id": "eecb3a10",
   "metadata": {},
   "source": [
    "# 12.THRESHOLDİNG(EŞİKLEME)"
   ]
  },
  {
   "cell_type": "code",
   "execution_count": 1,
   "id": "a46e3a2f",
   "metadata": {},
   "outputs": [],
   "source": [
    "import cv2\n",
    "import numpy as np\n",
    "from matplotlib import pyplot as plt\n",
    "\n",
    "img = cv2.imread(\"C:/Users/oguza/Desktop/opencvresimler/klon.jpg\",0)\n",
    "\n",
    "\n",
    "th2 = cv2.adaptiveThreshold(img,255,cv2.ADAPTIVE_THRESH_MEAN_C,cv2.THRESH_BINARY,11,2)\n",
    "th3 = cv2.adaptiveThreshold(img, 255, cv2.ADAPTIVE_THRESH_GAUSSIAN_C,cv2.THRESH_BINARY,21,2)\n",
    "\n",
    "\n",
    "cv2.imshow(\"img\", img)\n",
    "cv2.imshow(\"img-th1\", th1)\n",
    "cv2.imshow(\"img-th2\", th2)\n",
    "cv2.imshow(\"img-th3\", th3)\n",
    "\n",
    "cv2.waitKey(0)\n",
    "cv2.destroyAllWindows()"
   ]
  },
  {
   "cell_type": "markdown",
   "id": "352a3c17",
   "metadata": {},
   "source": [
    "ÇOK ÖNEMLİ BİR NOKTA VAR DİKKAT ET:\n",
    "MATRİXLE İLGİLİ İŞLEMLERİ YAPABİLMEK İÇİN RESİMLERİN 0 1 YANİ GRAY VEYA SİYAH BEYAZ OLMASI LAZIM\n",
    "\n",
    "cv2.THRESH_BINARY     Kaynak olarak alınan görüntü üzerindeki piksel,\n",
    "esikDegeri olarak verilen değerden büyükse maksDeger olarak verilen parametre değerine atanır.\n",
    "\n",
    "cv2.adaptiveThreshold     normal threshold bazı ışık değerlerinde farklı bölgelerde bize yardımcı olmadığı takdirde kullanabileceğimiz alternatif bir threshold yöntemidir\n",
    "\n",
    "cv2.adaptiveThreshold(resim, maks değer, cv2.ADAPTIVE_THRESH_MEAN_C, cv2.THRESH_BINARY, 11,2(BU 11,2 BÖLÜMÜ 1 KALANINI VERECEK ŞEKİLDE AYARLANIYOR))"
   ]
  },
  {
   "cell_type": "code",
   "execution_count": null,
   "id": "021de37f",
   "metadata": {},
   "outputs": [],
   "source": []
  }
 ],
 "metadata": {
  "kernelspec": {
   "display_name": "Python 3",
   "language": "python",
   "name": "python3"
  },
  "language_info": {
   "codemirror_mode": {
    "name": "ipython",
    "version": 3
   },
   "file_extension": ".py",
   "mimetype": "text/x-python",
   "name": "python",
   "nbconvert_exporter": "python",
   "pygments_lexer": "ipython3",
   "version": "3.8.8"
  }
 },
 "nbformat": 4,
 "nbformat_minor": 5
}
