{
 "cells": [
  {
   "cell_type": "markdown",
   "id": "d913316f",
   "metadata": {},
   "source": [
    "# 11.RESMİ DÖNDÜRME"
   ]
  },
  {
   "cell_type": "code",
   "execution_count": 5,
   "id": "c983308d",
   "metadata": {},
   "outputs": [],
   "source": [
    "import cv2\n",
    "import numpy as np\n",
    "\n",
    "img = cv2.imread(\"C:/Users/oguza/Desktop/opencvresimler/klon.jpg\",0)\n",
    "\n",
    "row,col = img.shape\n",
    "\n",
    "M = cv2.getRotationMatrix2D((col/8, row/8), 180, 1)\n",
    "\n",
    "dst = cv2.warpAffine(img,M,(col,row))\n",
    "\n",
    "cv2.imshow(\"dst\", dst)\n",
    "\n",
    "cv2.waitKey(0)\n",
    "cv2.destroyAllWindows()"
   ]
  },
  {
   "cell_type": "markdown",
   "id": "f0808ef2",
   "metadata": {},
   "source": [
    "ÇOK ÖNEMLİ BİR NOKTA VAR DİKKAT ET:\n",
    "MATRİXLE İLGİLİ İŞLEMLERİ YAPABİLMEK İÇİN RESİMLERİN 0 1 YANİ GRAY VEYA SİYAH BEYAZ OLMASI LAZIM\n",
    "\n",
    "\n",
    "cv2.getRotatitonMatrix2D((sütun ve satır), kaç derece dönecek, hangi ölçekte değişecek), ve uzun uzun bu değeri girmemek içni M değişkenine hapsettik"
   ]
  },
  {
   "cell_type": "markdown",
   "id": "b2fd7a63",
   "metadata": {},
   "source": [
    "warp = saptırma\n",
    "affine  = hesap etmek \n",
    "\n",
    "cv2.warpAffine = sapma hesabı diye anlaşılabilir"
   ]
  },
  {
   "cell_type": "code",
   "execution_count": null,
   "id": "e5008a36",
   "metadata": {},
   "outputs": [],
   "source": []
  }
 ],
 "metadata": {
  "kernelspec": {
   "display_name": "Python 3",
   "language": "python",
   "name": "python3"
  },
  "language_info": {
   "codemirror_mode": {
    "name": "ipython",
    "version": 3
   },
   "file_extension": ".py",
   "mimetype": "text/x-python",
   "name": "python",
   "nbconvert_exporter": "python",
   "pygments_lexer": "ipython3",
   "version": "3.8.8"
  }
 },
 "nbformat": 4,
 "nbformat_minor": 5
}
