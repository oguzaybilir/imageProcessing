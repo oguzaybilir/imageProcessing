{
 "cells": [
  {
   "cell_type": "markdown",
   "id": "140698d1",
   "metadata": {},
   "source": [
    "# ŞİMDİLİK ÇORBA İLERLEMEYE DEVAM EDİLECEK \n",
    "\n"
   ]
  },
  {
   "cell_type": "code",
   "execution_count": 1,
   "id": "44c4c681",
   "metadata": {},
   "outputs": [],
   "source": [
    "import cv2\n",
    "import numpy as np\n",
    "\n",
    "\n",
    "cap = cv2.VideoCapture(0)\n",
    "\n",
    "def nothing(x):\n",
    "    pass\n",
    "\n",
    "\n",
    "cv2.namedWindow('trackbar')\n",
    "cv2.resizeWindow('trackbar', 350,350)\n",
    "\n",
    "cv2.createTrackbar('Lower - R', 'trackbar', 0, 180, nothing)\n",
    "cv2.createTrackbar('Lower - G', 'trackbar', 0, 255, nothing)\n",
    "cv2.createTrackbar('Lower - B', 'trackbar', 0, 255, nothing)\n",
    "\n",
    "cv2.createTrackbar('Higher - R', 'trackbar', 180, 180, nothing)\n",
    "cv2.createTrackbar('Higher - G', 'trackbar', 255, 255, nothing)\n",
    "cv2.createTrackbar('Higher - B', 'trackbar', 255, 255, nothing)\n",
    "\n",
    "\n",
    "while True:\n",
    "    \n",
    "    ret, frame = cap.read()\n",
    "    frame = cv2.flip(frame, 1)\n",
    "    \n",
    "    frame_rgb = cv2.cvtColor(frame, cv2.COLOR_BGR2RGB)\n",
    "    frame_hsv = cv2.cvtColor(frame, cv2.COLOR_BGR2HSV)\n",
    "    \n",
    "    lr = cv2.getTrackbarPos('Lower - R', 'trackbar')\n",
    "    lg = cv2.getTrackbarPos('Lower - G', 'trackbar')\n",
    "    lb = cv2.getTrackbarPos('Lower - B', 'trackbar')\n",
    "    \n",
    "    hr = cv2.getTrackbarPos('Higher - R', 'trackbar')\n",
    "    hg = cv2.getTrackbarPos('Higher - G', 'trackbar')\n",
    "    hb = cv2.getTrackbarPos('Higher - B', 'trackbar')\n",
    "    \n",
    "    lower_color = np.array([lr, lg, lb])\n",
    "    higher_color = np.array([hr, hg, hb])\n",
    "    \n",
    "    \n",
    "   \n",
    "    mask = cv2.inRange(frame_hsv, lower_color, higher_color)\n",
    "    \n",
    "    bit_and = cv2.bitwise_and(frame_rgb, frame_rgb, mask=mask)\n",
    "    bit_rgb = cv2.cvtColor(bit_and, cv2.COLOR_BGR2RGB)\n",
    "\n",
    "     \n",
    "    cv2.imshow(\"bitwise\", bit_rgb)\n",
    "    cv2.imshow(\"orijinal\", frame)\n",
    "    cv2.imshow(\"masked1\", mask)\n",
    "    \n",
    "    if cv2.waitKey(30) == ord('q'):\n",
    "        break\n",
    "        \n",
    "\n",
    "cap.release()\n",
    "cv2.destroyAllWindows()"
   ]
  },
  {
   "cell_type": "code",
   "execution_count": null,
   "id": "9a5316c8",
   "metadata": {},
   "outputs": [],
   "source": []
  },
  {
   "cell_type": "code",
   "execution_count": null,
   "id": "bbe9b6e6",
   "metadata": {},
   "outputs": [],
   "source": []
  }
 ],
 "metadata": {
  "kernelspec": {
   "display_name": "Python 3",
   "language": "python",
   "name": "python3"
  },
  "language_info": {
   "codemirror_mode": {
    "name": "ipython",
    "version": 3
   },
   "file_extension": ".py",
   "mimetype": "text/x-python",
   "name": "python",
   "nbconvert_exporter": "python",
   "pygments_lexer": "ipython3",
   "version": "3.8.8"
  }
 },
 "nbformat": 4,
 "nbformat_minor": 5
}
