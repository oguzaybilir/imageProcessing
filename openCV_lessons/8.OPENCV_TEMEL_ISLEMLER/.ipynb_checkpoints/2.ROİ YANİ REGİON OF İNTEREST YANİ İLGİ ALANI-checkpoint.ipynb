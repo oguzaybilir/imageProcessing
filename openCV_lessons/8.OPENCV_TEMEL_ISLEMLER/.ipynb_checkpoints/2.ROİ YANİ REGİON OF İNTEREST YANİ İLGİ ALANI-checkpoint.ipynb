{
 "cells": [
  {
   "cell_type": "markdown",
   "id": "14e03240",
   "metadata": {},
   "source": [
    "# 2. ROİ YANİ REGİON OF İNTEREST YANİ İLGİ ALANI"
   ]
  },
  {
   "cell_type": "markdown",
   "id": "e61de182",
   "metadata": {},
   "source": [
    "örneklerle anlatmak gerekirse roi herhangi bir resimdeki aranılan şeyi, resmin bütününden ayırarak ayrı bir şekilde inceler\n"
   ]
  },
  {
   "cell_type": "code",
   "execution_count": 3,
   "id": "20dde7b1",
   "metadata": {},
   "outputs": [],
   "source": [
    "import cv2\n",
    "\n",
    "img = cv2.imread(\"C:/Users/oguza/Desktop/klon/klon.jpg\")\n",
    "\n",
    "#print(img.shape[:2])\n",
    "\n",
    "roi = img[30:200, 200:400]\n",
    "cv2.imshow(\"ROI\", roi)\n",
    "\n",
    "cv2.imwrite(\"roi.jpg\", roi)\n",
    "\n",
    "cv2.imshow('klon.jpg',img)\n",
    "cv2.waitKey(0)\n",
    "cv2.destroyAllWindows()"
   ]
  },
  {
   "cell_type": "code",
   "execution_count": 7,
   "id": "40d0af5d",
   "metadata": {},
   "outputs": [],
   "source": [
    "import cv2\n",
    "\n",
    "img = cv2.imread(\"C:/Users/oguza/Desktop/klon/klon.jpg\")\n",
    "\n",
    "roi = img[40:220, 200:350]\n",
    "name = 0\n",
    "cv2.imshow('ROI', roi)\n",
    "cv2.imshow('klon.jpg', img)\n",
    "name += 1\n",
    "cv2.imwrite(f\"roi{name}.jpg\", roi)\n",
    "\n",
    "cv2.waitKey(0)\n",
    "cv2.destroyAllWindows()"
   ]
  },
  {
   "cell_type": "markdown",
   "id": "27e2ee5a",
   "metadata": {},
   "source": [
    "roi = img[kesilecek alanın x, kesilecek alanın y]"
   ]
  },
  {
   "cell_type": "code",
   "execution_count": null,
   "id": "bb2ef5a3",
   "metadata": {},
   "outputs": [],
   "source": []
  }
 ],
 "metadata": {
  "kernelspec": {
   "display_name": "Python 3",
   "language": "python",
   "name": "python3"
  },
  "language_info": {
   "codemirror_mode": {
    "name": "ipython",
    "version": 3
   },
   "file_extension": ".py",
   "mimetype": "text/x-python",
   "name": "python",
   "nbconvert_exporter": "python",
   "pygments_lexer": "ipython3",
   "version": "3.8.8"
  }
 },
 "nbformat": 4,
 "nbformat_minor": 5
}
