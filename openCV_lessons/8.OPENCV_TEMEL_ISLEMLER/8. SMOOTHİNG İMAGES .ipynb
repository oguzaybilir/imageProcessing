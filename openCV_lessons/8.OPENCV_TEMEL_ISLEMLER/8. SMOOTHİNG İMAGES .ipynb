{
 "cells": [
  {
   "cell_type": "markdown",
   "id": "2577fe6a",
   "metadata": {},
   "source": [
    "#  8. SMOOTHİNG İMAGES"
   ]
  },
  {
   "cell_type": "markdown",
   "id": "8b1b92ca",
   "metadata": {},
   "source": [
    "img_filter = cv2.imread() bunu artık biliyon aga\n",
    "\n",
    "blur = cv2.blur(resmin adı, (tek sayı,teksayı))     bu tek sayılar resmin blurluğunu arttırıyor\n",
    "\n",
    "bu kadar"
   ]
  },
  {
   "cell_type": "code",
   "execution_count": null,
   "id": "9781117d",
   "metadata": {},
   "outputs": [],
   "source": [
    "import cv2\n",
    "import numpy as np\n",
    "\n",
    "img_filter = cv2.imread(\"C:/Users/oguza/Documents/GitHub/imageProcessing/openCV_lessons/8.OPENCV_TEMEL_ISLEMLER/klon.jpg\")\n",
    "#img_median = cv2.imread(\"C:/Users/oguza/Desktop/klon/median.png\")\n",
    "#img_bilateral = cv2.imread(\"C:/Users/oguza/Desktop/klon/bilateral.png\")\n",
    "\n",
    "blur = cv2.blur(img_filter,(11,11))\n",
    "\n",
    "cv2.imshow(\"blur\", blur)\n",
    "cv2.imshow(\"original\", img_filter)\n",
    "\n",
    "cv2.waitKey(0)\n",
    "cv2.destroyAllWindows()"
   ]
  }
 ],
 "metadata": {
  "kernelspec": {
   "display_name": "Python 3.10.4 64-bit",
   "language": "python",
   "name": "python3"
  },
  "language_info": {
   "codemirror_mode": {
    "name": "ipython",
    "version": 3
   },
   "file_extension": ".py",
   "mimetype": "text/x-python",
   "name": "python",
   "nbconvert_exporter": "python",
   "pygments_lexer": "ipython3",
   "version": "3.10.4"
  },
  "vscode": {
   "interpreter": {
    "hash": "814506b299d6999591986b15676ce98d156a77d2614f613ae44a7be6b5c409ff"
   }
  }
 },
 "nbformat": 4,
 "nbformat_minor": 5
}
