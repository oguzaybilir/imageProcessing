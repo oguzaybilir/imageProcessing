{
 "cells": [
  {
   "cell_type": "markdown",
   "id": "6cb890e6",
   "metadata": {},
   "source": [
    "# ANDROİD KAMERA KULLANIMI"
   ]
  },
  {
   "cell_type": "code",
   "execution_count": null,
   "id": "02581e4d",
   "metadata": {},
   "outputs": [],
   "source": [
    "import cv2\n",
    "import numpy as nmp\n",
    "import requests\n",
    "\n",
    "\n",
    "url = \"http://10.7.81.16:8080//shot.jpg\"\n",
    "while True: \n",
    "    img_response = requests.get(url)\n",
    "    img_array = nmp.array(bytearray(img_response.content),dtype=nmp.uint8)\n",
    "    img = cv2.imdecode(img_array, cv2.IMREAD_COLOR)\n",
    "    img = cv2.resize(img,(640,480))\n",
    "    \n",
    "    cv2.imshow(\"android kamera\", img)\n",
    "    \n",
    "    if cv2.waitKey(1) == 27:\n",
    "        break\n",
    "\n",
    "\n",
    "cv2.destroyAllWindows()\n"
   ]
  },
  {
   "cell_type": "code",
   "execution_count": null,
   "id": "07c8356f",
   "metadata": {},
   "outputs": [],
   "source": [
    "img_array = nmp.array(bytearray(img_response.content))"
   ]
  },
  {
   "cell_type": "code",
   "execution_count": 1,
   "id": "096343e6",
   "metadata": {},
   "outputs": [
    {
     "name": "stdout",
     "output_type": "stream",
     "text": [
      "Requirement already satisfied: requests in c:\\users\\oguza\\anaconda3\\lib\\site-packages (2.25.1)\n",
      "Requirement already satisfied: urllib3<1.27,>=1.21.1 in c:\\users\\oguza\\anaconda3\\lib\\site-packages (from requests) (1.26.4)\n",
      "Requirement already satisfied: idna<3,>=2.5 in c:\\users\\oguza\\anaconda3\\lib\\site-packages (from requests) (2.10)\n",
      "Requirement already satisfied: certifi>=2017.4.17 in c:\\users\\oguza\\anaconda3\\lib\\site-packages (from requests) (2020.12.5)\n",
      "Requirement already satisfied: chardet<5,>=3.0.2 in c:\\users\\oguza\\anaconda3\\lib\\site-packages (from requests) (4.0.0)\n"
     ]
    }
   ],
   "source": [
    "!pip install requests"
   ]
  },
  {
   "cell_type": "markdown",
   "id": "38889f57",
   "metadata": {},
   "source": [
    "request kütüphanesini import edemedim\n"
   ]
  },
  {
   "cell_type": "code",
   "execution_count": null,
   "id": "5933d0db",
   "metadata": {},
   "outputs": [],
   "source": []
  }
 ],
 "metadata": {
  "kernelspec": {
   "display_name": "Python 3",
   "language": "python",
   "name": "python3"
  },
  "language_info": {
   "codemirror_mode": {
    "name": "ipython",
    "version": 3
   },
   "file_extension": ".py",
   "mimetype": "text/x-python",
   "name": "python",
   "nbconvert_exporter": "python",
   "pygments_lexer": "ipython3",
   "version": "3.8.8"
  }
 },
 "nbformat": 4,
 "nbformat_minor": 5
}
