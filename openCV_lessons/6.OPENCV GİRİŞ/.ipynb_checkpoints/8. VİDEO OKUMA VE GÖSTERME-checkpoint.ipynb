{
 "cells": [
  {
   "cell_type": "markdown",
   "id": "4b50f002",
   "metadata": {},
   "source": [
    "# 8.VİDEO OKUMA VE GÖSTERME"
   ]
  },
  {
   "cell_type": "code",
   "execution_count": null,
   "id": "4ffb68b0",
   "metadata": {},
   "outputs": [],
   "source": [
    "cap = cv2.VideoCapture()"
   ]
  },
  {
   "cell_type": "markdown",
   "id": "9466796e",
   "metadata": {},
   "source": [
    "görsellerde img diyorduk burada cap diyoruz\n",
    "\n",
    "cap = cv2.VideoCapture() daki boşluğa 0 yazarsak webcam i açar, eğer dosya yolu yazarsak dosyadaki videoyu okur, bilgisyara bağlı başka bir kamerayı kullanacaksak 1 2 gibi değerler gireriz"
   ]
  },
  {
   "cell_type": "code",
   "execution_count": null,
   "id": "9277b34d",
   "metadata": {},
   "outputs": [],
   "source": [
    "while True:"
   ]
  },
  {
   "cell_type": "markdown",
   "id": "6ed0a33a",
   "metadata": {},
   "source": [
    "while True: demek while döngüsü sonsuza kadar dönsün demektir, döngüyü sonsuza kadar devam ettirmemizin sebebi opencv2 kütüphanesinde videoları bir bütün olarak okuyamıyor olmamızdır"
   ]
  },
  {
   "cell_type": "code",
   "execution_count": 7,
   "id": "4698544d",
   "metadata": {},
   "outputs": [],
   "source": [
    "import cv2\n",
    "\n",
    "cap = cv2.VideoCapture(\"C:/Users/oguza/Desktop/klon/opencvvideo.mp4\")\n",
    "\n",
    "while True:\n",
    "    ret, frame = cap.read()\n",
    "    if ret == 0: \n",
    "        break\n",
    "        \n",
    "    frame = cv2.flip(frame, 2)\n",
    "    cv2.imshow(\"pcden video\", frame)\n",
    "    if cv2.waitKey(100) & 0xFF == ord(\"q\"):\n",
    "        break\n",
    "    \n",
    "cap.release()\n",
    "cv2.destroyAllWindows()"
   ]
  },
  {
   "cell_type": "markdown",
   "id": "88bdbefc",
   "metadata": {},
   "source": [
    "cap.read() komutu 2 tane değer döndürür birincisi videoları doğru okuduysa true, ikincisi videoları yanlış okuduysa false dur.\n",
    "\n",
    "cap.read() frameleri doğru okuduysa ret değişkeninin değeri True dur, \n",
    "\n",
    "cv2.imshow(\"webcam\", frame) frame yazdık çünkü değişkenimiz frame dir\n",
    "\n",
    "cv2.waitKey(30) hatırlarsanız videolardan önce işimiz resimlerleyken cv2.waitKey(0) yazmıştık çünkü resmin ekranda ben kapatana kadar kalmasını istiyordum şimdi bu bir video olduğu için 0 değerini değiştirmem lazım\n",
    "\n",
    "cap.release()  komutu videoyu serbest bırakır bu ne demektir açıklayayım; eğer bir dosya üzerinde çalışıyorsanız o dosyayı kapatmadan dosyayla ilgili bir değişikşlik yapmanız çoğu durumda imkansızdır\n",
    "\n",
    "frame = cv2.flip(değişkenin adı, 1)  cv2.flip komutu eğer görüntü aynadan gördüğümüz gibi gelirse yani bize göre ters olursa düzeltmek için kullanılır\n",
    "\n",
    "\n",
    "0xFF == ord(\"q\"):        komutu klavye bağlantılı bir koddur\n",
    "\n",
    "if ret == 0:      komutu video bittiğinde döngü devam etmesin diye var"
   ]
  },
  {
   "cell_type": "code",
   "execution_count": null,
   "id": "35bf7b8a",
   "metadata": {},
   "outputs": [],
   "source": []
  },
  {
   "cell_type": "code",
   "execution_count": null,
   "id": "23a9c183",
   "metadata": {},
   "outputs": [],
   "source": []
  }
 ],
 "metadata": {
  "kernelspec": {
   "display_name": "Python 3",
   "language": "python",
   "name": "python3"
  },
  "language_info": {
   "codemirror_mode": {
    "name": "ipython",
    "version": 3
   },
   "file_extension": ".py",
   "mimetype": "text/x-python",
   "name": "python",
   "nbconvert_exporter": "python",
   "pygments_lexer": "ipython3",
   "version": "3.8.8"
  }
 },
 "nbformat": 4,
 "nbformat_minor": 5
}
