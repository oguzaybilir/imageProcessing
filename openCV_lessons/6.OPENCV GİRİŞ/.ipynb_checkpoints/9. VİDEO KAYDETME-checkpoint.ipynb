{
 "cells": [
  {
   "cell_type": "markdown",
   "id": "c04f485b",
   "metadata": {},
   "source": [
    "# 9. VİDEO KAYDETME "
   ]
  },
  {
   "cell_type": "code",
   "execution_count": 1,
   "id": "db441b0f",
   "metadata": {},
   "outputs": [
    {
     "ename": "error",
     "evalue": "OpenCV(4.5.4-dev) :-1: error: (-5:Bad argument) in function 'imwrite'\n> Overload resolution failed:\n>  - img is not a numpy array, neither a scalar\n>  - Expected Ptr<cv::UMat> for argument 'img'\n",
     "output_type": "error",
     "traceback": [
      "\u001b[1;31m---------------------------------------------------------------------------\u001b[0m",
      "\u001b[1;31merror\u001b[0m                                     Traceback (most recent call last)",
      "\u001b[1;32m<ipython-input-1-3fedac38d702>\u001b[0m in \u001b[0;36m<module>\u001b[1;34m\u001b[0m\n\u001b[0;32m     20\u001b[0m         \u001b[1;32mbreak\u001b[0m\u001b[1;33m\u001b[0m\u001b[1;33m\u001b[0m\u001b[0m\n\u001b[0;32m     21\u001b[0m \u001b[1;33m\u001b[0m\u001b[0m\n\u001b[1;32m---> 22\u001b[1;33m \u001b[0mcv2\u001b[0m\u001b[1;33m.\u001b[0m\u001b[0mimwrite\u001b[0m\u001b[1;33m(\u001b[0m\u001b[1;34m\"cap\"\u001b[0m\u001b[1;33m,\u001b[0m \u001b[0mcap\u001b[0m\u001b[1;33m)\u001b[0m\u001b[1;33m\u001b[0m\u001b[1;33m\u001b[0m\u001b[0m\n\u001b[0m\u001b[0;32m     23\u001b[0m \u001b[1;33m\u001b[0m\u001b[0m\n\u001b[0;32m     24\u001b[0m \u001b[0mvideoFileOutput\u001b[0m\u001b[1;33m.\u001b[0m\u001b[0mrelease\u001b[0m\u001b[1;33m(\u001b[0m\u001b[1;33m)\u001b[0m\u001b[1;33m\u001b[0m\u001b[1;33m\u001b[0m\u001b[0m\n",
      "\u001b[1;31merror\u001b[0m: OpenCV(4.5.4-dev) :-1: error: (-5:Bad argument) in function 'imwrite'\n> Overload resolution failed:\n>  - img is not a numpy array, neither a scalar\n>  - Expected Ptr<cv::UMat> for argument 'img'\n"
     ]
    }
   ],
   "source": [
    "import cv2\n",
    "\n",
    "cap = cv2.VideoCapture(0)\n",
    "\n",
    "fileName  = \"C:/Users/oguza/Desktop/dosyaadı2.avi\"\n",
    "codec = cv2.VideoWriter_fourcc('M','P','4', 'V')\n",
    "frameRate = 30\n",
    "resolution = (640,480)\n",
    "\n",
    "videoFileOutput = cv2.VideoWriter(fileName, codec, frameRate, resolution)\n",
    "\n",
    "while True:\n",
    "    ret, frame = cap.read()\n",
    "    frame = cv2.flip(frame, 1)\n",
    "    \n",
    "    videoFileOutput.write(frame)\n",
    "    \n",
    "    cv2.imshow(\"webcam kayit\", frame)\n",
    "    if cv2.waitKey(1) & 0xFF == ord(\"q\"):\n",
    "        break\n",
    "        \n",
    "cv2.imwrite(\"cap\", cap)\n",
    "\n",
    "videoFileOutput.release()        \n",
    "cap.release()\n",
    "cv2.destroyAllWindows()\n"
   ]
  },
  {
   "cell_type": "markdown",
   "id": "14dbd152",
   "metadata": {},
   "source": [
    "şimdi biz bu kareleri tek tek ekrana bastırdık ve bir video oluşturduk, şimdi kaydetmemiz lazım\n",
    "\n",
    "cv2.VideoWriter_fourcc()  komutu parantez içine girilen 4 haneli kodek kodunu bizden ister çünkü bize lazım\n",
    "\n",
    "\n",
    "videoFileOutput = cv2.VideoWriter(fileName, codec, frameRate, resolution)\n",
    "bu komut 4 tane değişkene sahip ve bu değişkenleri bu komutun altında tanımladık\n",
    "\n",
    "videoFileOutput.write(frame)    komutu çekitğimiz videoyu kaydeder"
   ]
  },
  {
   "cell_type": "code",
   "execution_count": null,
   "id": "ae8352c1",
   "metadata": {},
   "outputs": [
    {
     "name": "stdout",
     "output_type": "stream",
     "text": [
      "görüntü kayıtedildi\n",
      "görüntü kayıtedildi\n",
      "görüntü kayıtedildi\n",
      "görüntü kayıtedildi\n",
      "görüntü kayıtedildi\n",
      "görüntü kayıtedildi\n",
      "görüntü kayıtedildi\n",
      "görüntü kayıtedildi\n",
      "görüntü kayıtedildi\n",
      "görüntü kayıtedildi\n",
      "görüntü kayıtedildi\n",
      "görüntü kayıtedildi\n",
      "görüntü kayıtedildi\n",
      "görüntü kayıtedildi\n"
     ]
    }
   ],
   "source": [
    "import cv2\n",
    "\n",
    "cap = cv2.VideoCapture(0)\n",
    "name = 0\n",
    "while True:\n",
    "    ret, frame = cap.read()\n",
    "    frame = cv2.flip(frame, 1)\n",
    "    cv2.imshow(\"webcam kayit\", frame)\n",
    "    \n",
    "    key = cv2.waitKey(1)\n",
    "    \n",
    "    if key == ord(\"s\"):\n",
    "        \n",
    "        name += 1\n",
    "        cv2.imwrite(f\"kayitgoruntu/webcam kayit{name}.jpg\", frame)   \n",
    "        print(\"görüntü kayıtedildi\")\n",
    "        \n",
    "    if  key == ord(\"q\"):\n",
    "        break\n",
    "        \n",
    "\n",
    "        \n",
    "cap.release()\n",
    "cv2.destroyAllWindows()\n"
   ]
  },
  {
   "cell_type": "code",
   "execution_count": null,
   "id": "2a74c3db",
   "metadata": {},
   "outputs": [],
   "source": []
  },
  {
   "cell_type": "code",
   "execution_count": null,
   "id": "2a2f9bc5",
   "metadata": {},
   "outputs": [],
   "source": []
  }
 ],
 "metadata": {
  "kernelspec": {
   "display_name": "Python 3",
   "language": "python",
   "name": "python3"
  },
  "language_info": {
   "codemirror_mode": {
    "name": "ipython",
    "version": 3
   },
   "file_extension": ".py",
   "mimetype": "text/x-python",
   "name": "python",
   "nbconvert_exporter": "python",
   "pygments_lexer": "ipython3",
   "version": "3.8.8"
  }
 },
 "nbformat": 4,
 "nbformat_minor": 5
}
