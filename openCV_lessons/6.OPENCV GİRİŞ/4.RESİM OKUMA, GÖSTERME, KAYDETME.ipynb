{
 "cells": [
  {
   "cell_type": "markdown",
   "id": "38ea1463",
   "metadata": {},
   "source": [
    "# 4.RESİM OKUMA, GÖSTERME, KAYDETME"
   ]
  },
  {
   "cell_type": "code",
   "execution_count": 2,
   "id": "9580db48",
   "metadata": {},
   "outputs": [],
   "source": [
    "import cv2"
   ]
  },
  {
   "cell_type": "code",
   "execution_count": 3,
   "id": "e5146dfb",
   "metadata": {},
   "outputs": [],
   "source": [
    "img = cv2.imread('C:/Users/oguza/Desktop/klon/pp.png')\n",
    "\n",
    "cv2.namedWindow(\"image\", cv2.WINDOW_NORMAL)\n",
    "\n",
    "cv2.imshow('image', img)\n",
    "cv2.imwrite(\"pp1.png\", img)\n",
    "cv2.waitKey(0)\n",
    "cv2.destroyAllWindows()\n",
    "\n"
   ]
  },
  {
   "cell_type": "markdown",
   "id": "79a889f1",
   "metadata": {},
   "source": [
    "img = cv2.imread('resmin dosya yolu ama \\ çizgilerle değil / bu çizgilerle yapılacak')\n",
    "                ya da dosya yolunda türkçe karakterler olması ile ilgili\n",
    "               \n",
    "img = cv2.imread('resmin dosya yolu/dosyanınadı.uzantısı')\n",
    "\n",
    "cv2.imshow('pencere adı', img)\n",
    "\n",
    "cv2.wait.Key(0) komutu ekrana gelen resmin anında görünüp gitmesini engeller, herhangi bir tuşa basılana kadar imajı ekranda tutar\n",
    "\n",
    "cv2.destrowAllWindows() pencereyi kapatır\n",
    "\n",
    "cv2.namedWindow(\"image\", cv2.WINDOW_NORMAL) komutu açılan pencerenin yeniden boyutlandırılabilmesini sağlar\n",
    "\n",
    "cv2.imwrite(\"dosyanın adı\", img\") komutu açtığımız penceredeki resmi kaydeder\n",
    "\n",
    "img = cv2.imread('dosya yolu', 0) yazdığımız zaman 0 fotoğrafı gri yapar"
   ]
  },
  {
   "cell_type": "code",
   "execution_count": 1,
   "id": "cbc661cf",
   "metadata": {},
   "outputs": [],
   "source": [
    "import cv2 \n",
    "\n",
    "img = cv2.imread('C:/Users/oguza/Desktop/klon/pp.png')\n",
    "\n",
    "cv2.namedWindow('image', cv2.WINDOW_NORMAL)\n",
    "\n",
    "cv2.imshow('image', img)\n",
    "cv2.imwrite(\"pp1.png\",img)\n",
    "cv2.waitKey(0)\n",
    "cv2.destroyAllWindows()"
   ]
  },
  {
   "cell_type": "code",
   "execution_count": 4,
   "id": "3c5bb08d",
   "metadata": {},
   "outputs": [],
   "source": [
    "import cv2\n",
    "\n",
    "img = cv2.imread('C:/Users/oguza/Desktop/klon/oguzaydeneme.jpg')\n",
    "\n",
    "cv2.namedWindow('image', cv2.WINDOW_NORMAL)\n",
    "\n",
    "cv2.imshow('image', img)\n",
    "cv2.imwrite(\"oguzaydeneme2.jpg\", img)\n",
    "\n",
    "cv2.resize(img, (800,600))\n",
    "cv2.waitKey(0)\n",
    "cv2.destroyAllWindows()"
   ]
  },
  {
   "cell_type": "code",
   "execution_count": null,
   "id": "387dfc6b",
   "metadata": {},
   "outputs": [],
   "source": []
  }
 ],
 "metadata": {
  "kernelspec": {
   "display_name": "Python 3",
   "language": "python",
   "name": "python3"
  },
  "language_info": {
   "codemirror_mode": {
    "name": "ipython",
    "version": 3
   },
   "file_extension": ".py",
   "mimetype": "text/x-python",
   "name": "python",
   "nbconvert_exporter": "python",
   "pygments_lexer": "ipython3",
   "version": "3.8.8"
  }
 },
 "nbformat": 4,
 "nbformat_minor": 5
}
