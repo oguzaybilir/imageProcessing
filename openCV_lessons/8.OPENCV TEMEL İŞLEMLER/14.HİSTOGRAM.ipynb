{
 "cells": [
  {
   "cell_type": "markdown",
   "id": "9f08ab12",
   "metadata": {},
   "source": [
    "# 14.HİSTOGRAM"
   ]
  },
  {
   "cell_type": "markdown",
   "id": "e3151328",
   "metadata": {},
   "source": [
    "histogram kullanarak resimler üzerinde bazı çözümlemelr yapılabiliyor\n",
    "\n",
    "histogram resmin değer yoğunlukları ile ilgili bazı bilgiler veriyor"
   ]
  },
  {
   "cell_type": "code",
   "execution_count": 6,
   "id": "34e952ae",
   "metadata": {},
   "outputs": [
    {
     "data": {
      "image/png": "[encoded data removed]",
      "text/plain": [
       "<Figure size 432x288 with 1 Axes>"
      ]
     },
     "metadata": {
      "needs_background": "light"
     },
     "output_type": "display_data"
    }
   ],
   "source": [
    "import cv2\n",
    "import numpy as np\n",
    "from matplotlib import pyplot as plt\n",
    "\n",
    "img = cv2.imread(\"C:/Users/oguza/Desktop/opencvresimler/oguzaydeneme.jpg\")\n",
    "\n",
    "b,g,r = cv2.split(img)\n",
    "cv2.imshow(\"img\", img)\n",
    "\n",
    "plt.hist(b.ravel(), 256, [0,256])\n",
    "plt.hist(g.ravel(), 256, [0,256])\n",
    "plt.hist(r.ravel(), 256, [0,256])\n",
    "\n",
    "plt.show()\n",
    "\n",
    "cv2.waitKey(0)\n",
    "cv2.destroyAllWindows()"
   ]
  },
  {
   "cell_type": "markdown",
   "id": "20ffb639",
   "metadata": {},
   "source": [
    "img.ravel tüm pikselin değerlerini tek bir satır haline döküyor"
   ]
  },
  {
   "cell_type": "markdown",
   "id": "184310aa",
   "metadata": {},
   "source": [
    "cv2.split(img) fonksiyonu resmin b g r değerlerini bize verir"
   ]
  },
  {
   "cell_type": "markdown",
   "id": "b216c0ed",
   "metadata": {},
   "source": [
    "histogramdaki renkleri resme bakarark anlayabiliriz  resimde mavi renkler nerede az ve nerede çoksa grafikte de o şekilde görünür"
   ]
  },
  {
   "cell_type": "code",
   "execution_count": null,
   "id": "6fe45d47",
   "metadata": {},
   "outputs": [],
   "source": []
  }
 ],
 "metadata": {
  "kernelspec": {
   "display_name": "Python 3",
   "language": "python",
   "name": "python3"
  },
  "language_info": {
   "codemirror_mode": {
    "name": "ipython",
    "version": 3
   },
   "file_extension": ".py",
   "mimetype": "text/x-python",
   "name": "python",
   "nbconvert_exporter": "python",
   "pygments_lexer": "ipython3",
   "version": "3.8.8"
  }
 },
 "nbformat": 4,
 "nbformat_minor": 5
}
