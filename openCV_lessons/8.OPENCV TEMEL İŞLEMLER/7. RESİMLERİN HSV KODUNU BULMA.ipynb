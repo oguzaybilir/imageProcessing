{
 "cells": [
  {
   "cell_type": "markdown",
   "id": "f0da72a1",
   "metadata": {},
   "source": [
    "# 7. RESİMLERİN HSV KODUNU BULMA"
   ]
  },
  {
   "cell_type": "code",
   "execution_count": 1,
   "id": "9aa197d2",
   "metadata": {},
   "outputs": [
    {
     "ename": "error",
     "evalue": "/io/opencv/modules/imgproc/src/color.cpp:10705: error: (-215) (scn == 3 || scn == 4) && (depth == CV_8U || depth == CV_32F) in function cvtColor\n",
     "output_type": "error",
     "traceback": [
      "\u001b[0;31m---------------------------------------------------------------------------\u001b[0m",
      "\u001b[0;31merror\u001b[0m                                     Traceback (most recent call last)",
      "\u001b[0;32m<ipython-input-1-fb140bdace02>\u001b[0m in \u001b[0;36m<module>\u001b[0;34m\u001b[0m\n\u001b[1;32m     28\u001b[0m \u001b[0;34m\u001b[0m\u001b[0m\n\u001b[1;32m     29\u001b[0m \u001b[0;34m\u001b[0m\u001b[0m\n\u001b[0;32m---> 30\u001b[0;31m     \u001b[0mframe_hsv\u001b[0m \u001b[0;34m=\u001b[0m \u001b[0mcv2\u001b[0m\u001b[0;34m.\u001b[0m\u001b[0mcvtColor\u001b[0m\u001b[0;34m(\u001b[0m\u001b[0mframe\u001b[0m \u001b[0;34m,\u001b[0m \u001b[0mcv2\u001b[0m\u001b[0;34m.\u001b[0m\u001b[0mCOLOR_BGR2HSV\u001b[0m\u001b[0;34m)\u001b[0m\u001b[0;34m\u001b[0m\u001b[0;34m\u001b[0m\u001b[0m\n\u001b[0m\u001b[1;32m     31\u001b[0m \u001b[0;34m\u001b[0m\u001b[0m\n\u001b[1;32m     32\u001b[0m \u001b[0;34m\u001b[0m\u001b[0m\n",
      "\u001b[0;31merror\u001b[0m: /io/opencv/modules/imgproc/src/color.cpp:10705: error: (-215) (scn == 3 || scn == 4) && (depth == CV_8U || depth == CV_32F) in function cvtColor\n"
     ]
    }
   ],
   "source": [
    "import cv2\n",
    "import numpy as np\n",
    "\n",
    "cap = cv2.VideoCapture(0)\n",
    "\n",
    "def nothing(x):\n",
    "    pass\n",
    "\n",
    "cv2.namedWindow(\"trackbar\")\n",
    "cv2.resizeWindow(\"trackbar\",450,450)\n",
    "\n",
    "cv2.createTrackbar(\"Lower - H\", \"trackbar\", 0, 180, nothing)\n",
    "cv2.createTrackbar(\"Lower - S\", \"trackbar\", 0, 255, nothing)\n",
    "cv2.createTrackbar(\"Lower - V\", \"trackbar\", 0, 255, nothing)\n",
    "\n",
    "cv2.createTrackbar(\"Upper - H\", \"trackbar\", 0, 180, nothing)\n",
    "cv2.createTrackbar(\"Upper - S\", \"trackbar\", 0, 255, nothing)\n",
    "cv2.createTrackbar(\"Upper - V\", \"trackbar\", 0, 255, nothing)\n",
    "\n",
    "cv2.setTrackbarPos(\"Upper - H\", \"trackbar\", 180)\n",
    "cv2.setTrackbarPos(\"Upper - S\", \"trackbar\", 255)\n",
    "cv2.setTrackbarPos(\"Upper - V\", \"trackbar\", 255)\n",
    "\n",
    "while True:\n",
    "    ret, frame = cap.read()\n",
    "    frame = cv2.flip(frame, 1)\n",
    "    \n",
    "    \n",
    "    frame_hsv = cv2.cvtColor(frame , cv2.COLOR_BGR2HSV)\n",
    "    \n",
    "    \n",
    "    lh = cv2.getTrackbarPos(\"Lower - H\", \"trackbar\")\n",
    "    ls = cv2.getTrackbarPos(\"Lower - S\", \"trackbar\")\n",
    "    lv = cv2.getTrackbarPos(\"Lower - V\", \"trackbar\")\n",
    "    \n",
    "    uh = cv2.getTrackbarPos(\"Upper - H\", \"trackbar\")\n",
    "    us = cv2.getTrackbarPos(\"Upper - S\", \"trackbar\")\n",
    "    uv = cv2.getTrackbarPos(\"Upper - V\", \"trackbar\")\n",
    "    \n",
    "    \n",
    "    lower_color = np.array([lh, ls, lv])\n",
    "    upper_color = np.array([uh, us, uv])\n",
    "    \n",
    "    mask = cv2.inRange(frame_hsv, lower_color, upper_color)    \n",
    "\n",
    "    cv2.imshow(\"orijinal\", frame)\n",
    "    cv2.imshow(\"masked\", mask)\n",
    "    \n",
    "    if cv2.waitKey(10) == ord('q'):\n",
    "        break\n",
    "        \n",
    "        \n",
    "cap.release()\n",
    "cv2.destroyAllWindows()\n",
    "    \n",
    "\n",
    "\n",
    "\n",
    "\n",
    "\n",
    "\n"
   ]
  },
  {
   "cell_type": "markdown",
   "id": "f84c00b3",
   "metadata": {},
   "source": [
    "cv2.resizeWindow dikkat et bu kısım pencereleri yeniden boyutlandırabilmek için kullanılır eğer Window koymazsan sıkıntı olur"
   ]
  },
  {
   "cell_type": "markdown",
   "id": "b4c1d152",
   "metadata": {},
   "source": [
    "cv2.createTrackbar(kızağın ismi, pencerenin adı, kızak başlangıç değeri, kızak son değeri, nothing)\n",
    "\n",
    "cv2.setTrackbarPoss(kızağın ismi, pencernin adı, değer)\n"
   ]
  },
  {
   "cell_type": "code",
   "execution_count": null,
   "id": "5cc71cc8",
   "metadata": {},
   "outputs": [],
   "source": []
  }
 ],
 "metadata": {
  "kernelspec": {
   "display_name": "Python 3",
   "language": "python",
   "name": "python3"
  },
  "language_info": {
   "codemirror_mode": {
    "name": "ipython",
    "version": 3
   },
   "file_extension": ".py",
   "mimetype": "text/x-python",
   "name": "python",
   "nbconvert_exporter": "python",
   "pygments_lexer": "ipython3",
   "version": "3.6.9"
  }
 },
 "nbformat": 4,
 "nbformat_minor": 5
}
