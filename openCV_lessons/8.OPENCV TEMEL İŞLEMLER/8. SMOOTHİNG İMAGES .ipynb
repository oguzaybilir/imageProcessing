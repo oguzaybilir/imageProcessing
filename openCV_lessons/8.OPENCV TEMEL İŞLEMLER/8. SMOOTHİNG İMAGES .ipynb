{
 "cells": [
  {
   "cell_type": "markdown",
   "id": "2577fe6a",
   "metadata": {},
   "source": [
    "#  8. SMOOTHİNG İMAGES"
   ]
  },
  {
   "cell_type": "code",
   "execution_count": 3,
   "id": "955375fa",
   "metadata": {},
   "outputs": [],
   "source": [
    "import cv2\n",
    "import numpy as np\n",
    "\n",
    "img_filter = cv2.imread(\"C:/Users/oguza/Desktop/klon/filter.png\")\n",
    "img_median = cv2.imread(\"C:/Users/oguza/Desktop/klon/median.png\")\n",
    "img_bilateral = cv2.imread(\"C:/Users/oguza/Desktop/klon/bilateral.png\")\n",
    "\n",
    "blur = cv2.blur(img_filter,(11,11))\n",
    "\n",
    "cv2.imshow(\"blur\", blur)\n",
    "cv2.imshow(\"original\", img_filter)\n",
    "\n",
    "cv2.waitKey(0)\n",
    "cv2.destroyAllWindows()"
   ]
  },
  {
   "cell_type": "markdown",
   "id": "8b1b92ca",
   "metadata": {},
   "source": [
    "img_filter = cv2.imread() bunu artık biliyon aga\n",
    "\n",
    "blur = cv2.blur(resmin adı, (tek sayı,teksayı))     bu tek sayılar resmin blurluğunu arttırıyor\n",
    "\n",
    "bu kadar"
   ]
  },
  {
   "cell_type": "code",
   "execution_count": null,
   "id": "9781117d",
   "metadata": {},
   "outputs": [],
   "source": []
  }
 ],
 "metadata": {
  "kernelspec": {
   "display_name": "Python 3",
   "language": "python",
   "name": "python3"
  },
  "language_info": {
   "codemirror_mode": {
    "name": "ipython",
    "version": 3
   },
   "file_extension": ".py",
   "mimetype": "text/x-python",
   "name": "python",
   "nbconvert_exporter": "python",
   "pygments_lexer": "ipython3",
   "version": "3.8.8"
  }
 },
 "nbformat": 4,
 "nbformat_minor": 5
}
