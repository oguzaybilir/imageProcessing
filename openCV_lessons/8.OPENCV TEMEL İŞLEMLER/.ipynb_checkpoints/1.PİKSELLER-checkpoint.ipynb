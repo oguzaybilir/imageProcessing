{
 "cells": [
  {
   "cell_type": "markdown",
   "id": "c0db60bc",
   "metadata": {},
   "source": [
    "# 1.PİKSELLER"
   ]
  },
  {
   "cell_type": "code",
   "execution_count": 23,
   "id": "82570c0b",
   "metadata": {},
   "outputs": [
    {
     "name": "stdout",
     "output_type": "stream",
     "text": [
      "(426, 640, 3)\n",
      "BGR: [140 134 123]\n",
      "blue:  140\n",
      "green: 134\n",
      "green: 134\n",
      "new blue:  250\n"
     ]
    }
   ],
   "source": [
    "import cv2\n",
    "import numpy as np\n",
    "\n",
    "img = cv2.imread(\"C:/Users/oguza/Desktop/klon/klon.jpg\")\n",
    "\n",
    "dimension = img.shape\n",
    "print(dimension)\n",
    "color = img[420,500]\n",
    "print(\"BGR:\", color)\n",
    "\n",
    "blue = img[420,500,0]\n",
    "print(\"blue: \", blue)\n",
    "\n",
    "green = img[420,500,1]\n",
    "print(\"green:\", green)\n",
    "\n",
    "red = img[420,500,2]\n",
    "print(\"green:\", green)\n",
    "\n",
    "img[420,500,0] = 250 \n",
    "print(\"new blue: \" ,img[420,500,0])\n",
    "\n",
    "blue1 = img.item(150,200,0)\n",
    "img.itemset((150,200,0), 172)\n",
    "\n",
    "\n",
    "\n",
    "cv2.imshow(\"klon asker\", img)\n",
    "cv2.waitKey(0)\n",
    "cv2.destroyAllWindows()"
   ]
  },
  {
   "cell_type": "markdown",
   "id": "f0b74c09",
   "metadata": {},
   "source": [
    "dimension = img.shape   komutu görselimizin kaça kaçlık olduğunu gösterir\n",
    "\n",
    "color = img[kaçakaçlık olduğu]    bu komut görselimizin bizim belirlediğimiz kısmındaki renklerini söyler\n",
    " \n",
    "blue1 = img.item[150,200,0]      bu komut 150 ye 200 deki mavi değerini bir değişkene bağladı\n",
    "\n",
    "img.itemset() fonksiyonu img.itemset((blue1'in değerleri) , blue'nun yeni değeri) şekilnde kullanılır\n"
   ]
  },
  {
   "cell_type": "code",
   "execution_count": null,
   "id": "3cb11766",
   "metadata": {},
   "outputs": [],
   "source": []
  },
  {
   "cell_type": "code",
   "execution_count": null,
   "id": "e39111d1",
   "metadata": {},
   "outputs": [],
   "source": []
  },
  {
   "cell_type": "code",
   "execution_count": null,
   "id": "420889a8",
   "metadata": {},
   "outputs": [],
   "source": []
  }
 ],
 "metadata": {
  "kernelspec": {
   "display_name": "Python 3",
   "language": "python",
   "name": "python3"
  },
  "language_info": {
   "codemirror_mode": {
    "name": "ipython",
    "version": 3
   },
   "file_extension": ".py",
   "mimetype": "text/x-python",
   "name": "python",
   "nbconvert_exporter": "python",
   "pygments_lexer": "ipython3",
   "version": "3.8.8"
  }
 },
 "nbformat": 4,
 "nbformat_minor": 5
}
