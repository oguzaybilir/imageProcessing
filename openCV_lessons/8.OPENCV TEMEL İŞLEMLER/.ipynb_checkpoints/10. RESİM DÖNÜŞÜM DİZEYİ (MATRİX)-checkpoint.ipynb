{
 "cells": [
  {
   "cell_type": "markdown",
   "id": "ba39a158",
   "metadata": {},
   "source": [
    "# 10.RESİM DÖNÜŞÜM DİZEYİ (MATRİX)"
   ]
  },
  {
   "cell_type": "code",
   "execution_count": 2,
   "id": "3b743359",
   "metadata": {},
   "outputs": [],
   "source": [
    "import cv2\n",
    "import numpy as np\n",
    "\n",
    "img = cv2.imread(\"C:/Users/oguza/Desktop/opencvresimler/klon.jpg\",0)\n",
    "row,col = img.shape\n",
    "\n",
    "M = np.float32([[1,0,20],[0,1,100]])\n",
    "\n",
    "dst = cv2.warpAffine(img,M,(row,col))\n",
    "\n",
    "cv2.imshow(\"dst\",dst)\n",
    "\n",
    "cv2.waitKey(0)\n",
    "cv2.destroyAllWindows()"
   ]
  },
  {
   "cell_type": "markdown",
   "id": "a65f7d11",
   "metadata": {},
   "source": [
    "ÇOK ÖNEMLİ BİR NOKTA VAR DİKKAT ET:\n",
    "MATRİXLE İLGİLİ İŞLEMLERİ YAPABİLMEK İÇİN RESİMLERİN 0 1 YANİ GRAY VEYA SİYAH BEYAZ OLMASI LAZIM\n",
    "\n",
    "\n",
    "row ve col resmin pikselidir yani 1920x1080 deki 1920 row, 1080 col oluyor img.shape deki bu 2 değeri row ve col içine çekiyoruz"
   ]
  },
  {
   "cell_type": "markdown",
   "id": "372686b1",
   "metadata": {},
   "source": [
    "np.float32 ve np.uint8 resimlerin renk çözünürlüğünü değiştirir"
   ]
  },
  {
   "cell_type": "code",
   "execution_count": null,
   "id": "24f6ee5a",
   "metadata": {},
   "outputs": [],
   "source": []
  }
 ],
 "metadata": {
  "kernelspec": {
   "display_name": "Python 3",
   "language": "python",
   "name": "python3"
  },
  "language_info": {
   "codemirror_mode": {
    "name": "ipython",
    "version": 3
   },
   "file_extension": ".py",
   "mimetype": "text/x-python",
   "name": "python",
   "nbconvert_exporter": "python",
   "pygments_lexer": "ipython3",
   "version": "3.8.8"
  }
 },
 "nbformat": 4,
 "nbformat_minor": 5
}
