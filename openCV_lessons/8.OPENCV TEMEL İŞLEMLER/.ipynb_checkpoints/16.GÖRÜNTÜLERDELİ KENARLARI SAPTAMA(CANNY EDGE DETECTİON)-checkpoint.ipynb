{
 "cells": [
  {
   "cell_type": "markdown",
   "id": "ecef9bd9",
   "metadata": {},
   "source": [
    "# 16. GÖRÜNTÜLERDELİ KENARLARI SAPTAMA (CANNY EDGE DETECTİON)"
   ]
  },
  {
   "cell_type": "code",
   "execution_count": 6,
   "id": "83f4fcff",
   "metadata": {},
   "outputs": [],
   "source": [
    "import cv2\n",
    "\n",
    "cap = cv2.VideoCapture(0)\n",
    "\n",
    "while True:\n",
    "    ret, frame = cap.read()\n",
    "    frame = cv2.flip(frame,1)\n",
    "    edges = cv2.Canny(frame,100,200)\n",
    "    \n",
    "    cv2.imshow(\"frame\",frame)\n",
    "    cv2.imshow(\"edges\", edges)\n",
    "    \n",
    "    if cv2.waitKey(5) == ord('q'):\n",
    "        break\n",
    "        \n",
    "cap.release()\n",
    "cv2.destroyAllWindows()\n",
    "\n"
   ]
  },
  {
   "cell_type": "markdown",
   "id": "f3ac57fb",
   "metadata": {},
   "source": [
    "cv2.Canny fonksiyonu kenarları saptayan fonksiyondur"
   ]
  },
  {
   "cell_type": "code",
   "execution_count": null,
   "id": "366d1214",
   "metadata": {},
   "outputs": [],
   "source": []
  }
 ],
 "metadata": {
  "kernelspec": {
   "display_name": "Python 3",
   "language": "python",
   "name": "python3"
  },
  "language_info": {
   "codemirror_mode": {
    "name": "ipython",
    "version": 3
   },
   "file_extension": ".py",
   "mimetype": "text/x-python",
   "name": "python",
   "nbconvert_exporter": "python",
   "pygments_lexer": "ipython3",
   "version": "3.8.8"
  }
 },
 "nbformat": 4,
 "nbformat_minor": 5
}
