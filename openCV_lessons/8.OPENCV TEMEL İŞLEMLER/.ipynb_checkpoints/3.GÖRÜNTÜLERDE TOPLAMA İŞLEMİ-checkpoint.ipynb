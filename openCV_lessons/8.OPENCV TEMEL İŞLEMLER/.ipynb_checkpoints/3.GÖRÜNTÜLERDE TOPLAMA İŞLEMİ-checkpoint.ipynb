{
 "cells": [
  {
   "cell_type": "markdown",
   "id": "1bcf0ef6",
   "metadata": {},
   "source": [
    "# 3.GÖRÜNTÜLERİ TOPLAMA İŞLEMİ"
   ]
  },
  {
   "cell_type": "markdown",
   "id": "9f4fc2f4",
   "metadata": {},
   "source": [
    "resimlerin boyutları aynı olmak zorundadır çünkü rsimler birer matrislerdir"
   ]
  },
  {
   "cell_type": "code",
   "execution_count": 16,
   "id": "23c1d1f9",
   "metadata": {},
   "outputs": [
    {
     "name": "stdout",
     "output_type": "stream",
     "text": [
      "[255   0 255]\n"
     ]
    }
   ],
   "source": [
    "import cv2\n",
    "import numpy as np\n",
    "\n",
    "circle = np.zeros((512,512,3), np.uint8) + 255\n",
    "rectangle = np.zeros((512,512,3), np.uint8) + 255\n",
    "\n",
    "add = cv2.add(circle,rectangle)\n",
    "\n",
    "cv2.circle(circle, (256,256), 60, (255,0,0), thickness = -1)\n",
    "cv2.rectangle(rectangle, (150,150),(350,350), (0,0,255), thickness = -1) \n",
    "\n",
    "add = cv2.add(circle,rectangle)\n",
    "print(add[256, 256])\n",
    "\n",
    "cv2.imshow(\"circle\", circle)\n",
    "cv2.imshow(\"rectangle\", rectangle)\n",
    "cv2.imshow(\"add\", add)\n",
    "cv2.waitKey()\n",
    "cv2.destroyAllWindows()"
   ]
  },
  {
   "cell_type": "markdown",
   "id": "6554443d",
   "metadata": {},
   "source": [
    "resimler itoplamak için kullanacağımız fonksiyonun adı cv2.add dir\n"
   ]
  }
 ],
 "metadata": {
  "kernelspec": {
   "display_name": "Python 3",
   "language": "python",
   "name": "python3"
  },
  "language_info": {
   "codemirror_mode": {
    "name": "ipython",
    "version": 3
   },
   "file_extension": ".py",
   "mimetype": "text/x-python",
   "name": "python",
   "nbconvert_exporter": "python",
   "pygments_lexer": "ipython3",
   "version": "3.8.8"
  }
 },
 "nbformat": 4,
 "nbformat_minor": 5
}
