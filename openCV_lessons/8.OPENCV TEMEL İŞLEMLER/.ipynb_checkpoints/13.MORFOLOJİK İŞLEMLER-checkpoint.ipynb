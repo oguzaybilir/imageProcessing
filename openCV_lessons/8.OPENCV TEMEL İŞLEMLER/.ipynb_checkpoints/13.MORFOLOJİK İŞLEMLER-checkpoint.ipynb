{
 "cells": [
  {
   "cell_type": "markdown",
   "id": "2aa98ad5",
   "metadata": {},
   "source": [
    "# 13.MORFOLOJİK İŞLEMLER"
   ]
  },
  {
   "cell_type": "code",
   "execution_count": 10,
   "id": "c6ba8c33",
   "metadata": {},
   "outputs": [],
   "source": [
    "import cv2 \n",
    "import numpy as np\n",
    "\n",
    "\n",
    "img = cv2.imread(\"C:/Users/oguza/Desktop/opencvresimler/klon.jpg\",0)\n",
    "\n",
    "kernel = np.ones((10,5),np.uint8)\n",
    "\n",
    "erosion = cv2.erode(img, kernel, iterations = 10)\n",
    "dilation = cv2.dilate(img, kernel, iterations = 5)\n",
    "opening = cv2.morphologyEx(img,cv2.MORPH_OPEN,kernel)\n",
    "closing = cv2.morphologyEx(img,cv2.MORPH_CLOSE,kernel)\n",
    "gradient = cv2.morphologyEx(img, cv2.MORPH_GRADIENT, kernel)\n",
    "tophat = cv2.morphologyEx(img, cv2.MORPH_TOPHAT, kernel)\n",
    "\n",
    "cv2.imshow(\"gradient\", gradient)\n",
    "cv2.imshow(\"img\", img)\n",
    "cv2.imshow(\"erosion\", erosion)\n",
    "cv2.imshow(\"dilate\", dilation)\n",
    "cv2.imshow(\"opening\", opening)\n",
    "cv2.imshow(\"closing\", closing)\n",
    "cv2.imshow(\"tophat\", tophat)\n",
    "\n",
    "\n",
    "cv2.waitKey(0)\n",
    "cv2.destroyAllWindows()\n"
   ]
  },
  {
   "cell_type": "markdown",
   "id": "4d046983",
   "metadata": {},
   "source": [
    "iterate = tekrar sayısı\n",
    "\n",
    "kernel değerlerinin integer olması lazım yoksa hata verebilir bu yüzden np.uint8 yazmak değerleri integer a çeviriyor\n",
    "\n",
    "\n",
    "kernel = np.ones((10,5),np.uint8)    np.ones komutu 1 lerden matris oluşturur\n",
    "\n",
    "erosion = cv2.erode(resim, kernel, iterations = sayı)\n",
    "\n",
    "erosion inceltiyor\n",
    "\n",
    "dilate kalınlaştırıyor\n",
    "\n",
    "opening resmin üzerindeki gürültüyü kaldırıyor\n",
    "\n",
    "gradient resimdeki şekillerin etrafını çiziyor \n",
    "\n",
    "tophat resmin etrafını bana kalırsa gradientin tam tersi şekilde işliyor ve biraz daha matlaştırıyor"
   ]
  },
  {
   "cell_type": "code",
   "execution_count": null,
   "id": "8dd8847d",
   "metadata": {},
   "outputs": [],
   "source": []
  }
 ],
 "metadata": {
  "kernelspec": {
   "display_name": "Python 3",
   "language": "python",
   "name": "python3"
  },
  "language_info": {
   "codemirror_mode": {
    "name": "ipython",
    "version": 3
   },
   "file_extension": ".py",
   "mimetype": "text/x-python",
   "name": "python",
   "nbconvert_exporter": "python",
   "pygments_lexer": "ipython3",
   "version": "3.8.8"
  }
 },
 "nbformat": 4,
 "nbformat_minor": 5
}
