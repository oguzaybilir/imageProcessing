{
 "cells": [
  {
   "cell_type": "markdown",
   "id": "2e8c1130",
   "metadata": {},
   "source": [
    "# 5. HOUGH CİRCLE TRANSFORM"
   ]
  },
  {
   "cell_type": "code",
   "execution_count": null,
   "id": "354a4599",
   "metadata": {},
   "outputs": [],
   "source": [
    "import cv2\n",
    "import numpy as np\n",
    "\n",
    "img1 = cv2.imread(\"C:/Users/oguza/Desktop/opencvresimler/coins.jpg.jpg\")\n",
    "img2 = cv2.imread(\"C:/Users/oguza/Desktop/opencvresimler/balls.jpg.jpg\")\n",
    "\n",
    "gray1 = cv2.cvtColor(img1, cv2.COLOR_BGR2GRAY)\n",
    "gray2 = cv2.cvtColor(img2, cv2.COLOR_BGR2GRAY)\n",
    "\n",
    "img1_blur = cv2.MedianBlur(gray1,)"
   ]
  }
 ],
 "metadata": {
  "kernelspec": {
   "display_name": "Python 3",
   "language": "python",
   "name": "python3"
  },
  "language_info": {
   "codemirror_mode": {
    "name": "ipython",
    "version": 3
   },
   "file_extension": ".py",
   "mimetype": "text/x-python",
   "name": "python",
   "nbconvert_exporter": "python",
   "pygments_lexer": "ipython3",
   "version": "3.8.8"
  }
 },
 "nbformat": 4,
 "nbformat_minor": 5
}
