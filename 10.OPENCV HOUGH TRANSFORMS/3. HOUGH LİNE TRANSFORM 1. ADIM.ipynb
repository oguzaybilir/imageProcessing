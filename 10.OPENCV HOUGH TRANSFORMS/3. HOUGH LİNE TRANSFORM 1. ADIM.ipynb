{
 "cells": [
  {
   "cell_type": "markdown",
   "id": "306022a4",
   "metadata": {},
   "source": [
    "# 3. HOUGH LİNE TRANSFORM"
   ]
  },
  {
   "cell_type": "code",
   "execution_count": 21,
   "id": "cb023c28",
   "metadata": {},
   "outputs": [],
   "source": [
    "import cv2\n",
    "import numpy as np\n",
    "\n",
    "img = cv2.imread(\"C:/Users/oguza/Desktop/opencvresimler/h_line.png.png\")\n",
    "\n",
    "gray = cv2.cvtColor(img, cv2.COLOR_BGR2GRAY)\n",
    "\n",
    "edges = cv2.Canny(gray,75,150)\n",
    "\n",
    "lines  = cv2.HoughLinesP(edges,1,np.pi/180,50, maxLineGap=250)\n",
    "\n",
    "for line in lines:\n",
    "    (x1,y1,x2,y2) = line[0]\n",
    "    cv2.line(img,(x1,y1),(x2,y2),(0,255,0),2)\n",
    "\n",
    "cv2.imshow(\"img\", img)\n",
    "cv2.imshow(\"edges\", edges)\n",
    "cv2.imshow(\"gray\", gray)\n",
    "cv2.waitKey(0)\n",
    "cv2.destroyAllWindows()"
   ]
  },
  {
   "cell_type": "markdown",
   "id": "a4f693fc",
   "metadata": {},
   "source": [
    "cv2.HoughLines(köşeleri bulunmuş resim, ro değeri ,teta açısı değerleri,threshold değeri)\n",
    "\n",
    "cv2.HoughLinesP(köşeleri bulunmuş resim, ro değeri, teta açısı değeri, threshold değeri, arada boşluk kalırsa maxLineGap = bir sayı şeklinde girerek kalan boşlukları da doldururuz)\n",
    "\n",
    "cv.HoughLines çok fazla cpu kullanır sonunda P olursa daha az cpu kullanır\n",
    "\n",
    "line değerleri lines değişkeninin içinde tek tek gezer ve 51 tane değer bulur ama bize sadece 0. değer lazımdır bunun nedeni ise bize gerekli olan bailangıç ve bitiş değerleri 0. sıradadır işte bu yüzden bir for döngüsüne sokacağız ki değerleri alabilelim\n",
    "\n",
    "x1,y1 line ın başlangıç bitiş değerleridir\n",
    "\n",
    "cv2.line(resim, başlangıç ve bitiş değerleri, renk, kalınlık)"
   ]
  },
  {
   "cell_type": "code",
   "execution_count": null,
   "id": "cea47a22",
   "metadata": {},
   "outputs": [],
   "source": []
  }
 ],
 "metadata": {
  "kernelspec": {
   "display_name": "Python 3",
   "language": "python",
   "name": "python3"
  },
  "language_info": {
   "codemirror_mode": {
    "name": "ipython",
    "version": 3
   },
   "file_extension": ".py",
   "mimetype": "text/x-python",
   "name": "python",
   "nbconvert_exporter": "python",
   "pygments_lexer": "ipython3",
   "version": "3.8.8"
  }
 },
 "nbformat": 4,
 "nbformat_minor": 5
}
