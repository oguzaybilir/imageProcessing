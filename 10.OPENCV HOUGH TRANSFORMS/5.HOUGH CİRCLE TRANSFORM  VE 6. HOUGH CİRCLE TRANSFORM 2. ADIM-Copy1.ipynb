{
 "cells": [
  {
   "cell_type": "markdown",
   "id": "2e8c1130",
   "metadata": {},
   "source": [
    "# 5. HOUGH CİRCLE TRANSFORM VE 6. HOUGH CİRCLE TRANSFORM 2. ADIM"
   ]
  },
  {
   "cell_type": "code",
   "execution_count": 27,
   "id": "354a4599",
   "metadata": {},
   "outputs": [],
   "source": [
    "import cv2\n",
    "import numpy as np\n",
    "\n",
    "img1 = cv2.imread(\"C:/Users/oguza/Desktop/opencvresimler/coins.jpg.jpg\") # resmimizi okuttuk, cv2.imread() içine 1 değer alır o değer de resmin dosya yoludur\n",
    "img2 = cv2.imread(\"C:/Users/oguza/Desktop/opencvresimler/balls.jpg.jpg\")\n",
    "\n",
    "gray1 = cv2.cvtColor(img1, cv2.COLOR_BGR2GRAY)  #cv2.cvtColor() içine 2 değer alır ilk değer dönüştürülecek resimdir 2. değer ise cv2.COLOR_BGR2GRAY dir bgr2hsv, bgr2hsv de yazılabilir \n",
    "gray2 = cv2.cvtColor(img2, cv2.COLOR_BGR2GRAY)\n",
    "\n",
    "img1_blur = cv2.medianBlur(gray1, 5) # cv2.MedianBLur() gürültülü resmi daha iyi bir hale getiriyordu bizde burada circleları daha rahat saydırabilmek için kullanıyoruz \n",
    "img2_blur = cv2.medianBlur(gray2, 5)# cv2.MedianBlur() içinde 2 değer saklar birisi griye dönderilmiş resim ve diğeri de gürültü azaltma miktarıdır\n",
    "\n",
    "circles = cv2.HoughCircles(img1_blur, cv2.HOUGH_GRADIENT,1,img1.shape[0]/10,param1=200,param2=10, minRadius=70, maxRadius=75) #cv2.HoughCircles içinde 4 tane değer alır, 1. değer blurlanmış resim, algılama yöntemi o yöntemde default bir yöntemdir, çözünürlük oranı, tespit edilen circle lar için minimum mesafe değer ve bu değerde default olarak girilir param1 ve param2 default değerlerdir değerleri her zaman aynı olmalıdır ama bu yöntem için default değerlerdir,param1 gradient , param2 threshold değeridir minRadius çemberlerin tahmini olarak en küçük yarıcap değeri, maxRadius değeri ise en büyük halidir \n",
    "\n",
    "if circles is not None: #eğer circles ın içi boş değilse\n",
    "    circles = np.uint16(np.around(circles))  #uint ten sonra 8 16 gibi değerler girilebilir bu 8 veya 16, 32 gibi değerler uint in tuttuğu değerleri azaltmak eya arttırmak içindir \n",
    "    #np.around(circles) içindeki değerleri işlenebilir olsun diye uint8 16 32 gibi bir değere dönüştürüyoruz\n",
    "    for i in circles[0,:] : # [0,:] şeklinde yazılırsa 0. değerden son değere kadar i değeri circles ın içinde dolaşır\n",
    "        cv2.circle(img1,(i[0],i[1]), i[2],(0,255,0),2) #i[2] değeri çemberin yarıçapıdır\n",
    "        \n",
    "    \n",
    "cv2.imshow(\"img\", img1)\n",
    "cv2.waitKey(0)\n",
    "cv2.destroyAllWindows()\n"
   ]
  },
  {
   "cell_type": "code",
   "execution_count": null,
   "id": "2bd006b4",
   "metadata": {},
   "outputs": [],
   "source": []
  }
 ],
 "metadata": {
  "kernelspec": {
   "display_name": "Python 3",
   "language": "python",
   "name": "python3"
  },
  "language_info": {
   "codemirror_mode": {
    "name": "ipython",
    "version": 3
   },
   "file_extension": ".py",
   "mimetype": "text/x-python",
   "name": "python",
   "nbconvert_exporter": "python",
   "pygments_lexer": "ipython3",
   "version": "3.8.8"
  }
 },
 "nbformat": 4,
 "nbformat_minor": 5
}
