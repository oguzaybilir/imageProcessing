{
 "cells": [
  {
   "cell_type": "markdown",
   "id": "99a2e893",
   "metadata": {},
   "source": [
    "# 10.MOUSE KULLANIMI"
   ]
  },
  {
   "cell_type": "code",
   "execution_count": 1,
   "id": "d7e4f67e",
   "metadata": {},
   "outputs": [],
   "source": [
    "import cv2\n",
    "import numpy as np\n",
    "\n",
    "cap = cv2.VideoCapture(\"C:/Users/oguza/Desktop/opencvresimler/car.mp4.mp4\") # videomuzu aldık\n",
    "circles = [] #daireler oluşturacağımız için içi boş bir circles değişkeni tanımladık\n",
    "def mouse(event,x,y,flags,params): #event sağ veya sol tıklayınca oluşacak olayı tanımlıyor, x ve y ekranda oluşacak çemberşn merkezi olacak, flags ve params default değerler bir önemleri yok\n",
    "    if event == cv2.EVENT_LBUTTONDOWN:  # cv2.EVENT_LBUTTONDOWN özel bir fonksiyondur, görevi mouse sol tıkına basıldığını ve basıldığı yerin koordinatlarını algılamaktır\n",
    "        circles.append((x,y))\n",
    "    \n",
    "cv2.namedWindow(\"frame\") # penceremize bir isim verdik\n",
    "cv2.setMouseCallback(\"frame\",mouse) #ilk girilen değer pencere adı, belirlediğimiz mouse fonksiyonu\n",
    "\n",
    "\n",
    "while True: \n",
    "    ret,frame = cap.read() # framelerimizi okutuyoruz\n",
    "    frame = cv2.resize(frame,(640,480)) #görüntü penceremizi yeniden boyutlandırdık\n",
    "    if ret is False:  # eğer ret değişkeni frame alamazsa frame ile iş yapan kodlar hataya girer bu nedenle frame değer okuyamazsa işlemi kapatsın\n",
    "        break\n",
    "        \n",
    "    for center in circles:  # circles içindeki x ve y değerleri çemberlerin merkezleri olacağı için bu döngüyü oluşturduk\n",
    "        cv2.circle(frame,center,20,(255,0,0),-1)  # daire çizme fonksiyonumuz \n",
    "        \n",
    "    cv2.imshow(\"frame\",frame) # framelerimizi ekrana bastırdık\n",
    "    \n",
    "    key = cv2.waitKey(1) # cv2.waitKey(1) komutunu key değişkenine bağladık çünkü uzun uzun cv2.waitKey() yazmak istemiyorum\n",
    "    if key == ord('q'): # eğer q ya basılırsa pencereler kapansın\n",
    "        break\n",
    "    elif key == ord('h'): # eğer h'a basılırsa ekranda oluşan daireler silinir ama pencereler kapanmaz sadece daireler silinir \n",
    "        circles=[]\n",
    "        \n",
    "cap.release()  # görüntümüzü serbest bıraktık\n",
    "cv2.destroyAllWindows() # pencerelerin kapanmasını sağladık\n",
    "    "
   ]
  },
  {
   "cell_type": "code",
   "execution_count": null,
   "id": "f613ec97",
   "metadata": {},
   "outputs": [],
   "source": []
  }
 ],
 "metadata": {
  "kernelspec": {
   "display_name": "Python 3",
   "language": "python",
   "name": "python3"
  },
  "language_info": {
   "codemirror_mode": {
    "name": "ipython",
    "version": 3
   },
   "file_extension": ".py",
   "mimetype": "text/x-python",
   "name": "python",
   "nbconvert_exporter": "python",
   "pygments_lexer": "ipython3",
   "version": "3.8.8"
  }
 },
 "nbformat": 4,
 "nbformat_minor": 5
}
