{
 "cells": [
  {
   "cell_type": "markdown",
   "id": "2e133402",
   "metadata": {},
   "source": [
    "# 14. EL ÖZELLİKLERİNİ KULLANMA (USİNG HAND FEATURE)"
   ]
  },
  {
   "cell_type": "code",
   "execution_count": null,
   "id": "767a9fcf",
   "metadata": {},
   "outputs": [],
   "source": [
    "import cv2\n",
    "import numpy as np\n",
    "import math\n",
    "\n",
    "def findMaxContour(contours):\n",
    "    max_i = 0\n",
    "    max_area = 0\n",
    "    for i in range(len(contours)):\n",
    "        area_hand = cv2.contourArea(contours[i])\n",
    "        \n",
    "        if max_area < area_hand:\n",
    "            max_area = area_hand\n",
    "            max_i = i\n",
    "        try:\n",
    "            c = contours[max_i]\n",
    "            \n",
    "        except:\n",
    "            contours = [0]\n",
    "            c = contours[0]\n",
    "        return c\n",
    "\n",
    "cap = cv2.VideoCapture(0)\n",
    "\n",
    "while True:\n",
    "    ret,frame = cap.read()\n",
    "    if ret is False:\n",
    "        break\n",
    "    frame = cv2.flip(frame,1)\n",
    "    \n",
    "    roi = frame[50:250,200:400]\n",
    "    cv2.rectangle(frame,(200,50),(400,250),(0,0,255),0)\n",
    "    \n",
    "    hsv = cv2.cvtColor(roi,cv2.COLOR_BGR2HSV)\n",
    "    \n",
    "    lower_color = np.array([0,45,179],dtype = np.uint8)\n",
    "    upper_color = np.array([17,255,255],dtype = np.uint8)\n",
    "    \n",
    "    mask = cv2.inRange(hsv,lower_color,upper_color)\n",
    "    bitwise = cv2.bitwise_and(frame,frame,mask = mask)\n",
    "    \n",
    "    kernel = np.ones((3,3),np.uint8)\n",
    "    mask = cv2.dilate(mask,kernel,iterations =  1)\n",
    "    mask = cv2.medianBlur(mask,15)\n",
    "    \n",
    "    \n",
    "    contours,ret = cv2.findContours(mask,cv2.RETR_TREE,cv2.CHAIN__APPROX_SIMPLE)\n",
    "    \n",
    "    if len(contours) > 0:\n",
    "        \n",
    "        c = findMaxContours(contours)\n",
    "        \n",
    "        ensol =  tuple(c[c[:,:,0].argmin()][0])\n",
    "        ensag = tuple(c[c[:,:,0],argmax()][0])\n",
    "        entepe = tuple(c[c[:,:,1].argmin()[0]])\n",
    "        \n",
    "        cv2.circle(roi,ensol,5,(0,255,0),2)\n",
    "        cv2.circle(roi,ensag,5,(0,255,0),2)\n",
    "        cv2.circle(roi,entepe,5,(0,255,0),2)\n",
    "        \n",
    "        cv2.line(roi,ensol,tepe,(0,0,255),2)\n",
    "        cv2.line(roi,entepe,ensag,(0,0,255),2)\n",
    "        cv2.line(roi,ensag,ensol,(0,0,255),2)\n",
    "        \n",
    "        111\n",
    "    \n",
    "    \n",
    "    "
   ]
  }
 ],
 "metadata": {
  "kernelspec": {
   "display_name": "Python 3",
   "language": "python",
   "name": "python3"
  },
  "language_info": {
   "codemirror_mode": {
    "name": "ipython",
    "version": 3
   },
   "file_extension": ".py",
   "mimetype": "text/x-python",
   "name": "python",
   "nbconvert_exporter": "python",
   "pygments_lexer": "ipython3",
   "version": "3.8.8"
  }
 },
 "nbformat": 4,
 "nbformat_minor": 5
}
