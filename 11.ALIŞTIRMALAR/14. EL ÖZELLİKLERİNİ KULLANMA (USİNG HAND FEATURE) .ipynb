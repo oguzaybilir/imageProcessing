{
 "cells": [
  {
   "cell_type": "markdown",
   "id": "2e133402",
   "metadata": {},
   "source": [
    "# 14. EL ÖZELLİKLERİNİ KULLANMA (USİNG HAND FEATURE)"
   ]
  },
  {
   "cell_type": "code",
   "execution_count": 4,
   "id": "767a9fcf",
   "metadata": {},
   "outputs": [
    {
     "ename": "error",
     "evalue": "OpenCV(4.5.4-dev) D:\\a\\opencv-python\\opencv-python\\opencv\\modules\\core\\src\\arithm.cpp:230: error: (-215:Assertion failed) (mtype == CV_8U || mtype == CV_8S) && _mask.sameSize(*psrc1) in function 'cv::binary_op'\n",
     "output_type": "error",
     "traceback": [
      "\u001b[1;31m---------------------------------------------------------------------------\u001b[0m",
      "\u001b[1;31merror\u001b[0m                                     Traceback (most recent call last)",
      "\u001b[1;32m<ipython-input-4-a12f97ed74d4>\u001b[0m in \u001b[0;36m<module>\u001b[1;34m\u001b[0m\n\u001b[0;32m     37\u001b[0m \u001b[1;33m\u001b[0m\u001b[0m\n\u001b[0;32m     38\u001b[0m     \u001b[0mmask\u001b[0m \u001b[1;33m=\u001b[0m \u001b[0mcv2\u001b[0m\u001b[1;33m.\u001b[0m\u001b[0minRange\u001b[0m\u001b[1;33m(\u001b[0m\u001b[0mhsv\u001b[0m\u001b[1;33m,\u001b[0m\u001b[0mlower_color\u001b[0m\u001b[1;33m,\u001b[0m\u001b[0mupper_color\u001b[0m\u001b[1;33m)\u001b[0m\u001b[1;33m\u001b[0m\u001b[1;33m\u001b[0m\u001b[0m\n\u001b[1;32m---> 39\u001b[1;33m     \u001b[0mbitwise\u001b[0m \u001b[1;33m=\u001b[0m \u001b[0mcv2\u001b[0m\u001b[1;33m.\u001b[0m\u001b[0mbitwise_and\u001b[0m\u001b[1;33m(\u001b[0m\u001b[0mframe\u001b[0m\u001b[1;33m,\u001b[0m\u001b[0mframe\u001b[0m\u001b[1;33m,\u001b[0m\u001b[0mmask\u001b[0m \u001b[1;33m=\u001b[0m \u001b[0mmask\u001b[0m\u001b[1;33m)\u001b[0m\u001b[1;33m\u001b[0m\u001b[1;33m\u001b[0m\u001b[0m\n\u001b[0m\u001b[0;32m     40\u001b[0m \u001b[1;33m\u001b[0m\u001b[0m\n\u001b[0;32m     41\u001b[0m     \u001b[0mkernel\u001b[0m \u001b[1;33m=\u001b[0m \u001b[0mnp\u001b[0m\u001b[1;33m.\u001b[0m\u001b[0mones\u001b[0m\u001b[1;33m(\u001b[0m\u001b[1;33m(\u001b[0m\u001b[1;36m3\u001b[0m\u001b[1;33m,\u001b[0m\u001b[1;36m3\u001b[0m\u001b[1;33m)\u001b[0m\u001b[1;33m,\u001b[0m\u001b[0mnp\u001b[0m\u001b[1;33m.\u001b[0m\u001b[0muint8\u001b[0m\u001b[1;33m)\u001b[0m\u001b[1;33m\u001b[0m\u001b[1;33m\u001b[0m\u001b[0m\n",
      "\u001b[1;31merror\u001b[0m: OpenCV(4.5.4-dev) D:\\a\\opencv-python\\opencv-python\\opencv\\modules\\core\\src\\arithm.cpp:230: error: (-215:Assertion failed) (mtype == CV_8U || mtype == CV_8S) && _mask.sameSize(*psrc1) in function 'cv::binary_op'\n"
     ]
    }
   ],
   "source": [
    "import cv2\n",
    "import numpy as np\n",
    "import math\n",
    "\n",
    "def findMaxContour(contours):\n",
    "    max_i = 0\n",
    "    max_area = 0\n",
    "    for i in range(len(contours)):\n",
    "        area_hand = cv2.contourArea(contours[i])\n",
    "        \n",
    "        if max_area < area_hand:\n",
    "            max_area = area_hand\n",
    "            max_i = i\n",
    "        try:\n",
    "            c = contours[max_i]\n",
    "            \n",
    "        except:\n",
    "            contours = [0]\n",
    "            c = contours[0]\n",
    "        return c\n",
    "\n",
    "cap = cv2.VideoCapture(0)\n",
    "\n",
    "while True:\n",
    "    ret,frame = cap.read()\n",
    "    if ret is False:\n",
    "        break\n",
    "    frame = cv2.flip(frame,1)\n",
    "    \n",
    "    roi = frame[50:250,200:400]\n",
    "    cv2.rectangle(frame,(200,50),(400,250),(0,0,255),0)\n",
    "    \n",
    "    hsv = cv2.cvtColor(roi,cv2.COLOR_BGR2HSV)\n",
    "    \n",
    "    lower_color = np.array([0,45,179],dtype = np.uint8)\n",
    "    upper_color = np.array([17,255,255],dtype = np.uint8)\n",
    "    \n",
    "    mask = cv2.inRange(hsv,lower_color,upper_color)\n",
    "    bitwise = cv2.bitwise_and(frame,frame,mask = mask)\n",
    "    \n",
    "    kernel = np.ones((3,3),np.uint8)\n",
    "    mask = cv2.dilate(mask,kernel,iterations =  1)\n",
    "    mask = cv2.medianBlur(mask,15)\n",
    "    \n",
    "    \n",
    "    contours,ret = cv2.findContours(mask,cv2.RETR_TREE,cv2.CHAIN__APPROX_SIMPLE)\n",
    "    \n",
    "    if len(contours) > 0:\n",
    "        \n",
    "        c = findMaxContours(contours)\n",
    "        \n",
    "        ensol =  tuple(c[c[:,:,0].argmin()][0])\n",
    "        ensag = tuple(c[c[:,:,0],argmax()][0])\n",
    "        entepe = tuple(c[c[:,:,1].argmin()[0]])\n",
    "        \n",
    "        cv2.circle(roi,ensol,5,(0,255,0),2)\n",
    "        cv2.circle(roi,ensag,5,(0,255,0),2)\n",
    "        cv2.circle(roi,entepe,5,(0,255,0),2)\n",
    "        \n",
    "        cv2.line(roi,ensol,tepe,(0,0,255),2)\n",
    "        cv2.line(roi,entepe,ensag,(0,0,255),2)\n",
    "        cv2.line(roi,ensag,ensol,(0,0,255),2)\n",
    "        \n",
    "        a = math.sqrt((ensag[0]-entepe[0])**2-(ensag[1]-entepe[1])**2)\n",
    "        b = math.sqrt((entepe[0]-ensol[0])**2-(entepe[1]-ensol[1])**2)\n",
    "        c = math.sqrt((ensag[0]-ensol[0])**2-(ensag[1]-ensol[1])**2)\n",
    "        \n",
    "        try:\n",
    "            angle_ab = int(math.acos((a**2+b**2-c**2)/2*b*c)*57)\n",
    "            cv2.putText = (roi,str(angle_ab),(ensag[0]-100+50,ensag[1]),cv2.FONT_HERSHEY_SIMPLEX,1,(0,0,255),2,cv2.LINE_AA)\n",
    "        except:\n",
    "            cv2.putText = (roi,\"?\",(ensag[0]-100+50,ensag[1]),cv2.FONT_HERSHEY_SIMPLEX,1,(0,0,255),2,cv2.LINE_AA)\n",
    "        \n",
    "        cv2.imshow(\"frame\",frame)\n",
    "        cv2.imshow(\"roi\",roi)\n",
    "        cv2.imshow(\"mask\",mask)\n",
    "        \n",
    "        if cv2.waitKey(10) == ord(\"q\"):\n",
    "            break\n",
    "                 \n",
    "cap.read()\n",
    "cv2.destroyAllWindows()\n",
    "    \n",
    "    \n",
    "    "
   ]
  },
  {
   "cell_type": "code",
   "execution_count": null,
   "id": "c59c14ab",
   "metadata": {},
   "outputs": [],
   "source": []
  }
 ],
 "metadata": {
  "kernelspec": {
   "display_name": "Python 3",
   "language": "python",
   "name": "python3"
  },
  "language_info": {
   "codemirror_mode": {
    "name": "ipython",
    "version": 3
   },
   "file_extension": ".py",
   "mimetype": "text/x-python",
   "name": "python",
   "nbconvert_exporter": "python",
   "pygments_lexer": "ipython3",
   "version": "3.8.8"
  }
 },
 "nbformat": 4,
 "nbformat_minor": 5
}
