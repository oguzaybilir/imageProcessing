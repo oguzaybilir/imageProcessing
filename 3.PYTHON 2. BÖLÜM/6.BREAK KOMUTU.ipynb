{
 "cells": [
  {
   "cell_type": "markdown",
   "id": "d06ce2c1",
   "metadata": {},
   "source": [
    "# 6. BREAK KOMUTU"
   ]
  },
  {
   "cell_type": "code",
   "execution_count": 8,
   "id": "4ce0a190",
   "metadata": {},
   "outputs": [
    {
     "name": "stdout",
     "output_type": "stream",
     "text": [
      "güncel sicaklik: 20 makine çalışmaya devam ediyor\n",
      "güncel sicaklik: 21 makine çalışmaya devam ediyor\n",
      "güncel sicaklik: 22 makine çalışmaya devam ediyor\n",
      "güncel sicaklik: 23 makine çalışmaya devam ediyor\n",
      "güncel sicaklik: 24 makine çalışmaya devam ediyor\n",
      "güncel sicaklik: 25 makine durduruldu\n"
     ]
    }
   ],
   "source": [
    "odasicakligi = 20\n",
    "\n",
    "while odasicakligi<30:\n",
    "    print(\"güncel sicaklik:\",odasicakligi,\"makine çalışmaya devam ediyor\")\n",
    "    odasicakligi = odasicakligi+1\n",
    "    if odasicakligi == 25:\n",
    "        break\n",
    "print(\"güncel sicaklik: 25 makine durduruldu\")"
   ]
  },
  {
   "cell_type": "code",
   "execution_count": null,
   "id": "ce54f5a4",
   "metadata": {},
   "outputs": [],
   "source": []
  },
  {
   "cell_type": "code",
   "execution_count": null,
   "id": "f9315c13",
   "metadata": {},
   "outputs": [],
   "source": []
  },
  {
   "cell_type": "code",
   "execution_count": null,
   "id": "176c4b64",
   "metadata": {},
   "outputs": [],
   "source": []
  }
 ],
 "metadata": {
  "kernelspec": {
   "display_name": "Python 3",
   "language": "python",
   "name": "python3"
  },
  "language_info": {
   "codemirror_mode": {
    "name": "ipython",
    "version": 3
   },
   "file_extension": ".py",
   "mimetype": "text/x-python",
   "name": "python",
   "nbconvert_exporter": "python",
   "pygments_lexer": "ipython3",
   "version": "3.8.8"
  }
 },
 "nbformat": 4,
 "nbformat_minor": 5
}
