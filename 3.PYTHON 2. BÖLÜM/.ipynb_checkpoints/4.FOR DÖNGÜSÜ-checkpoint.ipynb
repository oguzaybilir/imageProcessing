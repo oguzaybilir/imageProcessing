{
 "cells": [
  {
   "cell_type": "markdown",
   "id": "88ad10f8",
   "metadata": {},
   "source": [
    "# 4. FOR DÖNGÜSÜ"
   ]
  },
  {
   "cell_type": "code",
   "execution_count": 1,
   "id": "0a7797b4",
   "metadata": {},
   "outputs": [],
   "source": [
    "harfler = ['a' ,'b', 'c', 'ç','d'] "
   ]
  },
  {
   "cell_type": "code",
   "execution_count": 2,
   "id": "9e46841d",
   "metadata": {},
   "outputs": [
    {
     "data": {
      "text/plain": [
       "'a'"
      ]
     },
     "execution_count": 2,
     "metadata": {},
     "output_type": "execute_result"
    }
   ],
   "source": [
    "harfler[0]"
   ]
  },
  {
   "cell_type": "code",
   "execution_count": 4,
   "id": "376c746f",
   "metadata": {},
   "outputs": [
    {
     "name": "stdout",
     "output_type": "stream",
     "text": [
      "a\n",
      "b\n",
      "c\n",
      "ç\n",
      "d\n"
     ]
    }
   ],
   "source": [
    "for x in harfler:\n",
    "    print(x)"
   ]
  },
  {
   "cell_type": "code",
   "execution_count": null,
   "id": "c75e7f03",
   "metadata": {},
   "outputs": [],
   "source": []
  }
 ],
 "metadata": {
  "kernelspec": {
   "display_name": "Python 3",
   "language": "python",
   "name": "python3"
  },
  "language_info": {
   "codemirror_mode": {
    "name": "ipython",
    "version": 3
   },
   "file_extension": ".py",
   "mimetype": "text/x-python",
   "name": "python",
   "nbconvert_exporter": "python",
   "pygments_lexer": "ipython3",
   "version": "3.8.8"
  }
 },
 "nbformat": 4,
 "nbformat_minor": 5
}
