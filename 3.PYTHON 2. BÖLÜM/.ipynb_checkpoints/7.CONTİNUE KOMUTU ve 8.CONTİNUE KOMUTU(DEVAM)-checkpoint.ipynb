{
 "cells": [
  {
   "cell_type": "markdown",
   "id": "15359b93",
   "metadata": {},
   "source": [
    "# 7.CONTİNUE KOMUTU VE 8.CONTİNUE(DEVAM)\n"
   ]
  },
  {
   "cell_type": "code",
   "execution_count": 5,
   "id": "54da3d5b",
   "metadata": {},
   "outputs": [
    {
     "name": "stdout",
     "output_type": "stream",
     "text": [
      "güncel harf: p\n",
      "güncel harf: y\n",
      "güncel harf: h\n",
      "güncel harf: o\n",
      "güncel harf: n\n"
     ]
    }
   ],
   "source": [
    "for harf in 'python':\n",
    "    if harf =='t':\n",
    "        continue\n",
    "    print(\"güncel harf:\",harf)"
   ]
  },
  {
   "cell_type": "markdown",
   "id": "12f3c066",
   "metadata": {},
   "source": [
    "t harfine gelince continue komutu t değerdini atlatıp fonskiyonu başa döndürdü"
   ]
  },
  {
   "cell_type": "code",
   "execution_count": 13,
   "id": "09dd59c9",
   "metadata": {},
   "outputs": [
    {
     "name": "stdout",
     "output_type": "stream",
     "text": [
      "güncel sayı: 1\n",
      "güncel sayı: 2\n",
      "güncel sayı: 3\n",
      "güncel sayı: 4\n",
      "güncel sayı: 6\n",
      "güncel sayı: 7\n",
      "güncel sayı: 8\n",
      "güncel sayı: 9\n",
      "güncel sayı: 11\n",
      "güncel sayı: 12\n",
      "güncel sayı: 13\n",
      "güncel sayı: 14\n",
      "güncel sayı: 16\n",
      "güncel sayı: 17\n",
      "güncel sayı: 18\n",
      "güncel sayı: 19\n",
      "güncel sayı: 21\n",
      "güncel sayı: 22\n",
      "güncel sayı: 23\n",
      "güncel sayı: 24\n",
      "güncel sayı: 26\n",
      "güncel sayı: 27\n",
      "güncel sayı: 28\n",
      "güncel sayı: 29\n",
      "güncel sayı: 31\n",
      "güncel sayı: 32\n",
      "güncel sayı: 33\n",
      "güncel sayı: 34\n",
      "güncel sayı: 36\n",
      "güncel sayı: 37\n",
      "güncel sayı: 38\n",
      "güncel sayı: 39\n",
      "güncel sayı: 41\n",
      "güncel sayı: 42\n",
      "güncel sayı: 43\n",
      "güncel sayı: 44\n",
      "güncel sayı: 46\n",
      "güncel sayı: 47\n",
      "güncel sayı: 48\n",
      "güncel sayı: 49\n",
      "güncel sayı: 51\n",
      "güncel sayı: 52\n",
      "güncel sayı: 53\n",
      "güncel sayı: 54\n",
      "güncel sayı: 56\n",
      "güncel sayı: 57\n",
      "güncel sayı: 58\n",
      "güncel sayı: 59\n",
      "güncel sayı: 61\n",
      "güncel sayı: 62\n",
      "güncel sayı: 63\n",
      "güncel sayı: 64\n",
      "güncel sayı: 66\n",
      "güncel sayı: 67\n",
      "güncel sayı: 68\n",
      "güncel sayı: 69\n",
      "güncel sayı: 71\n",
      "güncel sayı: 72\n",
      "güncel sayı: 73\n",
      "güncel sayı: 74\n",
      "güncel sayı: 76\n",
      "güncel sayı: 77\n",
      "güncel sayı: 78\n",
      "güncel sayı: 79\n",
      "güncel sayı: 81\n",
      "güncel sayı: 82\n",
      "güncel sayı: 83\n",
      "güncel sayı: 84\n",
      "güncel sayı: 86\n",
      "güncel sayı: 87\n",
      "güncel sayı: 88\n",
      "güncel sayı: 89\n",
      "güncel sayı: 91\n",
      "güncel sayı: 92\n",
      "güncel sayı: 93\n",
      "güncel sayı: 94\n",
      "güncel sayı: 96\n",
      "güncel sayı: 97\n",
      "güncel sayı: 98\n",
      "güncel sayı: 99\n"
     ]
    }
   ],
   "source": [
    "a = 1\n",
    "\n",
    "while a <= 100:\n",
    "    print(\"güncel sayı:\", a)\n",
    "    a = a+1\n",
    "    if a%5 == 0:\n",
    "        a=a+1\n",
    "        continue\n",
    "    "
   ]
  },
  {
   "cell_type": "markdown",
   "id": "df3cdba0",
   "metadata": {},
   "source": [
    "ilk yazdığımız a = a+1 ifadesi 1+2, 2+1 şeklinde ilerlemesini sağladı\n",
    "ikinci yazdığımız a = a+1 ifadesi ise 5 in katları ekrana yazdırılmayınca fonksiyon işleme devam etsin diye var"
   ]
  }
 ],
 "metadata": {
  "kernelspec": {
   "display_name": "Python 3",
   "language": "python",
   "name": "python3"
  },
  "language_info": {
   "codemirror_mode": {
    "name": "ipython",
    "version": 3
   },
   "file_extension": ".py",
   "mimetype": "text/x-python",
   "name": "python",
   "nbconvert_exporter": "python",
   "pygments_lexer": "ipython3",
   "version": "3.8.8"
  }
 },
 "nbformat": 4,
 "nbformat_minor": 5
}
