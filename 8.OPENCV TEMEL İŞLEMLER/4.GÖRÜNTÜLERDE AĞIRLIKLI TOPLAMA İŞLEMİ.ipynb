{
 "cells": [
  {
   "cell_type": "markdown",
   "id": "320a808f",
   "metadata": {},
   "source": [
    "# 4.GÖRÜNTÜLERDE AĞIRLIKLI TOPLAMA İŞLEMİ"
   ]
  },
  {
   "cell_type": "code",
   "execution_count": 8,
   "id": "afdaa7cc",
   "metadata": {},
   "outputs": [],
   "source": [
    "import cv2\n",
    "import numpy as np\n",
    "\n",
    "#Görüntülerde Ağırlıklı Toplama işlemi f(x,y) = x*a+ y*b + c formülasyonu üzerinden ilerler\n",
    "\n",
    "circle = np.zeros((512,512,3), np.uint8) + 255\n",
    "cv2.circle(circle, (256,256), 60, (255,0,0), thickness =-1)\n",
    "\n",
    "rectangle = np.zeros((512,512,3), np.uint8) +255\n",
    "cv2.rectangle(rectangle, (150,150), (350,350), (0,0,255), thickness = -1)\n",
    "\n",
    "\n",
    "#Görüntülerde Ağırlıklı Toplama işlemi f(x,y) = x*a+ y*b + c formülasyonu üzerinden ilerler\n",
    "\n",
    "\n",
    "dst = cv2.addWeighted(circle, 0.3, rectangle, 0.7 , 0 )\n",
    "\n",
    "\n",
    "cv2.imshow(\"circle\", circle)\n",
    "cv2.imshow(\"rectangle\", rectangle)\n",
    "cv2.imshow(\"dst\", dst)\n",
    "\n",
    "cv2.waitKey(0)\n",
    "cv2.destroyAllWindows()"
   ]
  },
  {
   "cell_type": "markdown",
   "id": "62ee92d8",
   "metadata": {},
   "source": [
    "ağırlıklı toplama işlemi resimleri belirli yoğunluklarda birbiri üzerine ekleme işlemine verilen addır"
   ]
  },
  {
   "cell_type": "markdown",
   "id": "a47e7d2d",
   "metadata": {},
   "source": [
    "garip bir şekilde 0.3 %30 oranındaki yoğunluğa 0.7 ise %70 oranındaki yoğunluğa karşılık gelmektedir"
   ]
  },
  {
   "cell_type": "markdown",
   "id": "db143e3d",
   "metadata": {},
   "source": [
    "görüntülerde toplama işlemi için resimlerin aynı boyutta olması gerekir"
   ]
  },
  {
   "cell_type": "code",
   "execution_count": null,
   "id": "8586179f",
   "metadata": {},
   "outputs": [],
   "source": []
  }
 ],
 "metadata": {
  "kernelspec": {
   "display_name": "Python 3",
   "language": "python",
   "name": "python3"
  },
  "language_info": {
   "codemirror_mode": {
    "name": "ipython",
    "version": 3
   },
   "file_extension": ".py",
   "mimetype": "text/x-python",
   "name": "python",
   "nbconvert_exporter": "python",
   "pygments_lexer": "ipython3",
   "version": "3.8.8"
  }
 },
 "nbformat": 4,
 "nbformat_minor": 5
}
