{
 "cells": [
  {
   "cell_type": "markdown",
   "id": "a3859265",
   "metadata": {},
   "source": [
    "# 6. VİDEOLARIN RENK UZAYINI DEĞİŞTİRME"
   ]
  },
  {
   "cell_type": "code",
   "execution_count": 5,
   "id": "6d83fd1f",
   "metadata": {},
   "outputs": [],
   "source": [
    "import cv2\n",
    "\n",
    "cap = cv2.VideoCapture(\"C:/Users/oguza/Desktop/klon/opencvvideo.mp4\")\n",
    "\n",
    "while True:\n",
    "    ret, frame = cap.read()\n",
    "    frame = cv2.cvtColor(frame, cv2.COLOR_BGR2HSV)\n",
    "    \n",
    "    if ret == False:\n",
    "        break \n",
    "        \n",
    "    cv2.imshow(\"video\", frame)\n",
    "    \n",
    "    if cv2.waitKey(30) == ord('q'):\n",
    "        break\n",
    "        \n",
    "cap.release()\n",
    "cv2.destroyAllWindows()\n"
   ]
  },
  {
   "cell_type": "markdown",
   "id": "bdb01353",
   "metadata": {},
   "source": [
    "frame = cv2.cvtColor(frame, cv2.COLOR_BGR2RGB)\n",
    "\n",
    "BGR2RGB, BGR2HSV, BGR2GRAY OLABİLİR"
   ]
  },
  {
   "cell_type": "code",
   "execution_count": null,
   "id": "3cb52cf3",
   "metadata": {},
   "outputs": [],
   "source": []
  }
 ],
 "metadata": {
  "kernelspec": {
   "display_name": "Python 3",
   "language": "python",
   "name": "python3"
  },
  "language_info": {
   "codemirror_mode": {
    "name": "ipython",
    "version": 3
   },
   "file_extension": ".py",
   "mimetype": "text/x-python",
   "name": "python",
   "nbconvert_exporter": "python",
   "pygments_lexer": "ipython3",
   "version": "3.8.8"
  }
 },
 "nbformat": 4,
 "nbformat_minor": 5
}
