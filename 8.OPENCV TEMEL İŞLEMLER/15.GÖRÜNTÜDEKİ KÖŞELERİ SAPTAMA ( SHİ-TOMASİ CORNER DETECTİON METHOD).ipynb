{
 "cells": [
  {
   "cell_type": "markdown",
   "id": "a3e0a1ed",
   "metadata": {},
   "source": [
    "# 15. GÖRÜNTÜDEKİ KÖŞELERİ SAPTAMA(SHİ-TOMASİ CORNER DETECTİON METHOD)"
   ]
  },
  {
   "cell_type": "code",
   "execution_count": 11,
   "id": "b3bfdb29",
   "metadata": {},
   "outputs": [],
   "source": [
    "import cv2\n",
    "import numpy as np\n",
    "\n",
    "img = cv2.imread(\"C:/Users/oguza/Desktop/opencvresimler/text.png\")\n",
    "\n",
    "gray = cv2.cvtColor(img, cv2.COLOR_BGR2GRAY)\n",
    "\n",
    "gray = np.float32(gray)\n",
    "\n",
    "corners = cv2.goodFeaturesToTrack(gray,100,0.01,10)\n",
    "\n",
    "corners = np.int0(corners)\n",
    "\n",
    "\n",
    "for corner in corners:\n",
    "    x,y = corner.ravel()\n",
    "    cv2.circle(img,(x,y),3,(0,0,255),-1)\n",
    "\n",
    "    \n",
    "cv2.imshow(\"corner\", img)\n",
    "cv2.waitKey(0)\n",
    "cv2.destroyAllWindows()\n",
    "    \n"
   ]
  },
  {
   "cell_type": "markdown",
   "id": "9b60a4fe",
   "metadata": {},
   "source": [
    "cv2.goodFeaturestoTrack fonksiyonunu corners değişkenine gönderdik\n",
    "\n",
    "cv2.goodFeaturesToTack(gray, bulmasını istediğimiz maksimum köşe sayısı, kalite değeri, köşeler arası minimum uzaklık değeri) \n",
    "\n",
    "cv2.goodFeaturesToTrack() fonksiyonu gray i direkt olarak işleyemiyor bu nedenle önce gray değerini float32(gray) şeklinde tanımlamamız gerekli\n",
    "\n",
    "cv2.goodFeaturesToTrack() fonksiyonu corners ı direkt olarak işleyemiyor bu nedenle corners ı önce integer a çevirmemiz gerekiyor\n",
    "\n"
   ]
  },
  {
   "cell_type": "code",
   "execution_count": 12,
   "id": "76bdcc5c",
   "metadata": {},
   "outputs": [],
   "source": [
    "import cv2\n",
    "import numpy as np\n",
    "\n",
    "img = cv2.imread(\"C:/Users/oguza/Desktop/opencvresimler/text.png\")\n",
    "img1 = cv2.imread(\"C:/Users/oguza/Desktop/opencvresimler/contour.png\")\n",
    "\n",
    "gray = cv2.cvtColor(img1,cv2.COLOR_BGR2GRAY)\n",
    "\n",
    "gray = np.float32(gray)\n",
    "corners = cv2.goodFeaturesToTrack(gray,1000,0.01,10)\n",
    "\n",
    "corners = np.int0(corners)\n",
    "\n",
    "for corner in corners:\n",
    "    x,y = corner.ravel()\n",
    "    cv2.circle(img1,(x,y),3,(0,0,255),-1)\n",
    "\n",
    "cv2.imshow(\"corner\",img1)\n",
    "\n",
    "cv2.waitKey(0)\n",
    "cv2.destroyAllWindows()\n"
   ]
  },
  {
   "cell_type": "code",
   "execution_count": null,
   "id": "391ea754",
   "metadata": {},
   "outputs": [],
   "source": []
  }
 ],
 "metadata": {
  "kernelspec": {
   "display_name": "Python 3",
   "language": "python",
   "name": "python3"
  },
  "language_info": {
   "codemirror_mode": {
    "name": "ipython",
    "version": 3
   },
   "file_extension": ".py",
   "mimetype": "text/x-python",
   "name": "python",
   "nbconvert_exporter": "python",
   "pygments_lexer": "ipython3",
   "version": "3.8.8"
  }
 },
 "nbformat": 4,
 "nbformat_minor": 5
}
