{
 "cells": [
  {
   "cell_type": "markdown",
   "id": "fbd29a43",
   "metadata": {},
   "source": [
    "# 9. BİTWİSE İŞLEÇLER (OPERATÖRLER)"
   ]
  },
  {
   "cell_type": "code",
   "execution_count": 8,
   "id": "5daf3151",
   "metadata": {},
   "outputs": [],
   "source": [
    "import cv2\n",
    "import numpy as np\n",
    "\n",
    "img1 = cv2.imread(\"C:/Users/oguza/Desktop/klon/bitwise_1.png\")\n",
    "img2 = cv2.imread(\"C:/Users/oguza/Desktop/klon/bitwise_2.png\")\n",
    "\n",
    "bit_and = cv2.bitwise_and(img2,img1)\n",
    "bit_or = cv2.bitwise_or(img2, img1)\n",
    "bit_xor = cv2.bitwise_or(img2,img1)\n",
    "bit_not = cv2.bitwise_not(img2)\n",
    "bit_not2 = cv2.bitwise_not(img1)\n",
    "\n",
    "cv2.imshow(\"img1\", img1)\n",
    "cv2.imshow(\"img2\", img2)\n",
    "cv2.imshow(\"bit_and\", bit_and)\n",
    "cv2.imshow(\"bit_or\", bit_or)\n",
    "cv2.imshow(\"bit_xor\", bit_xor)\n",
    "cv2.imshow(\"bit_not\", bit_not)\n",
    "cv2.imshow(\"bit_not2\", bit_not2)\n",
    "cv2.waitKey(0)\n",
    "cv2.destroyAllWindows()"
   ]
  },
  {
   "cell_type": "markdown",
   "id": "7e76ba47",
   "metadata": {},
   "source": [
    "bitwise ın olayı siyah beyazlardır matematikteki 0 1 ve veya mevzuları burada geçerlidir\n",
    "\n",
    "bitwise işlemlerde resimlerin 0 ve 1 leri karşılaştırılıyor ve buna göre işlemler yapılıyor\n",
    "\n",
    "1 0 0\n",
    "\n",
    "1 1 1\n",
    "\n",
    "0 1 0\n",
    "\n",
    "0 0 0 \n",
    "\n",
    "matris işlemleri vardır\n",
    "\n",
    "matematikteki mantık gibi düşün ve=bit_and , veya=bit_or, değil=bit_not   or ve not ın başka versionlarıda var"
   ]
  },
  {
   "cell_type": "code",
   "execution_count": null,
   "id": "529749a8",
   "metadata": {},
   "outputs": [],
   "source": []
  }
 ],
 "metadata": {
  "kernelspec": {
   "display_name": "Python 3",
   "language": "python",
   "name": "python3"
  },
  "language_info": {
   "codemirror_mode": {
    "name": "ipython",
    "version": 3
   },
   "file_extension": ".py",
   "mimetype": "text/x-python",
   "name": "python",
   "nbconvert_exporter": "python",
   "pygments_lexer": "ipython3",
   "version": "3.8.8"
  }
 },
 "nbformat": 4,
 "nbformat_minor": 5
}
