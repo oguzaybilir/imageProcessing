{
 "cells": [
  {
   "cell_type": "markdown",
   "id": "a184f91b",
   "metadata": {},
   "source": [
    "# 5. RENK UZAYI NEDİR, GÖRÜNTÜLERİN RENK UZAYI NASIL DEĞİŞTİRİLİR"
   ]
  },
  {
   "cell_type": "markdown",
   "id": "ecf6208a",
   "metadata": {},
   "source": [
    "her bir görüntü belirli bir renk uzayına sahiptir \n"
   ]
  },
  {
   "cell_type": "markdown",
   "id": "1be8070b",
   "metadata": {},
   "source": [
    "görüntülerin renk uzayını değiştirmek için kullanılan fonksiyon cv2.cvtColor() dır"
   ]
  },
  {
   "cell_type": "code",
   "execution_count": 4,
   "id": "db4d8d4f",
   "metadata": {},
   "outputs": [],
   "source": [
    "import cv2\n",
    "\n",
    "img = cv2.imread(\"C:/Users/oguza/Desktop/klon/klon.jpg\")\n",
    "\n",
    "img1 = cv2.cvtColor(img, cv2.COLOR_BGR2RGB)\n",
    "img2 = cv2.cvtColor(img, cv2.COLOR_RGB2HSV)\n",
    "img3 = cv2.cvtColor(img, cv2.COLOR_RGB2GRAY)\n",
    "\n",
    "\n",
    "cv2.imshow(\"pp.png\", img)\n",
    "cv2.imshow(\"pprgb.png\", img1)\n",
    "cv2.imshow(\"pphsv\", img2)\n",
    "cv2.imshow(\"ppgray\", img3)\n",
    "\n",
    "cv2.waitKey(0)\n",
    "cv2.destroyAllWindows()"
   ]
  },
  {
   "cell_type": "markdown",
   "id": "6e924c2e",
   "metadata": {},
   "source": [
    "gri bir görsel üzerinde çalışmak bgr bir resimle çalışmaktan daha kolaydır çünkü kanal verisi teklidir"
   ]
  },
  {
   "cell_type": "markdown",
   "id": "9d2685fb",
   "metadata": {},
   "source": [
    "cv2.cvtColor(uzayı değişecek resmin adı, cv2.COLOR_RESMİNUZAYI2YENİRESİMUZAYI)"
   ]
  },
  {
   "cell_type": "code",
   "execution_count": null,
   "id": "fa027ddf",
   "metadata": {},
   "outputs": [],
   "source": []
  }
 ],
 "metadata": {
  "kernelspec": {
   "display_name": "Python 3",
   "language": "python",
   "name": "python3"
  },
  "language_info": {
   "codemirror_mode": {
    "name": "ipython",
    "version": 3
   },
   "file_extension": ".py",
   "mimetype": "text/x-python",
   "name": "python",
   "nbconvert_exporter": "python",
   "pygments_lexer": "ipython3",
   "version": "3.8.8"
  }
 },
 "nbformat": 4,
 "nbformat_minor": 5
}
